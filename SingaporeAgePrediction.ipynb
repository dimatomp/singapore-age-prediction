{
 "cells": [
  {
   "cell_type": "code",
   "execution_count": 1,
   "metadata": {
    "collapsed": false
   },
   "outputs": [],
   "source": [
    "%matplotlib inline\n",
    "\n",
    "from matplotlib import pyplot as plt\n",
    "import pandas as pd\n",
    "import numpy as np\n",
    "\n",
    "oldNpRules = np.seterr(all='warn')"
   ]
  },
  {
   "cell_type": "code",
   "execution_count": 2,
   "metadata": {
    "collapsed": false
   },
   "outputs": [
    {
     "data": {
      "text/html": [
       "<div>\n",
       "<table border=\"1\" class=\"dataframe\">\n",
       "  <thead>\n",
       "    <tr style=\"text-align: right;\">\n",
       "      <th></th>\n",
       "      <th>ftopic_0</th>\n",
       "      <th>ftopic_1</th>\n",
       "      <th>ftopic_2</th>\n",
       "      <th>ftopic_3</th>\n",
       "      <th>ftopic_4</th>\n",
       "      <th>ftopic_5</th>\n",
       "    </tr>\n",
       "    <tr>\n",
       "      <th>_id</th>\n",
       "      <th></th>\n",
       "      <th></th>\n",
       "      <th></th>\n",
       "      <th></th>\n",
       "      <th></th>\n",
       "      <th></th>\n",
       "    </tr>\n",
       "  </thead>\n",
       "  <tbody>\n",
       "    <tr>\n",
       "      <th>15715d4a6ce45df597dfa36d7a29dd3e</th>\n",
       "      <td>0.002083</td>\n",
       "      <td>0.139462</td>\n",
       "      <td>0.078715</td>\n",
       "      <td>0.627223</td>\n",
       "      <td>0.115240</td>\n",
       "      <td>0.037278</td>\n",
       "    </tr>\n",
       "    <tr>\n",
       "      <th>70467a1614f271f06f2637c1b10e163e</th>\n",
       "      <td>0.000024</td>\n",
       "      <td>0.191960</td>\n",
       "      <td>0.000900</td>\n",
       "      <td>0.007175</td>\n",
       "      <td>0.742739</td>\n",
       "      <td>0.057202</td>\n",
       "    </tr>\n",
       "    <tr>\n",
       "      <th>3a50eac12596fd1e6b54abeccbab98ad</th>\n",
       "      <td>0.000333</td>\n",
       "      <td>0.629062</td>\n",
       "      <td>0.012583</td>\n",
       "      <td>0.006919</td>\n",
       "      <td>0.205120</td>\n",
       "      <td>0.145982</td>\n",
       "    </tr>\n",
       "    <tr>\n",
       "      <th>9a5e6a840aba8249f1a0f2a38bbe200e</th>\n",
       "      <td>0.002083</td>\n",
       "      <td>0.139462</td>\n",
       "      <td>0.078715</td>\n",
       "      <td>0.627223</td>\n",
       "      <td>0.115240</td>\n",
       "      <td>0.037278</td>\n",
       "    </tr>\n",
       "    <tr>\n",
       "      <th>3a68e91b400be1a634e75ccdcfc656a6</th>\n",
       "      <td>0.000531</td>\n",
       "      <td>0.556994</td>\n",
       "      <td>0.169057</td>\n",
       "      <td>0.011043</td>\n",
       "      <td>0.252864</td>\n",
       "      <td>0.009510</td>\n",
       "    </tr>\n",
       "  </tbody>\n",
       "</table>\n",
       "</div>"
      ],
      "text/plain": [
       "                                  ftopic_0  ftopic_1  ftopic_2  ftopic_3  \\\n",
       "_id                                                                        \n",
       "15715d4a6ce45df597dfa36d7a29dd3e  0.002083  0.139462  0.078715  0.627223   \n",
       "70467a1614f271f06f2637c1b10e163e  0.000024  0.191960  0.000900  0.007175   \n",
       "3a50eac12596fd1e6b54abeccbab98ad  0.000333  0.629062  0.012583  0.006919   \n",
       "9a5e6a840aba8249f1a0f2a38bbe200e  0.002083  0.139462  0.078715  0.627223   \n",
       "3a68e91b400be1a634e75ccdcfc656a6  0.000531  0.556994  0.169057  0.011043   \n",
       "\n",
       "                                  ftopic_4  ftopic_5  \n",
       "_id                                                   \n",
       "15715d4a6ce45df597dfa36d7a29dd3e  0.115240  0.037278  \n",
       "70467a1614f271f06f2637c1b10e163e  0.742739  0.057202  \n",
       "3a50eac12596fd1e6b54abeccbab98ad  0.205120  0.145982  \n",
       "9a5e6a840aba8249f1a0f2a38bbe200e  0.115240  0.037278  \n",
       "3a68e91b400be1a634e75ccdcfc656a6  0.252864  0.009510  "
      ]
     },
     "execution_count": 2,
     "metadata": {},
     "output_type": "execute_result"
    }
   ],
   "source": [
    "foursquareLDA6 = pd.read_csv('featuresSingapore/Foursquare/venueCategoriesLDA6Features.csv', index_col=\"_id\")\n",
    "foursquareLDA6.head()"
   ]
  },
  {
   "cell_type": "code",
   "execution_count": 3,
   "metadata": {
    "collapsed": false
   },
   "outputs": [
    {
     "name": "stderr",
     "output_type": "stream",
     "text": [
      "/nix/store/n16wpgk37iwnl7f9c8g6c5c8szr4mk4k-python3.5-pandas-0.17.1/lib/python3.5/site-packages/pandas/core/format.py:2087: RuntimeWarning: invalid value encountered in greater\n",
      "  has_large_values = (abs_vals > 1e8).any()\n",
      "/nix/store/n16wpgk37iwnl7f9c8g6c5c8szr4mk4k-python3.5-pandas-0.17.1/lib/python3.5/site-packages/pandas/core/format.py:2088: RuntimeWarning: invalid value encountered in less\n",
      "  has_small_values = ((abs_vals < 10 ** (-self.digits)) &\n",
      "/nix/store/n16wpgk37iwnl7f9c8g6c5c8szr4mk4k-python3.5-pandas-0.17.1/lib/python3.5/site-packages/pandas/core/format.py:2089: RuntimeWarning: invalid value encountered in greater\n",
      "  (abs_vals > 0)).any()\n"
     ]
    },
    {
     "data": {
      "text/html": [
       "<div>\n",
       "<table border=\"1\" class=\"dataframe\">\n",
       "  <thead>\n",
       "    <tr style=\"text-align: right;\">\n",
       "      <th></th>\n",
       "      <th>realAge</th>\n",
       "      <th>gender</th>\n",
       "      <th>ageGroup</th>\n",
       "      <th>education</th>\n",
       "      <th>work</th>\n",
       "      <th>relationship</th>\n",
       "      <th>education_level</th>\n",
       "      <th>occupation</th>\n",
       "    </tr>\n",
       "    <tr>\n",
       "      <th>row ID</th>\n",
       "      <th></th>\n",
       "      <th></th>\n",
       "      <th></th>\n",
       "      <th></th>\n",
       "      <th></th>\n",
       "      <th></th>\n",
       "      <th></th>\n",
       "      <th></th>\n",
       "    </tr>\n",
       "  </thead>\n",
       "  <tbody>\n",
       "    <tr>\n",
       "      <th>d0cc2d6caf6eb55ccf606770f24df2b5</th>\n",
       "      <td>NaN</td>\n",
       "      <td>female</td>\n",
       "      <td>NaN</td>\n",
       "      <td>NaN</td>\n",
       "      <td>NaN</td>\n",
       "      <td>NaN</td>\n",
       "      <td>NaN</td>\n",
       "      <td>NaN</td>\n",
       "    </tr>\n",
       "    <tr>\n",
       "      <th>eb4e2aa0bf687227821b17cfcd5365e3</th>\n",
       "      <td>NaN</td>\n",
       "      <td>female</td>\n",
       "      <td>NaN</td>\n",
       "      <td>Bukit Batok Secondary School ITE College West ...</td>\n",
       "      <td>NaN</td>\n",
       "      <td>NaN</td>\n",
       "      <td>college student</td>\n",
       "      <td>NaN</td>\n",
       "    </tr>\n",
       "    <tr>\n",
       "      <th>acfb8e93139fe820996b27ee3c6bc9db</th>\n",
       "      <td>NaN</td>\n",
       "      <td>male</td>\n",
       "      <td>AGE10_20</td>\n",
       "      <td>St Patrick&amp;#039;s School, Singapore Class of 2...</td>\n",
       "      <td>NaN</td>\n",
       "      <td>single</td>\n",
       "      <td>college student</td>\n",
       "      <td>NaN</td>\n",
       "    </tr>\n",
       "    <tr>\n",
       "      <th>ea251951bd3c7667daf214e8efa92f4e</th>\n",
       "      <td>NaN</td>\n",
       "      <td>female</td>\n",
       "      <td>NaN</td>\n",
       "      <td>NaN</td>\n",
       "      <td>NaN</td>\n",
       "      <td>NaN</td>\n",
       "      <td>NaN</td>\n",
       "      <td>NaN</td>\n",
       "    </tr>\n",
       "    <tr>\n",
       "      <th>f8f7b497ad8167535345bfc3d59d6aaa</th>\n",
       "      <td>NaN</td>\n",
       "      <td>female</td>\n",
       "      <td>NaN</td>\n",
       "      <td>NaN</td>\n",
       "      <td>PT. Duta Marga Lestarindo September 2013 to pr...</td>\n",
       "      <td>NaN</td>\n",
       "      <td>NaN</td>\n",
       "      <td>archetecture and engineering</td>\n",
       "    </tr>\n",
       "  </tbody>\n",
       "</table>\n",
       "</div>"
      ],
      "text/plain": [
       "                                  realAge  gender  ageGroup  \\\n",
       "row ID                                                        \n",
       "d0cc2d6caf6eb55ccf606770f24df2b5      NaN  female       NaN   \n",
       "eb4e2aa0bf687227821b17cfcd5365e3      NaN  female       NaN   \n",
       "acfb8e93139fe820996b27ee3c6bc9db      NaN    male  AGE10_20   \n",
       "ea251951bd3c7667daf214e8efa92f4e      NaN  female       NaN   \n",
       "f8f7b497ad8167535345bfc3d59d6aaa      NaN  female       NaN   \n",
       "\n",
       "                                                                          education  \\\n",
       "row ID                                                                                \n",
       "d0cc2d6caf6eb55ccf606770f24df2b5                                                NaN   \n",
       "eb4e2aa0bf687227821b17cfcd5365e3  Bukit Batok Secondary School ITE College West ...   \n",
       "acfb8e93139fe820996b27ee3c6bc9db  St Patrick&#039;s School, Singapore Class of 2...   \n",
       "ea251951bd3c7667daf214e8efa92f4e                                                NaN   \n",
       "f8f7b497ad8167535345bfc3d59d6aaa                                                NaN   \n",
       "\n",
       "                                                                               work  \\\n",
       "row ID                                                                                \n",
       "d0cc2d6caf6eb55ccf606770f24df2b5                                                NaN   \n",
       "eb4e2aa0bf687227821b17cfcd5365e3                                                NaN   \n",
       "acfb8e93139fe820996b27ee3c6bc9db                                                NaN   \n",
       "ea251951bd3c7667daf214e8efa92f4e                                                NaN   \n",
       "f8f7b497ad8167535345bfc3d59d6aaa  PT. Duta Marga Lestarindo September 2013 to pr...   \n",
       "\n",
       "                                 relationship  education_level  \\\n",
       "row ID                                                           \n",
       "d0cc2d6caf6eb55ccf606770f24df2b5          NaN              NaN   \n",
       "eb4e2aa0bf687227821b17cfcd5365e3          NaN  college student   \n",
       "acfb8e93139fe820996b27ee3c6bc9db       single  college student   \n",
       "ea251951bd3c7667daf214e8efa92f4e          NaN              NaN   \n",
       "f8f7b497ad8167535345bfc3d59d6aaa          NaN              NaN   \n",
       "\n",
       "                                                    occupation  \n",
       "row ID                                                          \n",
       "d0cc2d6caf6eb55ccf606770f24df2b5                           NaN  \n",
       "eb4e2aa0bf687227821b17cfcd5365e3                           NaN  \n",
       "acfb8e93139fe820996b27ee3c6bc9db                           NaN  \n",
       "ea251951bd3c7667daf214e8efa92f4e                           NaN  \n",
       "f8f7b497ad8167535345bfc3d59d6aaa  archetecture and engineering  "
      ]
     },
     "execution_count": 3,
     "metadata": {},
     "output_type": "execute_result"
    }
   ],
   "source": [
    "facebookAnswers = pd.read_csv('SingaporeGroundTruth.csv', encoding='latin1', index_col=\"row ID\")\n",
    "facebookAnswers.head()"
   ]
  },
  {
   "cell_type": "code",
   "execution_count": 4,
   "metadata": {
    "collapsed": false
   },
   "outputs": [
    {
     "name": "stdout",
     "output_type": "stream",
     "text": [
      "\n",
      "|-------------2 months (train)-------------|-----1 month (test)------|\n",
      "|-------------------------3 months (train)---------------------------|-------------2 months (test)--------------|\n",
      "|---------------------------------------------------5 months----------------------------------------------------|\n",
      "\n"
     ]
    }
   ],
   "source": [
    "with open('featuresSingapore/Foursquare/descriptions/venueCategoriesFeaturesDescription', 'r') as f: print(f.read())"
   ]
  },
  {
   "cell_type": "code",
   "execution_count": 5,
   "metadata": {
    "collapsed": false
   },
   "outputs": [],
   "source": [
    "from sklearn.ensemble import RandomForestRegressor, RandomForestClassifier\n",
    "from sklearn.cross_validation import train_test_split, cross_val_score, KFold\n",
    "from sklearn.metrics import accuracy_score, average_precision_score\n",
    "from sklearn.linear_model import LogisticRegression\n",
    "from sklearn.svm import LinearSVC"
   ]
  },
  {
   "cell_type": "code",
   "execution_count": 6,
   "metadata": {
    "collapsed": false
   },
   "outputs": [],
   "source": [
    "foursquare5Months = pd.read_csv('featuresSingapore/Foursquare/venueCategoriesFeatures5Months.csv', index_col=\"_id\")\n",
    "instagramWhole = pd.read_csv('featuresSingapore/Instagram/imageConceptsFeatures.csv', index_col='_id')\n",
    "twitterLDA50 = pd.read_csv('featuresSingapore/Twitter/LDA50Features.csv', index_col='_id')\n",
    "twitterLIWC = pd.read_csv('featuresSingapore/Twitter/LIWCFeatures.csv', index_col='_id')\n",
    "twitterManual = pd.read_csv('featuresSingapore/Twitter/manuallyDefinedTextFeatures.csv', index_col='_id')"
   ]
  },
  {
   "cell_type": "code",
   "execution_count": 7,
   "metadata": {
    "collapsed": false
   },
   "outputs": [
    {
     "data": {
      "text/plain": [
       "row ID\n",
       "d0cc2d6caf6eb55ccf606770f24df2b5    female\n",
       "eb4e2aa0bf687227821b17cfcd5365e3    female\n",
       "acfb8e93139fe820996b27ee3c6bc9db      male\n",
       "ea251951bd3c7667daf214e8efa92f4e    female\n",
       "f8f7b497ad8167535345bfc3d59d6aaa    female\n",
       "b6c4d3acf3f90ada2439e2f5668cdc07      male\n",
       "1c1405656095a093c00d32d99d4fdbba      male\n",
       "ebf87b9e2429bcf060e7db769c1367e6    female\n",
       "9fc4094591ce99cab44bafbc9644dfe9    female\n",
       "ec7980ca47e2864432025a78a71ba3cc    female\n",
       "65b308410a4cbcd64426050b7b579345    female\n",
       "6c209653fb1c78f2ceb117136e62e218      male\n",
       "7e78bfe271ed998a4f3250a9a98043ce    female\n",
       "40d8760be9ed3b6e806cc4966b567037      male\n",
       "1070f07beea368659caf60ed3c668376      male\n",
       "32ca67d052deeef4cfdcf6cb43093184    female\n",
       "804a816175cf32491238ee72f99461da    female\n",
       "188969e15d5201a0fe44834c25ea41bd      male\n",
       "d17099a61d71e845dc0f4c025266f452    female\n",
       "3d1997a734cb3c166032a312a63e06aa      male\n",
       "8dd3595e30eed2ed2bce504a9f101d11      male\n",
       "007e7e8169021679d9f95b2e5a9d17c4      male\n",
       "972ee180226f610d2c2a7056e3b1ed19      male\n",
       "f47685d051e8db6b43523eaad3cabc89      male\n",
       "6c70c0f28f77ddeaaf595e494f37741d    female\n",
       "2171ab486e0cb6701c9bb50d34b3db22      male\n",
       "de208b2f7eb77ec74f6bc67363e52f85      male\n",
       "6e2828ef1db3c71e1f1e385a5a02df52      male\n",
       "1dbfa1d013348121219ffafafce23416    female\n",
       "e718bc85784f3cd79b854095abeaa73d      male\n",
       "                                     ...  \n",
       "a69565227c6cd96d94d6b4bca4473d73      male\n",
       "9380513116124d59693d9da5098ed948    female\n",
       "47f8428f63f280e27b7079c3bae4f1ca    female\n",
       "586c550a54ee772801fb0c451255891c      male\n",
       "13147be5eb896edb3ede96395e3d22f4      male\n",
       "5215556228096e1febcf31c204daf72c      male\n",
       "7a14575f0862da79d5605ec8f977d25b      male\n",
       "c9f5228dfe8ac341574b23cfd4728cf3      male\n",
       "5c811c968a17b9d2f471f6572fc84e97    female\n",
       "1a867bea4830bc703950c6d95f9eaf25      male\n",
       "db12e21d6ea8d3f20ee92430de1579c1    female\n",
       "5224da4862f44beb500d8da9d0de7cc5      male\n",
       "61e553c081f5e6b163b167d6837d1fa0      male\n",
       "3b6cdd70fff291e6cc3205d7ccea43a1      male\n",
       "69a865087bef24e026686a67b064ff30    female\n",
       "4f8162c5b18d09217fee5e7b1aa1d43d      male\n",
       "db55c44487f6182c00564b3e4668bbf6      male\n",
       "cbe87307a05a9b2cb40bbfcf139b49ff    female\n",
       "334b2fd75fa5f5c2a5d4a030b80d31f1    female\n",
       "dc018fb5ee1d86cbd177a113a135caa5      male\n",
       "9b155bb5fad7a07ca3a9d66333673fd7    female\n",
       "fa0d411fc801d15aed20640103c5bee8      male\n",
       "5eb5c1620f9c35ac0700bfae24babeaa      male\n",
       "ea6cf076a868afeeab6b2e18ea3883de      male\n",
       "d704a8699a8d5e09f763e5b1213a82cb    female\n",
       "f9467ea0a3864f348435157042bb05eb    female\n",
       "c80f4b41acde216536b79f79dd92c8b2    female\n",
       "c3d472f6a330e0df9d5eab803be63b9b    female\n",
       "06b733946f6242dd76add1d032a2d61b    female\n",
       "ceefd2f3c96696ad321fea97bd94a930      male\n",
       "Name: gender, dtype: object"
      ]
     },
     "execution_count": 7,
     "metadata": {},
     "output_type": "execute_result"
    }
   ],
   "source": [
    "facebookAnswers.gender"
   ]
  },
  {
   "cell_type": "code",
   "execution_count": 8,
   "metadata": {
    "collapsed": false
   },
   "outputs": [
    {
     "data": {
      "text/plain": [
       "row ID\n",
       "d0cc2d6caf6eb55ccf606770f24df2b5    1\n",
       "eb4e2aa0bf687227821b17cfcd5365e3    1\n",
       "acfb8e93139fe820996b27ee3c6bc9db    0\n",
       "ea251951bd3c7667daf214e8efa92f4e    1\n",
       "f8f7b497ad8167535345bfc3d59d6aaa    1\n",
       "Name: gender, dtype: int64"
      ]
     },
     "execution_count": 8,
     "metadata": {},
     "output_type": "execute_result"
    }
   ],
   "source": [
    "def binarize(arr): return np.where(arr == 'female', 1, 0)\n",
    "facebookGender = facebookAnswers.gender.dropna().apply(binarize)\n",
    "facebookGender.head()"
   ]
  },
  {
   "cell_type": "code",
   "execution_count": 9,
   "metadata": {
    "collapsed": false
   },
   "outputs": [
    {
     "data": {
      "text/plain": [
       "cfb7d89ba18299ffa6e462085db09b8b    0\n",
       "e393c39e8095ff5aae0be885cda082a4    0\n",
       "e975307e3661721e7405ec3719945e9e    1\n",
       "8d09468583b985ff14d61f63cb637e9f    1\n",
       "895bd593d8e0425c4f9cf52a82388f31    1\n",
       "Name: gender, dtype: int64"
      ]
     },
     "execution_count": 9,
     "metadata": {},
     "output_type": "execute_result"
    }
   ],
   "source": [
    "facebookReliableGender = facebookAnswers[[\"realAge\", \"gender\"]].dropna(how=\"any\").gender\n",
    "facebookReliableGenderIndex = facebookReliableGender.index\n",
    "for dataset in [foursquare5Months, instagramWhole, twitterLDA50, twitterLIWC, twitterManual]:\n",
    "    facebookReliableGenderIndex = facebookReliableGenderIndex.intersection(dataset.index)\n",
    "facebookReliableGender = facebookReliableGender.loc[facebookReliableGenderIndex].apply(binarize)\n",
    "facebookReliableGender.head()"
   ]
  },
  {
   "cell_type": "code",
   "execution_count": 10,
   "metadata": {
    "collapsed": false
   },
   "outputs": [
    {
     "data": {
      "text/plain": [
       "0001fdb89ad0ffac6ab432b288b93e91    0\n",
       "001e73b8bf12f18d96deb22dca3d5a17    0\n",
       "003de0c9141ab503f3aa011c3c51cf45    1\n",
       "005846808079907cec0694ce9685441b    1\n",
       "006517a0c936d67827fae17d12bbeebf    1\n",
       "Name: gender, dtype: int64"
      ]
     },
     "execution_count": 10,
     "metadata": {},
     "output_type": "execute_result"
    }
   ],
   "source": [
    "facebookGenderOther = facebookGender.loc[facebookGender.index.difference(facebookReliableGender.index)]\n",
    "facebookGenderOther.head()"
   ]
  },
  {
   "cell_type": "code",
   "execution_count": 11,
   "metadata": {
    "collapsed": true
   },
   "outputs": [],
   "source": [
    "foursquare5MonthsGender = foursquare5Months.loc[facebookGender.index]\n",
    "instagramGender = instagramWhole.loc[facebookGender.index]\n",
    "twitterLDA50Gender = twitterLDA50.loc[facebookGender.index]\n",
    "twitterLIWCGender = twitterLIWC.loc[facebookGender.index]\n",
    "twitterManualGender = twitterManual.loc[facebookGender.index]\n",
    "lateFusionGender = [\n",
    "    (foursquare5MonthsGender, 140, foursquare5MonthsGender.categoryMentions.fillna(value=0)), \n",
    "    (instagramGender, 130, instagramGender.numberOfImages.fillna(value=0)), \n",
    "    (twitterLDA50Gender, 70, twitterManualGender.numberOfTweets.fillna(value=0)), \n",
    "    (twitterLIWCGender, 120, twitterManualGender.numberOfTweets.fillna(value=0)), \n",
    "    (twitterManualGender, 75, twitterManualGender.numberOfTweets.fillna(value=0))\n",
    "]"
   ]
  },
  {
   "cell_type": "code",
   "execution_count": 12,
   "metadata": {
    "collapsed": false
   },
   "outputs": [
    {
     "data": {
      "text/plain": [
       "(4913, 5)"
      ]
     },
     "execution_count": 12,
     "metadata": {},
     "output_type": "execute_result"
    }
   ],
   "source": [
    "genderCls = []\n",
    "genderProbas = []\n",
    "for dataset, nEstimators, count in lateFusionGender:\n",
    "    dataOtherUsers = dataset.loc[facebookGenderOther.index].dropna()\n",
    "    facebookLocal = facebookGenderOther.loc[dataOtherUsers.index]\n",
    "    clf = RandomForestClassifier(n_estimators=nEstimators).fit(dataOtherUsers, facebookLocal)\n",
    "    probas = clf.predict(dataset.fillna(value=0))\n",
    "    genderCls.append(clf)\n",
    "    genderProbas.append(probas)\n",
    "genderProbas = np.array(genderProbas).T\n",
    "genderProbas.shape"
   ]
  },
  {
   "cell_type": "code",
   "execution_count": 13,
   "metadata": {
    "collapsed": false
   },
   "outputs": [
    {
     "data": {
      "text/plain": [
       "(4913, 5)"
      ]
     },
     "execution_count": 13,
     "metadata": {},
     "output_type": "execute_result"
    }
   ],
   "source": [
    "strengthsGender = []\n",
    "for _, _, count in lateFusionGender:\n",
    "    strengthsGender.append(count / count.mean())\n",
    "strengthsGender = np.array(strengthsGender).T\n",
    "strengthsGender.shape"
   ]
  },
  {
   "cell_type": "code",
   "execution_count": 15,
   "metadata": {
    "collapsed": true
   },
   "outputs": [],
   "source": [
    "def macro_accuracy(y, y_pred):\n",
    "    res = [np.count_nonzero((y == cls) & (cls == y_pred)) / np.count_nonzero(y == cls) for cls in set(y)]\n",
    "    return sum(res) / len(res)"
   ]
  },
  {
   "cell_type": "code",
   "execution_count": 17,
   "metadata": {
    "collapsed": false
   },
   "outputs": [
    {
     "data": {
      "text/plain": [
       "array([ 0.66444537,  0.71442823,  0.75926138,  0.7045844 ,  0.67328651])"
      ]
     },
     "execution_count": 17,
     "metadata": {},
     "output_type": "execute_result"
    }
   ],
   "source": [
    "accuraciesGender = []\n",
    "def scoringCV(est, X, y): return macro_accuracy(y, est.predict(X))\n",
    "for dataset, nEstimators, _ in lateFusionGender:\n",
    "    dataOtherUsers = dataset.loc[facebookGenderOther.index].dropna()\n",
    "    facebookLocal = facebookGenderOther.loc[dataOtherUsers.index]\n",
    "    clf = RandomForestClassifier(n_estimators=nEstimators)\n",
    "    cvs = cross_val_score(clf, dataOtherUsers, facebookLocal, cv=10, n_jobs=4, scoring=scoringCV)\n",
    "    accuraciesGender.append(cvs.mean())\n",
    "accuraciesGender = np.array(accuraciesGender)\n",
    "accuraciesGender"
   ]
  },
  {
   "cell_type": "code",
   "execution_count": 18,
   "metadata": {
    "collapsed": false
   },
   "outputs": [],
   "source": [
    "estimates = genderProbas * strengthsGender * accuraciesGender\n",
    "for num, data in enumerate(lateFusionGender):\n",
    "    data[0]['estimate'] = estimates[:,num]"
   ]
  },
  {
   "cell_type": "code",
   "execution_count": 19,
   "metadata": {
    "collapsed": false
   },
   "outputs": [
    {
     "data": {
      "text/plain": [
       "((4602, 5), (311, 5))"
      ]
     },
     "execution_count": 19,
     "metadata": {},
     "output_type": "execute_result"
    }
   ],
   "source": [
    "estimatesTrain = np.array([data[0].estimate.loc[facebookGenderOther.index] for data in lateFusionGender]).T\n",
    "estimatesTest = np.array([data[0].estimate.loc[facebookReliableGender.index] for data in lateFusionGender]).T\n",
    "for dataset, _, _ in lateFusionGender:\n",
    "    del dataset['estimate']\n",
    "estimatesTrain.shape, estimatesTest.shape"
   ]
  },
  {
   "cell_type": "code",
   "execution_count": 20,
   "metadata": {
    "collapsed": false
   },
   "outputs": [
    {
     "data": {
      "text/plain": [
       "0.6737429237429238"
      ]
     },
     "execution_count": 20,
     "metadata": {},
     "output_type": "execute_result"
    }
   ],
   "source": [
    "logreg = LogisticRegression().fit(estimatesTrain, facebookGenderOther)\n",
    "probas = logreg.predict(estimatesTest)\n",
    "macro_accuracy(facebookReliableGender, probas)"
   ]
  },
  {
   "cell_type": "code",
   "execution_count": 21,
   "metadata": {
    "collapsed": false
   },
   "outputs": [
    {
     "data": {
      "text/plain": [
       "{'AGE10_20': 0, 'AGE20_30': 1, 'AGE30_40': 2, 'AGE40_50': 3, 'AGE50_INF': 4}"
      ]
     },
     "execution_count": 21,
     "metadata": {},
     "output_type": "execute_result"
    }
   ],
   "source": [
    "ageGroupClasses = sorted(set(facebookAnswers.ageGroup.dropna()))\n",
    "ageGroupClasses = {name: num for num, name in enumerate(ageGroupClasses)}\n",
    "ageGroupClasses"
   ]
  },
  {
   "cell_type": "code",
   "execution_count": 22,
   "metadata": {
    "collapsed": false
   },
   "outputs": [
    {
     "data": {
      "text/plain": [
       "row ID\n",
       "acfb8e93139fe820996b27ee3c6bc9db    0\n",
       "b6c4d3acf3f90ada2439e2f5668cdc07    1\n",
       "1c1405656095a093c00d32d99d4fdbba    2\n",
       "7e78bfe271ed998a4f3250a9a98043ce    0\n",
       "1070f07beea368659caf60ed3c668376    1\n",
       "Name: ageGroup, dtype: int64"
      ]
     },
     "execution_count": 22,
     "metadata": {},
     "output_type": "execute_result"
    }
   ],
   "source": [
    "facebookAgeGroup = facebookAnswers.ageGroup.dropna().map(ageGroupClasses)\n",
    "facebookAgeGroup.head()"
   ]
  },
  {
   "cell_type": "code",
   "execution_count": 23,
   "metadata": {
    "collapsed": false
   },
   "outputs": [
    {
     "data": {
      "text/plain": [
       "cfb7d89ba18299ffa6e462085db09b8b    0\n",
       "e393c39e8095ff5aae0be885cda082a4    1\n",
       "e975307e3661721e7405ec3719945e9e    1\n",
       "8d09468583b985ff14d61f63cb637e9f    2\n",
       "895bd593d8e0425c4f9cf52a82388f31    1\n",
       "3e8cf61f8898a7c2432092f1345b84c4    0\n",
       "85ee10e6bc63a3a6faac5abd4e2ae24d    1\n",
       "3e87440810b221ec9d52056ea5fbc0cf    1\n",
       "1069c60f75b4b758b519db2efd753b92    4\n",
       "e916eb98ccc1dc8ae3499459d32ffb0c    0\n",
       "200ebcc8836fe8db0ca505a42da6aeed    0\n",
       "ea6c9638d021dbec6de3aaab20ef3087    0\n",
       "28d236054ca8e17c21296a77d8af3e10    1\n",
       "2e074716bba64c57d1fd003c64f560e6    1\n",
       "cb516ddd8b9943d391b71c357d714061    1\n",
       "d8efa1eaad69eac0048b32b85f311737    0\n",
       "1070f07beea368659caf60ed3c668376    1\n",
       "4361f6808bb41985b543444c550ddfcd    1\n",
       "ce779c2bbb6f11d122ea2828fe17e9c5    1\n",
       "b999b0cdf2cd2b455f2a4d2ea90335b3    1\n",
       "Name: ageGroup, dtype: int64"
      ]
     },
     "execution_count": 23,
     "metadata": {},
     "output_type": "execute_result"
    }
   ],
   "source": [
    "facebookAgeGroupReliable = facebookAnswers[['realAge', 'ageGroup']].dropna(how='any').ageGroup.map(ageGroupClasses)\n",
    "facebookAgeGroupReliableIndex = facebookAgeGroupReliable.index\n",
    "for dataset in [foursquare5Months, instagramWhole, twitterLDA50, twitterLIWC, twitterManual]:\n",
    "    facebookAgeGroupReliableIndex = facebookAgeGroupReliableIndex.intersection(dataset.index)\n",
    "facebookAgeGroupReliable = facebookAgeGroupReliable.loc[facebookAgeGroupReliableIndex]\n",
    "facebookAgeGroupReliable.head(20)"
   ]
  },
  {
   "cell_type": "code",
   "execution_count": 24,
   "metadata": {
    "collapsed": false
   },
   "outputs": [
    {
     "data": {
      "text/plain": [
       "0001fdb89ad0ffac6ab432b288b93e91    0\n",
       "00726a917f3718d8708ea4acfead78ef    1\n",
       "00858fa3e354f0c7b8b9d985b77c0980    0\n",
       "0178af0adcb347a487fd38cc2993d3cc    1\n",
       "0195953cbbe7eb68e58f0f8ad44c1139    1\n",
       "01d243ee6d3dc4f65e4acaad0a5c5b0f    1\n",
       "022748be87d354c2cc61341e034888b0    1\n",
       "026591200b0faea85a8e154c3b91c9c3    0\n",
       "0299e560adb729152412b2d58987f81a    1\n",
       "02a942f7fcd783f227080f909021edbc    0\n",
       "047bc95b152871a0d1eab6edfc1973d2    0\n",
       "051138e8d07e68f9ec6ba8bbe6794767    0\n",
       "05266544e92a7c66d0d3ba5d7f0ccab5    1\n",
       "05348ee36a60a9853a66a66ca9742db2    0\n",
       "055b74ea4fceb8581717b0a59c172711    2\n",
       "05bfc9953b5a655f921e1bd34a103956    1\n",
       "05dd9b807f9c169bf34045e5a83dd715    0\n",
       "06548d2bd2c62775d6b6bdc37e93d155    1\n",
       "06a73064049462fd9f5ce3140dae53eb    1\n",
       "06fc091ad3df6266fd59a4f907d47772    1\n",
       "Name: ageGroup, dtype: int64"
      ]
     },
     "execution_count": 24,
     "metadata": {},
     "output_type": "execute_result"
    }
   ],
   "source": [
    "facebookAgeGroupOther = facebookAgeGroup.loc[facebookAgeGroup.index.difference(facebookAgeGroupReliable.index)]\n",
    "facebookAgeGroupOther.head(20)"
   ]
  },
  {
   "cell_type": "code",
   "execution_count": 25,
   "metadata": {
    "collapsed": false
   },
   "outputs": [],
   "source": [
    "foursquare5MonthsAgeGroup = foursquare5Months.loc[facebookAgeGroup.index]\n",
    "instagramAgeGroup = instagramWhole.loc[facebookAgeGroup.index]\n",
    "twitterLDA50AgeGroup = twitterLDA50.loc[facebookAgeGroup.index]\n",
    "twitterLIWCAgeGroup = twitterLIWC.loc[facebookAgeGroup.index]\n",
    "twitterManualAgeGroup = twitterManual.loc[facebookAgeGroup.index]\n",
    "lateFusionAgeGroup = [\n",
    "    (foursquare5MonthsAgeGroup, 140, foursquare5MonthsAgeGroup.categoryMentions.fillna(value=0)), \n",
    "    (instagramAgeGroup, 130, instagramAgeGroup.numberOfImages.fillna(value=0)), \n",
    "    (twitterLDA50AgeGroup, 70, twitterManualAgeGroup.numberOfTweets.fillna(value=0)), \n",
    "    (twitterLIWCAgeGroup, 120, twitterManualAgeGroup.numberOfTweets.fillna(value=0)), \n",
    "    (twitterManualAgeGroup, 75, twitterManualAgeGroup.numberOfTweets.fillna(value=0))\n",
    "]"
   ]
  },
  {
   "cell_type": "code",
   "execution_count": 26,
   "metadata": {
    "collapsed": false
   },
   "outputs": [
    {
     "data": {
      "text/plain": [
       "(1284, 5, 5)"
      ]
     },
     "execution_count": 26,
     "metadata": {},
     "output_type": "execute_result"
    }
   ],
   "source": [
    "singleTrainTestAge = []\n",
    "singleProbasAge = []\n",
    "for dataset, nEstimators, count in lateFusionAgeGroup:\n",
    "    dataOtherUsers = dataset.loc[facebookAgeGroupOther.index].dropna()\n",
    "    facebookLocal = facebookAgeGroupOther.loc[dataOtherUsers.index]\n",
    "    clf = RandomForestClassifier(n_estimators=nEstimators).fit(dataOtherUsers, facebookLocal)\n",
    "    probas = clf.predict_proba(dataset.fillna(value=0))\n",
    "    singleTrainTestAge.append(clf)\n",
    "    singleProbasAge.append(probas)\n",
    "singleProbasAge = np.array(singleProbasAge).swapaxes(0, 1)\n",
    "singleProbasAge.shape"
   ]
  },
  {
   "cell_type": "code",
   "execution_count": 27,
   "metadata": {
    "collapsed": false
   },
   "outputs": [
    {
     "name": "stderr",
     "output_type": "stream",
     "text": [
      "/nix/store/n12nlyxbcqlz49ajdz87g5489xqzvr3g-python3.5-scikit-learn-0.17.1/lib/python3.5/site-packages/sklearn/cross_validation.py:516: Warning: The least populated class in y has only 3 members, which is too few. The minimum number of labels for any class cannot be less than n_folds=10.\n",
      "  % (min_labels, self.n_folds)), Warning)\n"
     ]
    },
    {
     "name": "stdout",
     "output_type": "stream",
     "text": [
      "[ 0.26634146  0.24894309  0.25264929  0.33662742  0.32338099  0.32085786\n",
      "  0.30004205  0.33452481  0.30109336  0.2487069 ]\n"
     ]
    },
    {
     "name": "stderr",
     "output_type": "stream",
     "text": [
      "/nix/store/n12nlyxbcqlz49ajdz87g5489xqzvr3g-python3.5-scikit-learn-0.17.1/lib/python3.5/site-packages/sklearn/cross_validation.py:516: Warning: The least populated class in y has only 1 members, which is too few. The minimum number of labels for any class cannot be less than n_folds=10.\n",
      "  % (min_labels, self.n_folds)), Warning)\n"
     ]
    },
    {
     "name": "stdout",
     "output_type": "stream",
     "text": [
      "[ 0.20871143  0.2699637   0.27726002  0.27236719  0.29077353  0.28098788\n",
      "  0.24464119  0.28933398  0.26061776  0.26906371]\n"
     ]
    },
    {
     "name": "stderr",
     "output_type": "stream",
     "text": [
      "/nix/store/n12nlyxbcqlz49ajdz87g5489xqzvr3g-python3.5-scikit-learn-0.17.1/lib/python3.5/site-packages/sklearn/cross_validation.py:516: Warning: The least populated class in y has only 3 members, which is too few. The minimum number of labels for any class cannot be less than n_folds=10.\n",
      "  % (min_labels, self.n_folds)), Warning)\n"
     ]
    },
    {
     "name": "stdout",
     "output_type": "stream",
     "text": [
      "[ 0.34097561  0.34178862  0.26846089  0.33662742  0.36648444  0.37338099\n",
      "  0.35639193  0.33809924  0.37973087  0.30344828]\n"
     ]
    },
    {
     "name": "stderr",
     "output_type": "stream",
     "text": [
      "/nix/store/n12nlyxbcqlz49ajdz87g5489xqzvr3g-python3.5-scikit-learn-0.17.1/lib/python3.5/site-packages/sklearn/cross_validation.py:516: Warning: The least populated class in y has only 3 members, which is too few. The minimum number of labels for any class cannot be less than n_folds=10.\n",
      "  % (min_labels, self.n_folds)), Warning)\n"
     ]
    },
    {
     "name": "stdout",
     "output_type": "stream",
     "text": [
      "[ 0.28634146  0.28406504  0.29063078  0.40239697  0.3244323   0.3647603\n",
      "  0.32695542  0.34924306  0.33405172  0.31443966]\n"
     ]
    },
    {
     "name": "stderr",
     "output_type": "stream",
     "text": [
      "/nix/store/n12nlyxbcqlz49ajdz87g5489xqzvr3g-python3.5-scikit-learn-0.17.1/lib/python3.5/site-packages/sklearn/cross_validation.py:516: Warning: The least populated class in y has only 3 members, which is too few. The minimum number of labels for any class cannot be less than n_folds=10.\n",
      "  % (min_labels, self.n_folds)), Warning)\n"
     ]
    },
    {
     "name": "stdout",
     "output_type": "stream",
     "text": [
      "[ 0.31737595  0.30442389  0.29688814  0.42468461  0.37947855  0.32780172\n",
      "  0.29181034  0.33017241  0.32931034  0.27758621]\n"
     ]
    },
    {
     "data": {
      "text/plain": [
       "array([ 0.29331672,  0.26637204,  0.34053883,  0.32773167,  0.32795322])"
      ]
     },
     "execution_count": 27,
     "metadata": {},
     "output_type": "execute_result"
    }
   ],
   "source": [
    "accuraciesAge = []\n",
    "def scoringCV(est, X, y): return macro_accuracy(y.values, est.predict(X))\n",
    "for dataset, nEstimators, _ in lateFusionAgeGroup:\n",
    "    dataOtherUsers = dataset.loc[facebookAgeGroupOther.index].dropna()\n",
    "    facebookLocal = facebookAgeGroupOther.loc[dataOtherUsers.index]\n",
    "    clf = RandomForestClassifier(n_estimators=nEstimators)\n",
    "    cvs = cross_val_score(clf, dataOtherUsers, facebookLocal, cv=10, n_jobs=4, scoring=scoringCV)\n",
    "    print(cvs)\n",
    "    accuraciesAge.append(cvs.mean())\n",
    "accuraciesAge = np.array(accuraciesAge)\n",
    "accuraciesAge"
   ]
  },
  {
   "cell_type": "code",
   "execution_count": 28,
   "metadata": {
    "collapsed": false
   },
   "outputs": [
    {
     "data": {
      "text/plain": [
       "(1284, 5, 5)"
      ]
     },
     "execution_count": 28,
     "metadata": {},
     "output_type": "execute_result"
    }
   ],
   "source": [
    "strengthsAge = []\n",
    "for _, _, count in lateFusionAgeGroup:\n",
    "    strengthsAge.append(count / count.mean())\n",
    "strengthsAge = np.expand_dims(np.array(strengthsAge).T, axis=2)\n",
    "for i in range(1, 5):\n",
    "    strengthsAge = np.append(strengthsAge, np.expand_dims(strengthsAge[:,:,0], axis=2), axis=2)\n",
    "strengthsAge.shape"
   ]
  },
  {
   "cell_type": "code",
   "execution_count": 29,
   "metadata": {
    "collapsed": false
   },
   "outputs": [
    {
     "name": "stderr",
     "output_type": "stream",
     "text": [
      "/nix/store/n16wpgk37iwnl7f9c8g6c5c8szr4mk4k-python3.5-pandas-0.17.1/lib/python3.5/site-packages/pandas/core/format.py:2087: RuntimeWarning: invalid value encountered in greater\n",
      "  has_large_values = (abs_vals > 1e8).any()\n",
      "/nix/store/n16wpgk37iwnl7f9c8g6c5c8szr4mk4k-python3.5-pandas-0.17.1/lib/python3.5/site-packages/pandas/core/format.py:2088: RuntimeWarning: invalid value encountered in less\n",
      "  has_small_values = ((abs_vals < 10 ** (-self.digits)) &\n",
      "/nix/store/n16wpgk37iwnl7f9c8g6c5c8szr4mk4k-python3.5-pandas-0.17.1/lib/python3.5/site-packages/pandas/core/format.py:2089: RuntimeWarning: invalid value encountered in greater\n",
      "  (abs_vals > 0)).any()\n"
     ]
    },
    {
     "data": {
      "text/html": [
       "<div>\n",
       "<table border=\"1\" class=\"dataframe\">\n",
       "  <thead>\n",
       "    <tr style=\"text-align: right;\">\n",
       "      <th></th>\n",
       "      <th>categoryMentions</th>\n",
       "      <th>f1</th>\n",
       "      <th>f2</th>\n",
       "      <th>f3</th>\n",
       "      <th>f4</th>\n",
       "      <th>f5</th>\n",
       "      <th>f6</th>\n",
       "      <th>f7</th>\n",
       "      <th>f8</th>\n",
       "      <th>f9</th>\n",
       "      <th>...</th>\n",
       "      <th>f760</th>\n",
       "      <th>f761</th>\n",
       "      <th>f762</th>\n",
       "      <th>f763</th>\n",
       "      <th>f764</th>\n",
       "      <th>estimate0</th>\n",
       "      <th>estimate1</th>\n",
       "      <th>estimate2</th>\n",
       "      <th>estimate3</th>\n",
       "      <th>estimate4</th>\n",
       "    </tr>\n",
       "    <tr>\n",
       "      <th>row ID</th>\n",
       "      <th></th>\n",
       "      <th></th>\n",
       "      <th></th>\n",
       "      <th></th>\n",
       "      <th></th>\n",
       "      <th></th>\n",
       "      <th></th>\n",
       "      <th></th>\n",
       "      <th></th>\n",
       "      <th></th>\n",
       "      <th></th>\n",
       "      <th></th>\n",
       "      <th></th>\n",
       "      <th></th>\n",
       "      <th></th>\n",
       "      <th></th>\n",
       "      <th></th>\n",
       "      <th></th>\n",
       "      <th></th>\n",
       "      <th></th>\n",
       "      <th></th>\n",
       "    </tr>\n",
       "  </thead>\n",
       "  <tbody>\n",
       "    <tr>\n",
       "      <th>acfb8e93139fe820996b27ee3c6bc9db</th>\n",
       "      <td>53</td>\n",
       "      <td>0</td>\n",
       "      <td>0</td>\n",
       "      <td>0</td>\n",
       "      <td>0</td>\n",
       "      <td>0</td>\n",
       "      <td>0</td>\n",
       "      <td>0</td>\n",
       "      <td>0</td>\n",
       "      <td>0</td>\n",
       "      <td>...</td>\n",
       "      <td>0</td>\n",
       "      <td>0</td>\n",
       "      <td>0</td>\n",
       "      <td>0</td>\n",
       "      <td>0</td>\n",
       "      <td>0.306253</td>\n",
       "      <td>0.064474</td>\n",
       "      <td>0.005373</td>\n",
       "      <td>0.000000</td>\n",
       "      <td>0.000000</td>\n",
       "    </tr>\n",
       "    <tr>\n",
       "      <th>b6c4d3acf3f90ada2439e2f5668cdc07</th>\n",
       "      <td>NaN</td>\n",
       "      <td>NaN</td>\n",
       "      <td>NaN</td>\n",
       "      <td>NaN</td>\n",
       "      <td>NaN</td>\n",
       "      <td>NaN</td>\n",
       "      <td>NaN</td>\n",
       "      <td>NaN</td>\n",
       "      <td>NaN</td>\n",
       "      <td>NaN</td>\n",
       "      <td>...</td>\n",
       "      <td>NaN</td>\n",
       "      <td>NaN</td>\n",
       "      <td>NaN</td>\n",
       "      <td>NaN</td>\n",
       "      <td>NaN</td>\n",
       "      <td>0.000000</td>\n",
       "      <td>0.000000</td>\n",
       "      <td>0.000000</td>\n",
       "      <td>0.000000</td>\n",
       "      <td>0.000000</td>\n",
       "    </tr>\n",
       "    <tr>\n",
       "      <th>1c1405656095a093c00d32d99d4fdbba</th>\n",
       "      <td>609</td>\n",
       "      <td>0</td>\n",
       "      <td>0</td>\n",
       "      <td>0</td>\n",
       "      <td>0</td>\n",
       "      <td>0</td>\n",
       "      <td>0</td>\n",
       "      <td>0</td>\n",
       "      <td>0</td>\n",
       "      <td>0</td>\n",
       "      <td>...</td>\n",
       "      <td>0</td>\n",
       "      <td>0</td>\n",
       "      <td>0</td>\n",
       "      <td>0</td>\n",
       "      <td>0</td>\n",
       "      <td>2.870783</td>\n",
       "      <td>1.049534</td>\n",
       "      <td>0.339555</td>\n",
       "      <td>0.030869</td>\n",
       "      <td>0.030869</td>\n",
       "    </tr>\n",
       "    <tr>\n",
       "      <th>7e78bfe271ed998a4f3250a9a98043ce</th>\n",
       "      <td>NaN</td>\n",
       "      <td>NaN</td>\n",
       "      <td>NaN</td>\n",
       "      <td>NaN</td>\n",
       "      <td>NaN</td>\n",
       "      <td>NaN</td>\n",
       "      <td>NaN</td>\n",
       "      <td>NaN</td>\n",
       "      <td>NaN</td>\n",
       "      <td>NaN</td>\n",
       "      <td>...</td>\n",
       "      <td>NaN</td>\n",
       "      <td>NaN</td>\n",
       "      <td>NaN</td>\n",
       "      <td>NaN</td>\n",
       "      <td>NaN</td>\n",
       "      <td>0.000000</td>\n",
       "      <td>0.000000</td>\n",
       "      <td>0.000000</td>\n",
       "      <td>0.000000</td>\n",
       "      <td>0.000000</td>\n",
       "    </tr>\n",
       "    <tr>\n",
       "      <th>1070f07beea368659caf60ed3c668376</th>\n",
       "      <td>163</td>\n",
       "      <td>0</td>\n",
       "      <td>0</td>\n",
       "      <td>0</td>\n",
       "      <td>0</td>\n",
       "      <td>0</td>\n",
       "      <td>0</td>\n",
       "      <td>27</td>\n",
       "      <td>0</td>\n",
       "      <td>1</td>\n",
       "      <td>...</td>\n",
       "      <td>0</td>\n",
       "      <td>0</td>\n",
       "      <td>0</td>\n",
       "      <td>0</td>\n",
       "      <td>0</td>\n",
       "      <td>0.586605</td>\n",
       "      <td>0.528771</td>\n",
       "      <td>0.033048</td>\n",
       "      <td>0.000000</td>\n",
       "      <td>0.008262</td>\n",
       "    </tr>\n",
       "  </tbody>\n",
       "</table>\n",
       "<p>5 rows × 770 columns</p>\n",
       "</div>"
      ],
      "text/plain": [
       "                                  categoryMentions  f1  f2  f3  f4  f5  f6  \\\n",
       "row ID                                                                       \n",
       "acfb8e93139fe820996b27ee3c6bc9db                53   0   0   0   0   0   0   \n",
       "b6c4d3acf3f90ada2439e2f5668cdc07               NaN NaN NaN NaN NaN NaN NaN   \n",
       "1c1405656095a093c00d32d99d4fdbba               609   0   0   0   0   0   0   \n",
       "7e78bfe271ed998a4f3250a9a98043ce               NaN NaN NaN NaN NaN NaN NaN   \n",
       "1070f07beea368659caf60ed3c668376               163   0   0   0   0   0   0   \n",
       "\n",
       "                                  f7  f8  f9    ...      f760  f761  f762  \\\n",
       "row ID                                          ...                         \n",
       "acfb8e93139fe820996b27ee3c6bc9db   0   0   0    ...         0     0     0   \n",
       "b6c4d3acf3f90ada2439e2f5668cdc07 NaN NaN NaN    ...       NaN   NaN   NaN   \n",
       "1c1405656095a093c00d32d99d4fdbba   0   0   0    ...         0     0     0   \n",
       "7e78bfe271ed998a4f3250a9a98043ce NaN NaN NaN    ...       NaN   NaN   NaN   \n",
       "1070f07beea368659caf60ed3c668376  27   0   1    ...         0     0     0   \n",
       "\n",
       "                                  f763  f764  estimate0  estimate1  estimate2  \\\n",
       "row ID                                                                          \n",
       "acfb8e93139fe820996b27ee3c6bc9db     0     0   0.306253   0.064474   0.005373   \n",
       "b6c4d3acf3f90ada2439e2f5668cdc07   NaN   NaN   0.000000   0.000000   0.000000   \n",
       "1c1405656095a093c00d32d99d4fdbba     0     0   2.870783   1.049534   0.339555   \n",
       "7e78bfe271ed998a4f3250a9a98043ce   NaN   NaN   0.000000   0.000000   0.000000   \n",
       "1070f07beea368659caf60ed3c668376     0     0   0.586605   0.528771   0.033048   \n",
       "\n",
       "                                  estimate3  estimate4  \n",
       "row ID                                                  \n",
       "acfb8e93139fe820996b27ee3c6bc9db   0.000000   0.000000  \n",
       "b6c4d3acf3f90ada2439e2f5668cdc07   0.000000   0.000000  \n",
       "1c1405656095a093c00d32d99d4fdbba   0.030869   0.030869  \n",
       "7e78bfe271ed998a4f3250a9a98043ce   0.000000   0.000000  \n",
       "1070f07beea368659caf60ed3c668376   0.000000   0.008262  \n",
       "\n",
       "[5 rows x 770 columns]"
      ]
     },
     "execution_count": 29,
     "metadata": {},
     "output_type": "execute_result"
    }
   ],
   "source": [
    "estimatesAge = singleProbasAge * strengthsAge\n",
    "for i in range(5):\n",
    "    estimatesAge[:,:,i] *= accuraciesAge\n",
    "for num, data in enumerate(lateFusionAgeGroup):\n",
    "    for i in range(5):\n",
    "        data[0]['estimate' + str(i)] = estimatesAge[:,num,i]\n",
    "lateFusionAgeGroup[0][0].head()"
   ]
  },
  {
   "cell_type": "code",
   "execution_count": 30,
   "metadata": {
    "collapsed": false
   },
   "outputs": [
    {
     "data": {
      "text/plain": [
       "((973, 5, 5), (311, 5, 5))"
      ]
     },
     "execution_count": 30,
     "metadata": {},
     "output_type": "execute_result"
    }
   ],
   "source": [
    "estimatesTrainAge = np.array([[data[0]['estimate{}'.format(i)].loc[facebookAgeGroupOther.index] for i in range(5)] for data in lateFusionAgeGroup])\n",
    "estimatesTrainAge = estimatesTrainAge.swapaxes(1, 2).swapaxes(0, 1)\n",
    "estimatesTestAge = np.array([[data[0]['estimate{}'.format(i)].loc[facebookAgeGroupReliable.index] for i in range(5)] for data in lateFusionAgeGroup])\n",
    "estimatesTestAge = estimatesTestAge.swapaxes(1, 2).swapaxes(0, 1)\n",
    "for dataset, _, _ in lateFusionAgeGroup:\n",
    "    for i in range(5):\n",
    "        del dataset['estimate' + str(i)]\n",
    "estimatesTrainAge.shape, estimatesTestAge.shape"
   ]
  },
  {
   "cell_type": "code",
   "execution_count": 31,
   "metadata": {
    "collapsed": false
   },
   "outputs": [
    {
     "name": "stdout",
     "output_type": "stream",
     "text": [
      "[[ 3.33719146  4.3143088   1.51875225  2.27003552  2.24965473]]\n",
      "[[ 2.7906531   3.06922009  1.96127342 -0.07163897  0.85635865]]\n",
      "[[ 3.4640693   4.07118054  0.95820555  1.04019794  1.32688085]]\n",
      "[[ 1.86612436  1.71076615  1.12501652  1.06510072  1.13983763]]\n",
      "[[ 1.71805569  0.33196543  0.45047569  0.45373726  0.41827644]]\n"
     ]
    }
   ],
   "source": [
    "logregs = []\n",
    "for i in range(5):\n",
    "    clsEstimate = estimatesTrainAge[:,:,i]\n",
    "    trainAnswer = facebookAgeGroupOther.apply(lambda r: np.where(r == i, 1, 0))\n",
    "    logreg = LogisticRegression().fit(clsEstimate, trainAnswer)\n",
    "    print(logreg.coef_)\n",
    "    logregs.append(logreg)"
   ]
  },
  {
   "cell_type": "code",
   "execution_count": 32,
   "metadata": {
    "collapsed": false
   },
   "outputs": [
    {
     "data": {
      "text/plain": [
       "0.32947154471544715"
      ]
     },
     "execution_count": 32,
     "metadata": {},
     "output_type": "execute_result"
    }
   ],
   "source": [
    "testProbas = np.array([logreg.predict_proba(estimatesTestAge[:,:,i])[:,1] for i in range(5)]).T.argmax(axis=1)\n",
    "macro_accuracy(facebookAgeGroupReliable, testProbas)"
   ]
  },
  {
   "cell_type": "code",
   "execution_count": 33,
   "metadata": {
    "collapsed": false
   },
   "outputs": [
    {
     "data": {
      "text/html": [
       "<div>\n",
       "<table border=\"1\" class=\"dataframe\">\n",
       "  <thead>\n",
       "    <tr style=\"text-align: right;\">\n",
       "      <th></th>\n",
       "      <th>Dic</th>\n",
       "      <th>Qmarks</th>\n",
       "      <th>Sixltr</th>\n",
       "      <th>Unique</th>\n",
       "      <th>WC</th>\n",
       "      <th>WPS</th>\n",
       "      <th>achieve</th>\n",
       "      <th>adverb</th>\n",
       "      <th>affect</th>\n",
       "      <th>anger</th>\n",
       "      <th>...</th>\n",
       "      <th>topic_49</th>\n",
       "      <th>topic_5</th>\n",
       "      <th>topic_6</th>\n",
       "      <th>topic_7</th>\n",
       "      <th>topic_8</th>\n",
       "      <th>topic_9</th>\n",
       "      <th>verb</th>\n",
       "      <th>we</th>\n",
       "      <th>work</th>\n",
       "      <th>you</th>\n",
       "    </tr>\n",
       "    <tr>\n",
       "      <th>_id</th>\n",
       "      <th></th>\n",
       "      <th></th>\n",
       "      <th></th>\n",
       "      <th></th>\n",
       "      <th></th>\n",
       "      <th></th>\n",
       "      <th></th>\n",
       "      <th></th>\n",
       "      <th></th>\n",
       "      <th></th>\n",
       "      <th></th>\n",
       "      <th></th>\n",
       "      <th></th>\n",
       "      <th></th>\n",
       "      <th></th>\n",
       "      <th></th>\n",
       "      <th></th>\n",
       "      <th></th>\n",
       "      <th></th>\n",
       "      <th></th>\n",
       "      <th></th>\n",
       "    </tr>\n",
       "  </thead>\n",
       "  <tbody>\n",
       "    <tr>\n",
       "      <th>0001fdb89ad0ffac6ab432b288b93e91</th>\n",
       "      <td>60.10</td>\n",
       "      <td>0.52</td>\n",
       "      <td>19.17</td>\n",
       "      <td>65.28</td>\n",
       "      <td>193</td>\n",
       "      <td>10.72</td>\n",
       "      <td>1.55</td>\n",
       "      <td>3.63</td>\n",
       "      <td>5.18</td>\n",
       "      <td>3.11</td>\n",
       "      <td>...</td>\n",
       "      <td>0.000250</td>\n",
       "      <td>0.001027</td>\n",
       "      <td>0.000572</td>\n",
       "      <td>5.600408e-05</td>\n",
       "      <td>0.001000</td>\n",
       "      <td>0.010404</td>\n",
       "      <td>7.77</td>\n",
       "      <td>0.00</td>\n",
       "      <td>2.07</td>\n",
       "      <td>1.04</td>\n",
       "    </tr>\n",
       "    <tr>\n",
       "      <th>0002c57d0324030950fb043fbdbd9131</th>\n",
       "      <td>29.52</td>\n",
       "      <td>0.12</td>\n",
       "      <td>18.16</td>\n",
       "      <td>57.20</td>\n",
       "      <td>1619</td>\n",
       "      <td>23.13</td>\n",
       "      <td>0.68</td>\n",
       "      <td>0.62</td>\n",
       "      <td>2.96</td>\n",
       "      <td>0.74</td>\n",
       "      <td>...</td>\n",
       "      <td>0.000019</td>\n",
       "      <td>0.076920</td>\n",
       "      <td>0.096644</td>\n",
       "      <td>4.322106e-06</td>\n",
       "      <td>0.005200</td>\n",
       "      <td>0.013244</td>\n",
       "      <td>3.95</td>\n",
       "      <td>0.19</td>\n",
       "      <td>1.24</td>\n",
       "      <td>0.25</td>\n",
       "    </tr>\n",
       "    <tr>\n",
       "      <th>0008f3e295599e6a9959658ba6175146</th>\n",
       "      <td>29.52</td>\n",
       "      <td>0.12</td>\n",
       "      <td>18.16</td>\n",
       "      <td>57.20</td>\n",
       "      <td>1619</td>\n",
       "      <td>23.13</td>\n",
       "      <td>0.68</td>\n",
       "      <td>0.62</td>\n",
       "      <td>2.96</td>\n",
       "      <td>0.74</td>\n",
       "      <td>...</td>\n",
       "      <td>0.000019</td>\n",
       "      <td>0.076920</td>\n",
       "      <td>0.096644</td>\n",
       "      <td>4.322106e-06</td>\n",
       "      <td>0.005200</td>\n",
       "      <td>0.013244</td>\n",
       "      <td>3.95</td>\n",
       "      <td>0.19</td>\n",
       "      <td>1.24</td>\n",
       "      <td>0.25</td>\n",
       "    </tr>\n",
       "    <tr>\n",
       "      <th>000ed674f6b42bc225cb97494b97717f</th>\n",
       "      <td>85.22</td>\n",
       "      <td>0.29</td>\n",
       "      <td>12.24</td>\n",
       "      <td>9.46</td>\n",
       "      <td>33444</td>\n",
       "      <td>45.26</td>\n",
       "      <td>1.27</td>\n",
       "      <td>7.19</td>\n",
       "      <td>8.64</td>\n",
       "      <td>1.14</td>\n",
       "      <td>...</td>\n",
       "      <td>0.000002</td>\n",
       "      <td>0.000007</td>\n",
       "      <td>0.000004</td>\n",
       "      <td>3.688820e-07</td>\n",
       "      <td>0.000069</td>\n",
       "      <td>0.000006</td>\n",
       "      <td>13.96</td>\n",
       "      <td>0.69</td>\n",
       "      <td>1.35</td>\n",
       "      <td>3.30</td>\n",
       "    </tr>\n",
       "    <tr>\n",
       "      <th>001159bbcef08a6072036c4ea8ad9106</th>\n",
       "      <td>85.22</td>\n",
       "      <td>0.29</td>\n",
       "      <td>12.24</td>\n",
       "      <td>9.46</td>\n",
       "      <td>33444</td>\n",
       "      <td>45.26</td>\n",
       "      <td>1.27</td>\n",
       "      <td>7.19</td>\n",
       "      <td>8.64</td>\n",
       "      <td>1.14</td>\n",
       "      <td>...</td>\n",
       "      <td>0.000002</td>\n",
       "      <td>0.000007</td>\n",
       "      <td>0.000004</td>\n",
       "      <td>3.688820e-07</td>\n",
       "      <td>0.000069</td>\n",
       "      <td>0.000006</td>\n",
       "      <td>13.96</td>\n",
       "      <td>0.69</td>\n",
       "      <td>1.35</td>\n",
       "      <td>3.30</td>\n",
       "    </tr>\n",
       "  </tbody>\n",
       "</table>\n",
       "<p>5 rows × 1900 columns</p>\n",
       "</div>"
      ],
      "text/plain": [
       "                                    Dic  Qmarks  Sixltr  Unique     WC    WPS  \\\n",
       "_id                                                                             \n",
       "0001fdb89ad0ffac6ab432b288b93e91  60.10    0.52   19.17   65.28    193  10.72   \n",
       "0002c57d0324030950fb043fbdbd9131  29.52    0.12   18.16   57.20   1619  23.13   \n",
       "0008f3e295599e6a9959658ba6175146  29.52    0.12   18.16   57.20   1619  23.13   \n",
       "000ed674f6b42bc225cb97494b97717f  85.22    0.29   12.24    9.46  33444  45.26   \n",
       "001159bbcef08a6072036c4ea8ad9106  85.22    0.29   12.24    9.46  33444  45.26   \n",
       "\n",
       "                                  achieve  adverb  affect  anger  ...   \\\n",
       "_id                                                               ...    \n",
       "0001fdb89ad0ffac6ab432b288b93e91     1.55    3.63    5.18   3.11  ...    \n",
       "0002c57d0324030950fb043fbdbd9131     0.68    0.62    2.96   0.74  ...    \n",
       "0008f3e295599e6a9959658ba6175146     0.68    0.62    2.96   0.74  ...    \n",
       "000ed674f6b42bc225cb97494b97717f     1.27    7.19    8.64   1.14  ...    \n",
       "001159bbcef08a6072036c4ea8ad9106     1.27    7.19    8.64   1.14  ...    \n",
       "\n",
       "                                  topic_49   topic_5   topic_6       topic_7  \\\n",
       "_id                                                                            \n",
       "0001fdb89ad0ffac6ab432b288b93e91  0.000250  0.001027  0.000572  5.600408e-05   \n",
       "0002c57d0324030950fb043fbdbd9131  0.000019  0.076920  0.096644  4.322106e-06   \n",
       "0008f3e295599e6a9959658ba6175146  0.000019  0.076920  0.096644  4.322106e-06   \n",
       "000ed674f6b42bc225cb97494b97717f  0.000002  0.000007  0.000004  3.688820e-07   \n",
       "001159bbcef08a6072036c4ea8ad9106  0.000002  0.000007  0.000004  3.688820e-07   \n",
       "\n",
       "                                   topic_8   topic_9   verb    we  work   you  \n",
       "_id                                                                            \n",
       "0001fdb89ad0ffac6ab432b288b93e91  0.001000  0.010404   7.77  0.00  2.07  1.04  \n",
       "0002c57d0324030950fb043fbdbd9131  0.005200  0.013244   3.95  0.19  1.24  0.25  \n",
       "0008f3e295599e6a9959658ba6175146  0.005200  0.013244   3.95  0.19  1.24  0.25  \n",
       "000ed674f6b42bc225cb97494b97717f  0.000069  0.000006  13.96  0.69  1.35  3.30  \n",
       "001159bbcef08a6072036c4ea8ad9106  0.000069  0.000006  13.96  0.69  1.35  3.30  \n",
       "\n",
       "[5 rows x 1900 columns]"
      ]
     },
     "execution_count": 33,
     "metadata": {},
     "output_type": "execute_result"
    }
   ],
   "source": [
    "wholeDataset = foursquare5Months\n",
    "for i in [instagramWhole, twitterLDA50, twitterLIWC, twitterManual]:\n",
    "    wholeDataset = wholeDataset.add(i, fill_value=0)\n",
    "wholeDataset.fillna(method='ffill', inplace=True)\n",
    "wholeDataset.head()"
   ]
  },
  {
   "cell_type": "code",
   "execution_count": 34,
   "metadata": {
    "collapsed": false
   },
   "outputs": [
    {
     "data": {
      "text/plain": [
       "0.7853604728604728"
      ]
     },
     "execution_count": 34,
     "metadata": {},
     "output_type": "execute_result"
    }
   ],
   "source": [
    "genderWholeClf = RandomForestClassifier(n_estimators=sum(data[1] for data in lateFusionGender), n_jobs=4)\n",
    "wholeDatasetGender = wholeDataset.loc[facebookGenderOther.index].dropna()\n",
    "genderWholeClf.fit(wholeDatasetGender, facebookGenderOther.loc[wholeDatasetGender.index])\n",
    "macro_accuracy(facebookReliableGender, genderWholeClf.predict(wholeDataset.loc[facebookReliableGender.index]))"
   ]
  },
  {
   "cell_type": "code",
   "execution_count": 35,
   "metadata": {
    "collapsed": false
   },
   "outputs": [
    {
     "data": {
      "text/plain": [
       "0.3069918699186992"
      ]
     },
     "execution_count": 35,
     "metadata": {},
     "output_type": "execute_result"
    }
   ],
   "source": [
    "ageWholeClf = RandomForestClassifier(n_estimators=sum(data[1] for data in lateFusionGender), n_jobs=4)\n",
    "wholeDatasetAge = wholeDataset.loc[facebookAgeGroupOther.index].dropna()\n",
    "ageWholeClf.fit(wholeDatasetAge, facebookAgeGroupOther.loc[wholeDatasetAge.index])\n",
    "macro_accuracy(facebookAgeGroupReliable, ageWholeClf.predict(wholeDataset.loc[facebookAgeGroupReliable.index]))"
   ]
  },
  {
   "cell_type": "code",
   "execution_count": 36,
   "metadata": {
    "collapsed": true
   },
   "outputs": [],
   "source": [
    "import pickle"
   ]
  },
  {
   "cell_type": "code",
   "execution_count": 96,
   "metadata": {
    "collapsed": true
   },
   "outputs": [],
   "source": [
    "with open('genderWholeClf.dat', 'wb') as f: pickle.dump(genderWholeClf, f)\n",
    "with open('ageTwitterLDAClf.dat', 'wb') as f: pickle.dump(singleTrainTestAge[2], f)"
   ]
  },
  {
   "cell_type": "code",
   "execution_count": 101,
   "metadata": {
    "collapsed": true
   },
   "outputs": [],
   "source": [
    "with open('genderWholeIndex.dat', 'wb') as f: pickle.dump(wholeDatasetGender.columns.values.tolist(), f)\n",
    "with open('ageTwitterLDAIndex.dat', 'wb') as f: pickle.dump(twitterLDA50AgeGroup.columns.values.tolist(), f)"
   ]
  },
  {
   "cell_type": "code",
   "execution_count": 102,
   "metadata": {
    "collapsed": true
   },
   "outputs": [],
   "source": [
    "with open('ageGroups.dat', 'wb') as f: pickle.dump(ageGroupClasses, f)"
   ]
  },
  {
   "cell_type": "code",
   "execution_count": 39,
   "metadata": {
    "collapsed": true
   },
   "outputs": [],
   "source": [
    "from random import choice, randint"
   ]
  },
  {
   "cell_type": "code",
   "execution_count": 66,
   "metadata": {
    "collapsed": false
   },
   "outputs": [
    {
     "name": "stdout",
     "output_type": "stream",
     "text": [
      "[ 0.609  1.     1.     1.     1.   ] 0.9246804370603202 0.9250621164496332\n"
     ]
    },
    {
     "data": {
      "text/plain": [
       "0.32658536585365855"
      ]
     },
     "execution_count": 66,
     "metadata": {},
     "output_type": "execute_result"
    }
   ],
   "source": [
    "def increase_dim(w):\n",
    "    w = np.expand_dims(w, axis=1)\n",
    "    res = w.copy()\n",
    "    for i in range(1, 5):\n",
    "        res = np.append(res, w, axis=1)\n",
    "    return res\n",
    "\n",
    "wAge = np.array([1.] * 5)\n",
    "wValues = (estimatesTrainAge * increase_dim(wAge)).mean(axis=1).argmax(axis=1)\n",
    "wError = macro_accuracy(facebookAgeGroupOther, wValues)\n",
    "dirs = set(range(5))\n",
    "stepstep = 0.001\n",
    "step = stepstep\n",
    "for i in range(10000):\n",
    "    crd = choice(list(dirs))\n",
    "    dw = np.array([0 if i != crd else step * (randint(0,1) * 2 - 1) for i in range(5)])\n",
    "    #dw = np.array([step * (randint(0,2) * 2 - 1) for i in range(5)])\n",
    "    #dw = np.array([np.random.normal(0, step) for i in range(5)])\n",
    "    #dw = np.array([0 if i != crd else np.random.normal(0, step) for i in range(5)])\n",
    "    wdwValue = (estimatesTrainAge * increase_dim(wAge + dw)).mean(axis=1).argmax(axis=1)\n",
    "    wdwError = macro_accuracy(facebookAgeGroupOther, wdwValue)\n",
    "    if wdwError > wError:\n",
    "        wAge = wAge + dw\n",
    "        print(wAge, wError, wdwError)\n",
    "        wError = wdwError\n",
    "        dirs = set(range(5))\n",
    "        step = stepstep\n",
    "    else:\n",
    "        dirs.remove(crd)\n",
    "    if not dirs:\n",
    "        step += stepstep\n",
    "        dirs = set(range(5))\n",
    "wValues = (estimatesTestAge * increase_dim(wAge)).mean(axis=1).argmax(axis=1)\n",
    "wError = macro_accuracy(facebookAgeGroupReliable, wValues)\n",
    "wError"
   ]
  },
  {
   "cell_type": "code",
   "execution_count": 104,
   "metadata": {
    "collapsed": true
   },
   "outputs": [],
   "source": [
    "from http.client import HTTPConnection\n",
    "import json"
   ]
  },
  {
   "cell_type": "code",
   "execution_count": 107,
   "metadata": {
    "collapsed": false
   },
   "outputs": [
    {
     "data": {
      "text/plain": [
       "'{\"f380\": 0.0, \"funct\": 56.79, \"i635\": 2.550300609426839, \"f698\": 0.0, \"f551\": 0.0, \"f8\": 0.0, \"f473\": 0.0, \"f373\": 0.0, \"i709\": 2.9183958363489784, \"f415\": 0.0, \"i120\": 2.633542565719365, \"f760\": 0.0, \"f542\": 0.0, \"i160\": 2.558700214018398, \"i830\": 2.6520368690581604, \"i514\": 2.7280781796580515, \"i496\": 2.529130053925687, \"i643\": 2.732913426480232, \"i725\": 2.52711765528617, \"f352\": 0.0, \"f618\": 0.0, \"f669\": 0.0, \"f667\": 0.0, \"i993\": 2.621784218665903, \"i714\": 2.6528003449322117, \"i968\": 3.0971452886126696, \"f100\": 0.0, \"i84\": 2.906292649546688, \"i152\": 2.555544338427171, \"i530\": 3.033211160227826, \"topic_11\": 9.432671335521652e-07, \"f378\": 0.0, \"i687\": 2.765455936145059, \"averageSentiScore\": 0.1041708378307408, \"i700\": 2.4815765494957156, \"i503\": 2.25062816201716, \"i604\": 2.499845213807685, \"f191\": 0.0, \"f55\": 0.0, \"i935\": 3.004617540831592, \"i671\": 2.540709769552736, \"f672\": 0.0, \"f368\": 0.0, \"i677\": 2.77225306635629, \"f600\": 0.0, \"i870\": 2.63225954622019, \"i232\": 2.2976102375945566, \"achieve\": 1.44, \"f388\": 0.0, \"f751\": 0.0, \"f536\": 0.0, \"i154\": 2.7640967747670966, \"i881\": 3.0187299351389263, \"i669\": 2.9601901526359646, \"i329\": 2.9783861063737325, \"i3\": 2.8688102997703053, \"i163\": 2.740257792513923, \"i524\": 2.594780759232254, \"f575\": 0.0, \"i718\": 2.6265305654335283, \"i257\": 2.266692308564082, \"i839\": 2.84646868539689, \"f614\": 0.0, \"i316\": 2.393952600933966, \"i978\": 2.697316071725107, \"f560\": 0.0, \"i245\": 2.617249942639106, \"f379\": 0.0, \"i348\": 2.7710127494214882, \"i843\": 2.872221953882045, \"f369\": 0.0, \"i457\": 3.0168165056727405, \"i54\": 2.451013660816704, \"i788\": 2.619573321812973, \"numberOfMistakes\": 0.00706393769244702, \"f110\": 0.0, \"f735\": 0.0, \"f745\": 0.0, \"f10\": 0.0, \"f628\": 0.0, \"i813\": 2.7021847748273586, \"i704\": 2.7518526584746956, \"i389\": 2.342962108421556, \"incl\": 2.7, \"i151\": 2.7537452710769648, \"topic_45\": 0.0031704738397755642, \"i277\": 2.641655416738007, \"i922\": 2.7820445336340467, \"topic_23\": 2.3508728400800386e-06, \"f423\": 0.0, \"i149\": 2.981086044717135, \"i91\": 2.73064843462273, \"i521\": 2.604476166947245, \"i504\": 3.027714617455939, \"f419\": 0.0, \"i216\": 2.59961884780236, \"i732\": 2.584823461118, \"topic_10\": 0.0022626941635929755, \"i322\": 2.7407790114978985, \"i652\": 2.8583171667566187, \"f518\": 0.0, \"f453\": 0.0, \"sexual\": 0.93, \"f759\": 0.0, \"i653\": 2.677469804689295, \"f357\": 0.0, \"i886\": 2.6508349326860334, \"i885\": 2.846431466981875, \"i590\": 2.563374651839224, \"i638\": 2.410496392116832, \"i819\": 2.8654942853212635, \"i586\": 2.749824108527558, \"f594\": 0.0, \"f240\": 0.0, \"f620\": 0.0, \"i628\": 2.763841471285045, \"i891\": 2.624188693691062, \"f318\": 0.0, \"i972\": 2.7631880940568005, \"i801\": 2.5617842697325384, \"f29\": 0.0, \"i923\": 2.674876756361393, \"f596\": 0.0, \"f409\": 0.0, \"f355\": 0.0, \"f631\": 0.0, \"i69\": 2.937796379463843, \"f576\": 0.0, \"i598\": 2.546957526268439, \"i716\": 2.398850493452986, \"i436\": 2.0196826078037007, \"f3\": 0.0, \"f633\": 0.0, \"i806\": 2.625132684179706, \"f273\": 0.0, \"f402\": 0.0, \"f278\": 0.0, \"f151\": 0.0, \"i233\": 2.8519363229268015, \"i409\": 2.736225895106486, \"i984\": 2.558037730472543, \"f119\": 0.0, \"affect\": 8.82, \"f56\": 0.0, \"i795\": 2.4523835190428334, \"i17\": 2.8518660935802687, \"i388\": 2.656957457387862, \"i495\": 2.684498906359672, \"f607\": 0.0, \"i471\": 2.554921681766443, \"i31\": 2.6581750148907592, \"f49\": 0.0, \"f147\": 0.0, \"f702\": 0.0, \"i139\": 2.8886562274929313, \"f190\": 0.0, \"i695\": 2.678244007101418, \"i864\": 2.7593212894796832, \"i249\": 2.7019769879154962, \"i360\": 2.2413525356093924, \"relig\": 0.41, \"i442\": 2.669650128745602, \"f70\": 0.0, \"f737\": 0.0, \"i627\": 2.6495028485002594, \"i985\": 3.2636463471171164, \"i543\": 2.838167740355379, \"f83\": 0.0, \"i284\": 2.300282973624032, \"f547\": 0.0, \"i485\": 2.65906233583604, \"i892\": 2.955107830676477, \"f723\": 0.0, \"f407\": 0.0, \"f386\": 0.0, \"i343\": 2.7706791451805084, \"i883\": 2.6970947631828093, \"i607\": 2.408830550999145, \"f524\": 0.0, \"f91\": 0.0, \"i917\": 2.602121520063351, \"i908\": 2.4996310223594493, \"f71\": 0.0, \"f430\": 0.0, \"f486\": 0.0, \"f321\": 0.0, \"i841\": 2.575044777464501, \"i167\": 2.5754596047992195, \"i821\": 2.670916029894578, \"i22\": 2.6281629248226532, \"f477\": 0.0, \"i582\": 2.801195391020782, \"i141\": 2.793525347950403, \"f334\": 0.0, \"i579\": 2.8339586790510554, \"f727\": 0.0, \"hear\": 0.57, \"f530\": 0.0, \"i528\": 2.759941799984514, \"i595\": 3.0563613664046967, \"f252\": 0.0, \"i510\": 2.5981173954401333, \"i473\": 2.5672827168996766, \"f69\": 0.0, \"i155\": 2.835481775353091, \"f541\": 0.0, \"i226\": 2.704663966615926, \"f656\": 0.0, \"f212\": 0.0, \"i779\": 2.4859762878445335, \"f344\": 0.0, \"f170\": 0.0, \"f391\": 0.0, \"f342\": 0.0, \"f271\": 0.0, \"f200\": 0.0, \"f114\": 0.0, \"f641\": 0.0, \"i357\": 2.666446537237688, \"i508\": 2.572110863593453, \"i130\": 2.9333146185145966, \"i890\": 2.595050462317608, \"f282\": 0.0, \"f583\": 0.0, \"f666\": 0.0, \"f446\": 0.0, \"f309\": 0.0, \"i765\": 2.9240764650067343, \"i655\": 2.795831492135162, \"f332\": 0.0, \"f498\": 0.0, \"i676\": 2.792408880328244, \"i910\": 2.760790311984223, \"f730\": 0.0, \"i522\": 2.594589318733094, \"i817\": 3.0062736017768885, \"i637\": 2.670000240573049, \"i791\": 2.976731454108332, \"i36\": 2.7762686936964904, \"i275\": 2.552581260587844, \"i941\": 2.994514112722487, \"i439\": 2.566476491805688, \"negemo\": 3.46, \"number\": 1.23, \"f701\": 0.0, \"f272\": 0.0, \"i75\": 2.4498665956280594, \"i668\": 2.675433229985323, \"i304\": 2.8412127920188652, \"i112\": 2.830401438375738, \"f216\": 0.0, \"i67\": 2.7706405737541657, \"adverb\": 6.0, \"f651\": 0.0, \"f370\": 0.0, \"i302\": 2.7893034860561623, \"i737\": 2.6198821307429347, \"f589\": 0.0, \"f680\": 0.0, \"i462\": 2.83270201570355, \"f13\": 0.0, \"i868\": 2.9807831843714516, \"i191\": 3.0424557182720617, \"i639\": 2.6279608383723043, \"f193\": 0.0, \"i116\": 2.7135517495700388, \"i596\": 2.604336717710906, \"i119\": 2.598779895951648, \"f354\": 0.0, \"f135\": 0.0, \"i468\": 2.7075750956065794, \"i254\": 2.5625919157004895, \"f710\": 0.0, \"i651\": 2.6382191327304283, \"i938\": 2.7559507686088343, \"i666\": 2.6021891197326967, \"f326\": 0.0, \"f675\": 0.0, \"i694\": 2.5818383024731384, \"i459\": 2.7187009756068434, \"f359\": 0.0, \"topic_43\": 0.0038473331767789882, \"f129\": 0.0, \"i158\": 2.7558199252031583, \"f131\": 0.0, \"i427\": 2.209591379382069, \"f449\": 0.0, \"f301\": 0.0, \"i215\": 2.96310865320557, \"f226\": 0.0, \"i660\": 2.621216361084605, \"f439\": 0.0, \"i845\": 3.136105769331911, \"f566\": 0.0, \"f288\": 0.0, \"f621\": 0.0, \"f43\": 0.0, \"f426\": 0.0, \"numberOfUrls\": 0.1159737417943107, \"i26\": 2.822512016606802, \"f54\": 0.0, \"i43\": 2.8406974558772404, \"f565\": 0.0, \"i435\": 2.1060754772321193, \"f106\": 0.0, \"i745\": 2.331906097247567, \"i865\": 2.7654338553395243, \"f213\": 0.0, \"i282\": 2.375808439112522, \"f246\": 0.0, \"f740\": 0.0, \"f290\": 0.0, \"f695\": 0.0, \"i775\": 2.494563761663976, \"f718\": 0.0, \"i932\": 2.354178207556382, \"i407\": 2.5802891850912015, \"topic_14\": 6.7617337619520624e-06, \"i780\": 2.5218056225416334, \"f602\": 0.0, \"i692\": 2.5518276884173883, \"f159\": 0.0, \"i144\": 2.66468107376879, \"f519\": 0.0, \"f125\": 0.0, \"f182\": 0.0, \"i505\": 2.941951712645978, \"i374\": 2.587073285676118, \"i924\": 2.554747325686164, \"i966\": 2.847582743895433, \"f693\": 0.0, \"topic_7\": 1.3306357941875342e-06, \"f653\": 0.0, \"i605\": 2.654962134684397, \"f668\": 0.0, \"i658\": 2.699007038984167, \"f726\": 0.0, \"i117\": 2.80705058358814, \"i79\": 2.635833871314389, \"i306\": 2.678762045024281, \"i712\": 2.3333855027355765, \"f443\": 0.0, \"i874\": 2.96841400572177, \"i961\": 2.8363262283188213, \"i906\": 2.7879037767525543, \"i535\": 3.104183789258281, \"i99\": 2.648656033066478, \"i289\": 2.568574278608292, \"body\": 1.11, \"f689\": 0.0, \"i334\": 2.8077063741814148, \"i536\": 2.9851689260513736, \"i291\": 2.587241432325105, \"i222\": 2.6819606571112002, \"f134\": 0.0, \"f644\": 0.0, \"f390\": 0.0, \"f646\": 0.0, \"f569\": 0.0, \"i48\": 2.627948733374417, \"f420\": 0.0, \"i827\": 2.582129348357849, \"f381\": 0.0, \"f185\": 0.0, \"i376\": 2.63860125027408, \"f505\": 0.0, \"i903\": 2.685554891406549, \"i975\": 2.9115032191659833, \"f16\": 0.0, \"i703\": 2.53176863808306, \"i728\": 2.5331561024220917, \"f412\": 0.0, \"i824\": 2.502660961861944, \"i707\": 2.4966359472867463, \"i713\": 2.4502729146846534, \"i588\": 2.933827693982125, \"f94\": 0.0, \"f467\": 0.0, \"i381\": 2.7624695177999974, \"f617\": 0.0, \"i648\": 2.7954580334398567, \"i264\": 2.299333728022431, \"i799\": 2.9279963381660354, \"i223\": 2.970522586925082, \"i778\": 2.7699119071715135, \"i921\": 2.874558528097405, \"i902\": 2.996709508264618, \"i717\": 2.061352659119391, \"i278\": 2.5790567147738113, \"i49\": 2.54394038735586, \"f156\": 0.0, \"f479\": 0.0, \"f22\": 0.0, \"i773\": 2.665952700827769, \"topic_48\": 0.004553914779293672, \"i148\": 2.7798201066678514, \"i310\": 2.770295475279033, \"i406\": 2.6374442177606157, \"i754\": 2.933486430806339, \"i97\": 2.614708851642707, \"i19\": 2.41811110593093, \"f413\": 0.0, \"f721\": 0.0, \"i95\": 2.8686774374511765, \"f410\": 0.0, \"i685\": 2.687377283145113, \"f416\": 0.0, \"f659\": 0.0, \"i124\": 2.65594488746305, \"f471\": 0.0, \"f509\": 0.0, \"i429\": 2.1512351950022692, \"i564\": 2.38729637900577, \"i493\": 2.7455712249253494, \"i157\": 2.715564122761067, \"i805\": 3.1385411282190563, \"f435\": 0.0, \"i708\": 2.6870905126065363, \"i421\": 2.431010122119494, \"f586\": 0.0, \"i512\": 3.0806602940426986, \"f450\": 0.0, \"i593\": 2.267714862779373, \"i884\": 3.007978843517513, \"f61\": 0.0, \"i113\": 2.8450403083705385, \"f529\": 0.0, \"pronoun\": 20.91, \"i210\": 2.697790719974397, \"f160\": 0.0, \"f404\": 0.0, \"f521\": 0.0, \"f476\": 0.0, \"i351\": 2.934007716592598, \"i838\": 2.628069707007815, \"f136\": 0.0, \"i15\": 2.5753920305783606, \"f299\": 0.0, \"i165\": 2.517856288515016, \"i646\": 2.4620931694287784, \"f363\": 0.0, \"f591\": 0.0, \"f570\": 0.0, \"i185\": 2.6535895280214667, \"i789\": 2.8828132841315637, \"i896\": 2.7880926384715057, \"f692\": 0.0, \"i520\": 2.4157080814696394, \"i214\": 2.7321570125618493, \"f616\": 0.0, \"i770\": 2.867287487643062, \"i403\": 2.7012256340049903, \"i476\": 2.685439626717493, \"f428\": 0.0, \"i449\": 2.74307566975842, \"i517\": 2.8047869913975294, \"f451\": 0.0, \"i434\": 2.502861665611063, \"i786\": 2.754922246722896, \"f6\": 0.0, \"f331\": 0.0, \"i796\": 2.656070119476923, \"f564\": 0.0, \"i220\": 2.638093892233725, \"f175\": 0.0, \"f624\": 0.0, \"insight\": 2.7, \"f228\": 0.0, \"i683\": 2.3257664966096843, \"i92\": 2.612991087124836, \"i193\": 2.3769512798520105, \"f195\": 0.0, \"i202\": 2.216485273230925, \"f85\": 0.0, \"i594\": 2.8721422576976416, \"f20\": 0.0, \"i768\": 2.790569425377871, \"f60\": 0.0, \"i855\": 3.062871005036833, \"i592\": 2.822820783122616, \"i368\": 1.895802366763758, \"i63\": 2.532734976586372, \"f274\": 0.0, \"f229\": 0.0, \"f457\": 0.0, \"f604\": 0.0, \"i844\": 2.842191453952927, \"death\": 0.31, \"i962\": 2.602032569111819, \"i12\": 2.9011386010212386, \"f346\": 0.0, \"f460\": 0.0, \"f625\": 0.0, \"i262\": 2.3106651088119703, \"i568\": 2.715349235720802, \"f124\": 0.0, \"i948\": 2.620525417645331, \"f406\": 0.0, \"i37\": 2.524472649626766, \"i816\": 2.6782553910587863, \"i349\": 2.7130237443223573, \"i433\": 2.112558072603385, \"f403\": 0.0, \"f67\": 0.0, \"i825\": 2.8743294667790003, \"i665\": 2.716181655792697, \"f757\": 0.0, \"f291\": 0.0, \"f204\": 0.0, \"present\": 13.72, \"f189\": 0.0, \"topic_39\": 1.4086922574970257e-06, \"i61\": 2.480314881278728, \"f561\": 0.0, \"i134\": 3.0522800331868662, \"i606\": 2.738576970719104, \"f284\": 0.0, \"i784\": 2.457905450923811, \"i414\": 2.586336288954765, \"f350\": 0.0, \"i198\": 2.680630702115666, \"f636\": 0.0, \"f337\": 0.0, \"i258\": 2.8502683526188766, \"f664\": 0.0, \"topic_5\": 0.02570900408763665, \"i710\": 2.756566711109908, \"i691\": 2.709019611216309, \"f580\": 0.0, \"f374\": 0.0, \"f367\": 0.0, \"topic_16\": 5.2063669619159085e-05, \"i195\": 2.816656790108125, \"i625\": 2.5231249315859787, \"i290\": 2.247309992929392, \"f99\": 0.0, \"i33\": 2.751845329309894, \"i489\": 2.7205146597207897, \"topic_0\": 0.00024231599642371367, \"i747\": 3.040975197291955, \"i25\": 2.769466439856161, \"f384\": 0.0, \"quant\": 2.69, \"anx\": 0.44, \"i440\": 2.510024533021925, \"i550\": 2.5784917243889294, \"i71\": 2.425321680775648, \"i204\": 2.8554551448667116, \"i320\": 2.607751624987811, \"i179\": 2.5270628562067405, \"i650\": 2.557451380322645, \"f78\": 0.0, \"i562\": 2.4651707909166403, \"f302\": 0.0, \"i574\": 2.8615534850212567, \"i153\": 2.523793098627689, \"f218\": 0.0, \"f275\": 0.0, \"f247\": 0.0, \"i967\": 2.8428559330844534, \"i641\": 2.69950635530203, \"i999\": 2.674782121914006, \"f150\": 0.0, \"i211\": 2.674108958485643, \"i731\": 2.9369696577327535, \"f88\": 0.0, \"f684\": 0.0, \"i261\": 2.3422960366387673, \"i441\": 2.218090614807668, \"i66\": 2.741701595565964, \"future\": 1.2, \"i987\": 2.682514976096404, \"i630\": 2.443381141543206, \"i219\": 2.655624643678741, \"i679\": 2.4972173095328207, \"i597\": 2.3781759120348207, \"you\": 4.62, \"i911\": 3.1555608305324734, \"f494\": 0.0, \"i301\": 2.6400657090162785, \"i566\": 2.947035530764542, \"f754\": 0.0, \"f149\": 0.0, \"i610\": 2.645528103097122, \"i398\": 2.453427382126162, \"i378\": 2.4045047998903883, \"i260\": 2.8385100310139038, \"i21\": 2.6672840894215106, \"f709\": 0.0, \"f455\": 0.0, \"i239\": 2.8489156297086073, \"f17\": 0.0, \"f425\": 0.0, \"f293\": 0.0, \"f323\": 0.0, \"i382\": 2.674920154517796, \"f513\": 0.0, \"i101\": 2.650064971688726, \"categoryMentions\": 0.0, \"i346\": 3.0137275850558054, \"i783\": 2.714835456178415, \"f57\": 0.0, \"i53\": 2.7636577374366067, \"i909\": 2.841960248069155, \"f400\": 0.0, \"topic_25\": 0.0011311838350881135, \"i741\": 2.751570655286374, \"i131\": 2.718611876205792, \"f235\": 0.0, \"f280\": 0.0, \"topic_8\": 2.376589105608026e-05, \"f219\": 0.0, \"i221\": 2.9880246664059387, \"f383\": 0.0, \"f424\": 0.0, \"f312\": 0.0, \"f171\": 0.0, \"i404\": 2.772649401122408, \"f319\": 0.0, \"i647\": 2.4266744121687482, \"i274\": 2.663969788504056, \"i370\": 2.672182677532561, \"f643\": 0.0, \"f201\": 0.0, \"i759\": 3.424384728914892, \"f645\": 0.0, \"f188\": 0.0, \"i287\": 2.265856189978467, \"i516\": 2.452469585832291, \"f231\": 0.0, \"i547\": 2.847489598184648, \"i170\": 2.6936905103399247, \"f264\": 0.0, \"f715\": 0.0, \"f9\": 0.0, \"i739\": 2.947912656408958, \"f339\": 0.0, \"f503\": 0.0, \"i218\": 2.979450082246123, \"i925\": 2.997656440174437, \"i684\": 2.256203442413701, \"i858\": 2.954769382739777, \"i740\": 2.558717866786865, \"f52\": 0.0, \"i809\": 2.604703871543086, \"f736\": 0.0, \"i51\": 2.8763182995876186, \"f534\": 0.0, \"i474\": 2.62347709456163, \"numberOfHashtags\": 0.028446389496717732, \"i458\": 2.7447237138995373, \"f80\": 0.0, \"f340\": 0.0, \"i951\": 3.077506454330583, \"i771\": 2.716226614789752, \"f300\": 0.0, \"i359\": 2.414919636386562, \"f531\": 0.0, \"f752\": 0.0, \"i756\": 2.445614144650161, \"f626\": 0.0, \"f510\": 0.0, \"i785\": 2.779057288213095, \"i34\": 2.504724613758105, \"f650\": 0.0, \"i317\": 2.8353192400959064, \"i259\": 2.788331875474233, \"f108\": 0.0, \"i995\": 2.47353199373845, \"i80\": 2.470865670728178, \"topic_34\": 8.118167455513666e-06, \"f173\": 0.0, \"topic_33\": 0.05701137581188731, \"f678\": 0.0, \"i105\": 2.93507580663736, \"i753\": 2.639392537105085, \"i634\": 2.721350451717465, \"f316\": 0.0, \"i196\": 2.89526015277644, \"i455\": 2.6082988353617815, \"f746\": 0.0, \"f559\": 0.0, \"i242\": 2.320311426391875, \"topic_31\": 0.002716857047624424, \"topic_49\": 5.930231505620683e-06, \"i573\": 2.489581948511396, \"f96\": 0.0, \"i377\": 2.843262027346064, \"f298\": 0.0, \"f320\": 0.0, \"i321\": 2.603368216086037, \"f755\": 0.0, \"i969\": 2.9369649667279667, \"f257\": 0.0, \"i250\": 2.698598370183763, \"f256\": 0.0, \"f268\": 0.0, \"i181\": 2.906473986995755, \"i898\": 2.802808066003744, \"f361\": 0.0, \"f239\": 0.0, \"f364\": 0.0, \"f233\": 0.0, \"f51\": 0.0, \"i182\": 2.362581366453558, \"f700\": 0.0, \"i942\": 2.5161897772537882, \"f441\": 0.0, \"f717\": 0.0, \"f68\": 0.0, \"f145\": 0.0, \"i86\": 2.6688346404016547, \"i971\": 2.842216141107867, \"i208\": 2.8861586915852837, \"i392\": 2.574582225730268, \"f711\": 0.0, \"i682\": 2.502131556947373, \"f75\": 0.0, \"i992\": 3.072543460335544, \"i958\": 2.5612171204675143, \"i918\": 3.255325577702754, \"f663\": 0.0, \"work\": 0.87, \"f168\": 0.0, \"i469\": 2.798505074326893, \"i65\": 2.76484324680915, \"topic_47\": 5.439900414661814e-06, \"i736\": 2.587048600641885, \"i589\": 2.743119771989683, \"i552\": 2.808565557580803, \"i851\": 2.600995085116373, \"i944\": 2.7846934456364973, \"f207\": 0.0, \"f396\": 0.0, \"i914\": 2.58002732014043, \"i247\": 2.254743292948957, \"i518\": 2.777208565771348, \"i875\": 2.732681455021085, \"f36\": 0.0, \"motion\": 1.81, \"topic_37\": 0.004786779409844594, \"f263\": 0.0, \"i755\": 2.7433930463463128, \"i350\": 2.84258033019109, \"i603\": 2.739366162291189, \"f270\": 0.0, \"i72\": 2.400596726347105, \"i746\": 2.572191984893235, \"f623\": 0.0, \"f445\": 0.0, \"i487\": 2.8306127965588748, \"i513\": 2.681289614390245, \"i68\": 2.716970385050567, \"f205\": 0.0, \"f112\": 0.0, \"i397\": 2.298832757552789, \"i194\": 2.775805310644954, \"f198\": 0.0, \"i722\": 2.483217476542771, \"i180\": 2.805863649100219, \"f549\": 0.0, \"i901\": 2.8452310193463486, \"f65\": 0.0, \"i467\": 2.6713166569724893, \"f546\": 0.0, \"f571\": 0.0, \"f197\": 0.0, \"negate\": 3.33, \"f655\": 0.0, \"i774\": 2.7309352136441354, \"i772\": 2.7296977554229214, \"i303\": 2.52088483683345, \"f146\": 0.0, \"conj\": 5.36, \"i326\": 2.8211827656861264, \"i601\": 2.624458379810757, \"i255\": 2.661654680089082, \"i426\": 2.082052850200218, \"f573\": 0.0, \"f196\": 0.0, \"f192\": 0.0, \"f267\": 0.0, \"i28\": 2.817293922717622, \"i413\": 2.121517739055809, \"f130\": 0.0, \"i93\": 3.0455334245882213, \"i498\": 2.565512282492614, \"f501\": 0.0, \"f526\": 0.0, \"f488\": 0.0, \"f144\": 0.0, \"i889\": 2.664760786918853, \"i197\": 2.695926338229148, \"f26\": 0.0, \"f508\": 0.0, \"f652\": 0.0, \"i539\": 2.538920842577073, \"f79\": 0.0, \"i98\": 3.2293344803645914, \"f690\": 0.0, \"i312\": 3.06877963094805, \"topic_13\": 5.413014619584902e-06, \"i787\": 2.758130734944216, \"i794\": 2.651781998200419, \"i10\": 2.420374698121542, \"i90\": 2.8751754842966197, \"i887\": 2.5883956315734715, \"i831\": 2.665196269943726, \"cogmech\": 16.74, \"i108\": 2.870637670929866, \"f632\": 0.0, \"i815\": 2.8845229602713798, \"f35\": 0.0, \"f23\": 0.0, \"i979\": 2.834992642672203, \"i519\": 2.677050659594294, \"f365\": 0.0, \"i184\": 2.940013543007166, \"i587\": 2.407655000468592, \"topic_20\": 6.563259743722067e-07, \"f548\": 0.0, \"f639\": 0.0, \"f294\": 0.0, \"f141\": 0.0, \"f714\": 0.0, \"i344\": 2.743554550939697, \"i939\": 2.875818050158497, \"f741\": 0.0, \"i263\": 2.170011225837424, \"i994\": 2.617702510082861, \"f605\": 0.0, \"i147\": 2.8091661419188263, \"i557\": 2.697035010130874, \"f615\": 0.0, \"i428\": 2.262861123388593, \"i988\": 2.6378469740287653, \"f154\": 0.0, \"i358\": 2.2769306937210567, \"f540\": 0.0, \"i569\": 2.794079683901266, \"i478\": 2.589049165734064, \"i558\": 2.515155839081129, \"i437\": 2.315720247543899, \"i483\": 2.5926246275274343, \"f181\": 0.0, \"i730\": 2.7787982650102476, \"i44\": 2.8402527180852366, \"f447\": 0.0, \"i129\": 2.8946708081876813, \"f514\": 0.0, \"f535\": 0.0, \"i560\": 2.506081586566021, \"i64\": 2.901835965962544, \"i876\": 2.6720559949548197, \"f305\": 0.0, \"i121\": 2.6042883062021898, \"i616\": 2.774678858732317, \"f221\": 0.0, \"f104\": 0.0, \"i661\": 2.553786687644365, \"f706\": 0.0, \"f76\": 0.0, \"i936\": 2.4603860678277556, \"i107\": 2.7598293770433857, \"f517\": 0.0, \"f431\": 0.0, \"f612\": 0.0, \"i636\": 2.365089739176062, \"f577\": 0.0, \"i405\": 2.497331870147016, \"f258\": 0.0, \"f572\": 0.0, \"i286\": 2.52285950384676, \"topic_26\": 8.000635591175509e-06, \"f483\": 0.0, \"i375\": 2.715441740977951, \"i276\": 2.65115658462006, \"i205\": 2.691479605004164, \"topic_44\": 4.3071790280160485e-06, \"i353\": 2.840541134292762, \"i879\": 3.0365159306861877, \"f253\": 0.0, \"i973\": 2.750415743480318, \"i323\": 2.8452886516908764, \"f362\": 0.0, \"f522\": 0.0, \"i977\": 3.098836816798839, \"f761\": 0.0, \"f734\": 0.0, \"i176\": 2.8773624807770597, \"i507\": 2.6901418033912194, \"f183\": 0.0, \"f360\": 0.0, \"i531\": 2.589307892037874, \"i207\": 2.7868321324021768, \"f329\": 0.0, \"i792\": 2.8617513046083, \"f155\": 0.0, \"i244\": 2.4798608802367643, \"i600\": 2.70426691080929, \"i758\": 2.3832274964611333, \"f585\": 0.0, \"f41\": 0.0, \"i461\": 2.7420723461179084, \"topic_18\": 3.290240538914827e-06, \"f484\": 0.0, \"i111\": 2.475453303753367, \"f286\": 0.0, \"i387\": 2.4923229543537584, \"i612\": 2.764679587577038, \"i283\": 2.543651487627046, \"i169\": 2.36098883394956, \"f676\": 0.0, \"i688\": 2.5637126586687833, \"i447\": 2.718071765960223, \"i926\": 2.9644935684542983, \"i888\": 2.9748969658547098, \"i443\": 2.423552671483964, \"i18\": 2.6616020271655487, \"i251\": 2.6221001616555877, \"f670\": 0.0, \"i411\": 2.7080297922405734, \"f537\": 0.0, \"i50\": 2.770138195134806, \"topic_40\": 1.345712777945403e-05, \"i308\": 2.6045380746379068, \"f248\": 0.0, \"f408\": 0.0, \"i424\": 2.381116213476583, \"f38\": 0.0, \"f375\": 0.0, \"i451\": 2.739370412188835, \"f90\": 0.0, \"f523\": 0.0, \"i645\": 2.4842528398308064, \"i285\": 2.307353344260575, \"i880\": 3.0699286302218507, \"i602\": 2.2278230500740084, \"f470\": 0.0, \"i526\": 2.631285369582297, \"f738\": 0.0, \"f307\": 0.0, \"topic_22\": 6.0893231246646675e-06, \"percept\": 1.9, \"i270\": 2.740351697437961, \"filler\": 0.34, \"f497\": 0.0, \"numberOfMentions\": 0.2494529540481401, \"leisure\": 0.94, \"i132\": 3.21837292125715, \"f707\": 0.0, \"f180\": 0.0, \"i78\": 2.466976802311184, \"i916\": 2.7806461222033723, \"f260\": 0.0, \"i919\": 3.0019071352066, \"i172\": 2.695374131468522, \"i956\": 2.441359967416434, \"i328\": 2.256382752466485, \"i238\": 2.3885274242077834, \"home\": 0.33, \"i533\": 2.602774765807736, \"i501\": 2.718941968555305, \"i952\": 2.679421678339379, \"f279\": 0.0, \"i850\": 2.6254104926087747, \"f642\": 0.0, \"f506\": 0.0, \"i296\": 2.814066155145254, \"i55\": 2.9142233487646187, \"f262\": 0.0, \"i96\": 2.665692922653085, \"f495\": 0.0, \"f313\": 0.0, \"f50\": 0.0, \"verb\": 18.6, \"i70\": 2.8369331493305783, \"f609\": 0.0, \"i500\": 2.44726859332765, \"i243\": 2.290797473528312, \"i82\": 2.855122846981494, \"f485\": 0.0, \"f31\": 0.0, \"f762\": 0.0, \"i680\": 2.486402533067937, \"f550\": 0.0, \"f432\": 0.0, \"i126\": 2.563690611794567, \"i188\": 2.787275097282787, \"f417\": 0.0, \"i633\": 2.38239064835217, \"topic_36\": 0.0006938038079629513, \"f739\": 0.0, \"f186\": 0.0, \"f393\": 0.0, \"i236\": 2.609410349011435, \"i6\": 2.5547572845281543, \"f177\": 0.0, \"i16\": 2.622913520809297, \"numberOfTweets\": 914.0, \"i915\": 2.964628275788871, \"f356\": 0.0, \"f269\": 0.0, \"f87\": 0.0, \"f747\": 0.0, \"i527\": 2.4481395848258867, \"i491\": 2.928298844353581, \"f174\": 0.0, \"f4\": 0.0, \"f696\": 0.0, \"averageSentiLevel\": 0.4239787075885271, \"i332\": 2.362799850213587, \"numberOfEmotionWords\": 0.4843325484513675, \"i837\": 2.86527012654821, \"i532\": 2.862085061540214, \"f478\": 0.0, \"f343\": 0.0, \"i696\": 2.405562914127502, \"i109\": 2.7338271120600117, \"i466\": 2.6293541092082204, \"f728\": 0.0, \"f169\": 0.0, \"i162\": 2.5768265618976134, \"i861\": 2.237096530325879, \"f107\": 0.0, \"i57\": 2.651160130442846, \"i189\": 2.6727960624605, \"topic_29\": 5.044239404675954e-06, \"f493\": 0.0, \"f276\": 0.0, \"f662\": 0.0, \"f677\": 0.0, \"i38\": 2.441718871696795, \"i624\": 2.97247961389417, \"i793\": 2.6391904336890764, \"i327\": 2.661848215847161, \"topic_21\": 0.0004885220986882438, \"i266\": 2.793390869652229, \"numberOfMisspellings\": 0.061311356638290175, \"i954\": 2.7678167712531696, \"f138\": 0.0, \"f139\": 0.0, \"they\": 0.35, \"i402\": 2.681841091627522, \"f152\": 0.0, \"i981\": 2.409491634878111, \"f635\": 0.0, \"i930\": 2.9732237361924128, \"f176\": 0.0, \"i143\": 2.626077947092795, \"f440\": 0.0, \"i705\": 2.6530337499895658, \"i904\": 2.707305468866692, \"f758\": 0.0, \"f637\": 0.0, \"f579\": 0.0, \"i2\": 2.519290166656385, \"f184\": 0.0, \"f744\": 0.0, \"f697\": 0.0, \"i298\": 3.08122927771963, \"f98\": 0.0, \"f610\": 0.0, \"f208\": 0.0, \"i391\": 2.3245496686301355, \"f241\": 0.0, \"i853\": 3.089776059405324, \"f259\": 0.0, \"i614\": 2.8852679732667363, \"f708\": 0.0, \"i81\": 2.3036580709814682, \"i325\": 2.675623907029816, \"i849\": 2.6684923582259588, \"i319\": 2.628091753882031, \"f166\": 0.0, \"i689\": 1.9276297229935382, \"f394\": 0.0, \"f682\": 0.0, \"f405\": 0.0, \"i873\": 2.7730083054027688, \"ipron\": 5.29, \"i847\": 2.7832585325899117, \"f748\": 0.0, \"nonfl\": 0.04, \"i811\": 2.461042859394928, \"f588\": 0.0, \"i859\": 2.803251387163199, \"i502\": 2.567710387238458, \"f500\": 0.0, \"time\": 6.65, \"i617\": 2.9571839014352204, \"i39\": 2.7403680608163246, \"f220\": 0.0, \"f84\": 0.0, \"topic_24\": 5.707643229508065e-06, \"WC\": 10876.0, \"f756\": 0.0, \"f366\": 0.0, \"f7\": 0.0, \"i863\": 2.314091408529071, \"f289\": 0.0, \"i431\": 1.9398691058670032, \"f533\": 0.0, \"i663\": 2.5683323143758376, \"f315\": 0.0, \"f250\": 0.0, \"f382\": 0.0, \"f418\": 0.0, \"f336\": 0.0, \"Sixltr\": 10.98, \"f436\": 0.0, \"i241\": 2.318040029998, \"i29\": 2.758744915137433, \"i87\": 2.499029725463738, \"i168\": 2.6376171063113683, \"i963\": 2.928659394302891, \"f126\": 0.0, \"WPS\": 36.62, \"i390\": 2.572308691663326, \"f654\": 0.0, \"f111\": 0.0, \"i136\": 2.6918467927676626, \"i345\": 2.709919800614143, \"i23\": 2.6380519191927014, \"numberOfRepeatedChars\": 0.008784640463684115, \"f496\": 0.0, \"f694\": 0.0, \"f395\": 0.0, \"i240\": 2.7043897888379402, \"i224\": 2.344099944291561, \"f225\": 0.0, \"f528\": 0.0, \"f2\": 0.0, \"f199\": 0.0, \"f203\": 0.0, \"i556\": 2.626817293557956, \"f117\": 0.0, \"i782\": 2.9513596457475333, \"f480\": 0.0, \"i509\": 2.553116300221999, \"i190\": 2.929975916737702, \"i726\": 2.538560771907637, \"f606\": 0.0, \"f28\": 0.0, \"i506\": 2.916506765328083, \"i723\": 2.575383479886091, \"i237\": 2.603552539491135, \"i313\": 2.647903326144644, \"i137\": 2.756487744448853, \"topic_19\": 0.05391039469489452, \"i553\": 2.683848493880385, \"i546\": 2.601966386075021, \"i315\": 2.6297960391836153, \"i729\": 2.613896238978005, \"f86\": 0.0, \"i356\": 2.9664569999597585, \"i11\": 2.840757234377665, \"i492\": 2.915722663453778, \"i272\": 2.5734970258181367, \"f468\": 0.0, \"f627\": 0.0, \"f691\": 0.0, \"i100\": 2.565747121148176, \"i293\": 2.2202432006897017, \"i869\": 2.616619481775116, \"f595\": 0.0, \"i336\": 2.972017074884181, \"f48\": 0.0, \"i386\": 2.4759699250436817, \"i674\": 2.742191148146919, \"f421\": 0.0, \"i912\": 2.633572442245333, \"i217\": 2.8388644012218265, \"i58\": 2.6452147696379034, \"i142\": 2.6278149676339333, \"i927\": 2.509123639549232, \"i40\": 2.6144342030676757, \"f244\": 0.0, \"i649\": 2.699523431238081, \"f82\": 0.0, \"i268\": 2.8915859084319937, \"f603\": 0.0, \"i366\": 2.3502737137672054, \"i511\": 2.5925769540248953, \"i470\": 2.7983762795245744, \"i159\": 2.419354994137008, \"i203\": 2.886476980077362, \"i420\": 2.2736495521846365, \"i1000\": 2.8020984052008844, \"i418\": 2.316325819785745, \"f243\": 0.0, \"i438\": 2.355925144525362, \"f490\": 0.0, \"f249\": 0.0, \"i369\": 2.8396478668839085, \"f527\": 0.0, \"f398\": 0.0, \"ingest\": 0.41, \"i828\": 2.557772285767665, \"i178\": 2.960608496103565, \"f42\": 0.0, \"f630\": 0.0, \"i477\": 2.808300223152709, \"f222\": 0.0, \"i484\": 2.6261904039652406, \"f345\": 0.0, \"i412\": 2.411232888351236, \"i823\": 2.777270549807477, \"i479\": 3.0137710510748463, \"i907\": 2.4392133746535363, \"f598\": 0.0, \"i808\": 2.829214486922158, \"f230\": 0.0, \"f58\": 0.0, \"i330\": 2.5109873172196213, \"i698\": 2.605436813471874, \"f210\": 0.0, \"i585\": 2.691678128666067, \"i450\": 2.617959429543959, \"f683\": 0.0, \"f658\": 0.0, \"money\": 0.42, \"i790\": 2.887601879632176, \"f349\": 0.0, \"i269\": 2.474696864386496, \"f30\": 0.0, \"numberOfSlang\": 0.025176598442311182, \"i145\": 2.6031455163596804, \"i991\": 2.487378838896067, \"f18\": 0.0, \"humans\": 1.09, \"i161\": 2.9791005557339214, \"f277\": 0.0, \"i41\": 2.4783010744894907, \"f97\": 0.0, \"f12\": 0.0, \"f303\": 0.0, \"i727\": 2.3532125900935887, \"i835\": 2.688472407967915, \"i654\": 2.5372969914660697, \"f194\": 0.0, \"f47\": 0.0, \"f285\": 0.0, \"f611\": 0.0, \"f634\": 0.0, \"i384\": 2.89103784977506, \"i246\": 2.206195668748625, \"i5\": 2.6968699257833846, \"f44\": 0.0, \"i273\": 2.720241847678375, \"i\": 9.12, \"f733\": 0.0, \"i744\": 2.62377953288654, \"f649\": 0.0, \"i146\": 2.836135288306609, \"i807\": 2.7109110277395994, \"topic_6\": 0.009476339666652966, \"i760\": 2.762710833095984, \"i123\": 2.7349407548999034, \"f454\": 0.0, \"i460\": 2.3930680793224646, \"relativ\": 12.47, \"f64\": 0.0, \"i361\": 2.671726615162997, \"i947\": 2.623849537438086, \"f102\": 0.0, \"i572\": 2.7576220090475827, \"i697\": 2.800173053117647, \"i4\": 2.7541928675825544, \"f686\": 0.0, \"f109\": 0.0, \"f333\": 0.0, \"i32\": 2.64755663289754, \"Dic\": 88.63, \"i56\": 2.6502308025252233, \"i812\": 2.911197239259703, \"f304\": 0.0, \"f172\": 0.0, \"i974\": 2.71709861998613, \"i681\": 2.18380259328924, \"i187\": 2.79637813203884, \"f657\": 0.0, \"i567\": 2.5049003610224436, \"i563\": 2.648914352194464, \"i24\": 2.6508484458336383, \"i983\": 2.7358501566507183, \"f660\": 0.0, \"i631\": 2.3011568238358553, \"f227\": 0.0, \"i183\": 2.696910270121119, \"f463\": 0.0, \"f720\": 0.0, \"i989\": 2.4682946947229807, \"i829\": 2.769033086021525, \"discrep\": 2.31, \"f705\": 0.0, \"f516\": 0.0, \"f140\": 0.0, \"i482\": 2.661871009210385, \"i764\": 2.53435526490893, \"f414\": 0.0, \"f251\": 0.0, \"f11\": 0.0, \"f153\": 0.0, \"f311\": 0.0, \"f5\": 0.0, \"i410\": 2.282506729089435, \"f322\": 0.0, \"f507\": 0.0, \"i453\": 2.3864581142642582, \"f93\": 0.0, \"f512\": 0.0, \"i490\": 2.5508214636491413, \"i545\": 2.541607812794672, \"f648\": 0.0, \"f433\": 0.0, \"i83\": 3.110131740507323, \"f178\": 0.0, \"Qmarks\": 0.4, \"i998\": 3.088837756653949, \"i686\": 2.649312129041619, \"i743\": 2.524593657191482, \"f143\": 0.0, \"f713\": 0.0, \"i662\": 2.470524101110172, \"i752\": 2.565728611613917, \"i371\": 2.7006142976804064, \"f504\": 0.0, \"topic_46\": 0.022782152495190697, \"f148\": 0.0, \"f287\": 0.0, \"f764\": 0.0, \"f553\": 0.0, \"i85\": 2.8466613092507838, \"i45\": 2.8757362163010263, \"i905\": 2.6020219061949703, \"i300\": 2.86120409423433, \"f458\": 0.0, \"i748\": 3.129131674040112, \"i608\": 2.548121701324455, \"f442\": 0.0, \"i877\": 2.941399739163168, \"f704\": 0.0, \"i857\": 2.6930358649286497, \"f601\": 0.0, \"f590\": 0.0, \"i781\": 2.876073510572897, \"f62\": 0.0, \"f157\": 0.0, \"i279\": 2.573136276522331, \"f732\": 0.0, \"i776\": 2.932287224845, \"sad\": 0.68, \"i591\": 3.1164497742854764, \"i235\": 1.966269860255222, \"i523\": 2.605763444826896, \"i481\": 2.6994963879772107, \"i571\": 2.7393746875349705, \"i416\": 2.366887929401685, \"f341\": 0.0, \"i133\": 2.6259441983179705, \"f77\": 0.0, \"f40\": 0.0, \"i735\": 2.461834146225931, \"i538\": 2.7751947589821118, \"i920\": 2.449853090963282, \"f674\": 0.0, \"i499\": 2.667981428914329, \"i644\": 2.58146974049124, \"i475\": 2.5624858972957347, \"i834\": 2.256848154431475, \"f232\": 0.0, \"f539\": 0.0, \"i900\": 2.760732374257829, \"i200\": 2.769977148614221, \"i766\": 2.7448631801015355, \"i826\": 2.733578760256844, \"i444\": 2.8523127654574285, \"f317\": 0.0, \"f555\": 0.0, \"i354\": 2.936187540840583, \"i621\": 2.417642183591642, \"f295\": 0.0, \"f292\": 0.0, \"i372\": 3.0257930996116964, \"i629\": 2.4355315721078856, \"i640\": 2.629588939380953, \"anger\": 1.41, \"f162\": 0.0, \"bio\": 3.0, \"health\": 0.65, \"f725\": 0.0, \"i299\": 2.576472234103839, \"i52\": 2.659354815318959, \"friend\": 0.33, \"i751\": 2.9199117964705867, \"i231\": 2.147505040327712, \"f437\": 0.0, \"i362\": 2.090207725156863, \"f584\": 0.0, \"i59\": 2.9483844926002236, \"i94\": 2.485422681417018, \"i554\": 2.5874349850488434, \"i135\": 2.604508919152458, \"i230\": 2.341599392737979, \"i114\": 2.666295678595493, \"f647\": 0.0, \"i894\": 2.661856062464572, \"i318\": 2.627188765150418, \"f113\": 0.0, \"i656\": 2.523843630843813, \"i842\": 2.507155402520785, \"i893\": 2.3481439042827357, \"f469\": 0.0, \"f671\": 0.0, \"f163\": 0.0, \"i385\": 2.254783128316914, \"i990\": 2.7730606995999967, \"i380\": 2.684853980642454, \"f556\": 0.0, \"i463\": 2.889834628254242, \"f444\": 0.0, \"i701\": 2.325747274517736, \"i822\": 2.7316460917330487, \"f687\": 0.0, \"f729\": 0.0, \"numberOfImages\": 7.0, \"i331\": 2.728605463865216, \"past\": 2.37, \"f132\": 0.0, \"i820\": 2.9184112623746667, \"i265\": 2.438592847183045, \"f81\": 0.0, \"f731\": 0.0, \"i229\": 2.6097725319054494, \"i256\": 2.486189783700739, \"i734\": 2.3751672983660237, \"f266\": 0.0, \"i618\": 2.776027306296451, \"f489\": 0.0, \"f622\": 0.0, \"i271\": 2.514789346909661, \"topic_32\": 2.1965234316777505e-06, \"i934\": 2.456942666726114, \"f348\": 0.0, \"f552\": 0.0, \"f116\": 0.0, \"space\": 4.04, \"f27\": 0.0, \"i46\": 2.9717149419411384, \"f722\": 0.0, \"preps\": 10.15, \"i814\": 2.559021882918085, \"i480\": 2.646881331796109, \"f753\": 0.0, \"f385\": 0.0, \"i456\": 2.879751805468493, \"f716\": 0.0, \"i706\": 2.594150985477464, \"f15\": 0.0, \"i670\": 2.381453787681832, \"i125\": 2.7350539073643794, \"i394\": 2.5823335894469257, \"i804\": 2.5924808859793007, \"i118\": 2.481493986114897, \"i777\": 2.7670454784516108, \"family\": 0.64, \"i862\": 2.651305288623528, \"f179\": 0.0, \"f475\": 0.0, \"topic_27\": 0.4860747663244995, \"i525\": 2.6296024694942184, \"i720\": 2.6052816964492034, \"topic_1\": 0.006355405894911268, \"f24\": 0.0, \"topic_30\": 1.910156746219932e-07, \"f724\": 0.0, \"i970\": 2.615137234539178, \"f217\": 0.0, \"article\": 4.15, \"i997\": 2.747573630791559, \"i657\": 2.915653220889694, \"i738\": 2.524920984138534, \"i60\": 2.731885188769087, \"i871\": 2.662362012355207, \"f66\": 0.0, \"f101\": 0.0, \"i761\": 2.923274002047688, \"i810\": 2.7417051413887514, \"i577\": 2.801847444927604, \"f234\": 0.0, \"f511\": 0.0, \"i715\": 2.090628244470264, \"f448\": 0.0, \"i8\": 2.732315692372966, \"f115\": 0.0, \"f456\": 0.0, \"i541\": 2.5391805698547794, \"f482\": 0.0, \"f103\": 0.0, \"f532\": 0.0, \"i833\": 2.6163099263561453, \"f422\": 0.0, \"tentat\": 2.52, \"i401\": 2.510610170614134, \"f330\": 0.0, \"i42\": 2.5983963532926166, \"i848\": 2.425966375827763, \"i642\": 2.732495714983439, \"f327\": 0.0, \"i580\": 2.9552519369862837, \"i767\": 2.5267554723921557, \"f310\": 0.0, \"f165\": 0.0, \"i110\": 2.949306219902496, \"i757\": 3.106580224681654, \"i866\": 2.547895413361162, \"i399\": 2.410297868454929, \"f574\": 0.0, \"i206\": 2.7423021629383264, \"i620\": 2.7701766393187035, \"i14\": 2.820913291637172, \"i415\": 2.275047827890037, \"f72\": 0.0, \"i77\": 2.566300710610031, \"f563\": 0.0, \"f464\": 0.0, \"auxverb\": 10.69, \"f255\": 0.0, \"i632\": 2.732898462768759, \"f283\": 0.0, \"i542\": 2.8885364669041715, \"f63\": 0.0, \"f296\": 0.0, \"i982\": 1.9774660417060692, \"f681\": 0.0, \"swear\": 0.87, \"topic_3\": 7.943230680644845e-07, \"i540\": 2.5513224510844417, \"topic_42\": 2.6130623867347477e-05, \"i622\": 2.47995554013264, \"i561\": 2.687244925554348, \"i27\": 2.5486888293824044, \"i678\": 2.467842101830737, \"f353\": 0.0, \"topic_12\": 0.0006916219082406509, \"i150\": 2.6796920854995934, \"f387\": 0.0, \"f567\": 0.0, \"f223\": 0.0, \"f127\": 0.0, \"i248\": 2.186897316161643, \"i35\": 2.6623584495667605, \"i171\": 2.919431763745187, \"f608\": 0.0, \"i339\": 2.806105579401355, \"f39\": 0.0, \"f557\": 0.0, \"f372\": 0.0, \"i609\": 2.531168749337067, \"i465\": 2.5458567009841238, \"i13\": 2.959951271912082, \"f237\": 0.0, \"f46\": 0.0, \"f45\": 0.0, \"f118\": 0.0, \"i177\": 2.60486399343524, \"f525\": 0.0, \"f254\": 0.0, \"i559\": 3.0757947216347583, \"i762\": 2.90134430963984, \"i699\": 2.5241446355705133, \"i802\": 3.0090782436864503, \"f638\": 0.0, \"f679\": 0.0, \"f25\": 0.0, \"i297\": 2.8681653205433975, \"i544\": 2.870696386955878, \"i430\": 2.426646656350188, \"f438\": 0.0, \"f487\": 0.0, \"i986\": 2.7367965859528818, \"f640\": 0.0, \"f297\": 0.0, \"i363\": 1.967300948197124, \"i445\": 2.6136706508481584, \"i611\": 2.541141689789164, \"i396\": 2.237865057724977, \"f308\": 0.0, \"f703\": 0.0, \"topic_15\": 2.1480858652786525e-05, \"i314\": 2.558178621789919, \"f742\": 0.0, \"f685\": 0.0, \"f499\": 0.0, \"i578\": 2.802076557673164, \"i690\": 2.396157101733354, \"f281\": 0.0, \"i367\": 2.1316222990924945, \"shehe\": 1.16, \"i227\": 2.6269254496357783, \"i957\": 2.56161348068212, \"i30\": 2.69593344684038, \"i383\": 2.4041447377037817, \"topic_17\": 0.096476365101541, \"i464\": 2.593662120005709, \"f338\": 0.0, \"i395\": 2.2567357230075173, \"f389\": 0.0, \"f105\": 0.0, \"f743\": 0.0, \"f347\": 0.0, \"f472\": 0.0, \"f587\": 0.0, \"f582\": 0.0, \"topic_4\": 0.14114277115917226, \"f581\": 0.0, \"certain\": 2.11, \"i140\": 2.906125164558413, \"i347\": 2.808396197887178, \"i340\": 2.697620639240253, \"i307\": 2.784824017591625, \"i599\": 2.650240048809523, \"f214\": 0.0, \"f73\": 0.0, \"f215\": 0.0, \"i836\": 3.1350122193994467, \"i733\": 2.1727373867279267, \"f399\": 0.0, \"i702\": 2.741865958872935, \"i895\": 2.981132774504877, \"i373\": 2.655027622129164, \"f750\": 0.0, \"i294\": 2.5231177975262584, \"f32\": 0.0, \"i797\": 2.822713674674254, \"topic_38\": 3.1762610314306986e-06, \"i333\": 3.057485888473592, \"f209\": 0.0, \"f1\": 0.0, \"i931\": 2.635027073629401, \"f351\": 0.0, \"i88\": 2.8306312976103047, \"i234\": 2.710812126428907, \"f206\": 0.0, \"f21\": 0.0, \"excl\": 3.48, \"i860\": 2.604101904503833, \"i840\": 2.927625091368558, \"i929\": 2.644732308702521, \"i667\": 2.704889550504359, \"i693\": 2.2987978846401678, \"i846\": 2.671926487594812, \"i856\": 2.389550012354393, \"numberOfTermsAverage\": 12.08096280087527, \"f242\": 0.0, \"f158\": 0.0, \"i423\": 2.0926940001081733, \"i721\": 2.4375824149313, \"i724\": 2.5686475617734916, \"i400\": 2.4479823046816604, \"i548\": 2.583112771280044, \"i852\": 3.18771420417248, \"i292\": 2.4303746818345093, \"i798\": 2.701786989497375, \"f202\": 0.0, \"f749\": 0.0, \"i106\": 3.1278925367488064, \"i937\": 3.2065886156846566, \"i945\": 2.632400454503226, \"i342\": 2.5950490287193997, \"i515\": 2.64949428932516, \"i711\": 2.876018719976297, \"f161\": 0.0, \"f465\": 0.0, \"i965\": 2.486208276269338, \"i288\": 2.517396620942857, \"i379\": 2.674945789628946, \"i425\": 2.644519410885805, \"i626\": 2.5174079879345657, \"i749\": 2.7510312491156648, \"f597\": 0.0, \"i882\": 2.2987139046268, \"i872\": 3.088908202312637, \"f554\": 0.0, \"f688\": 0.0, \"i408\": 2.671056242585583, \"i719\": 2.297843668100401, \"i267\": 2.5217728788192497, \"i364\": 2.368769370117326, \"f328\": 0.0, \"f502\": 0.0, \"f544\": 0.0, \"numberOfEmoticons\": 0.001086759644991849, \"i949\": 3.000792262356412, \"i575\": 2.578505941611395, \"f661\": 0.0, \"f462\": 0.0, \"i128\": 2.317734054333135, \"f763\": 0.0, \"f53\": 0.0, \"i102\": 2.6862415764653456, \"f401\": 0.0, \"i173\": 3.010386296015873, \"i953\": 2.821089556354118, \"i74\": 2.678420475406275, \"f481\": 0.0, \"f236\": 0.0, \"f92\": 0.0, \"i955\": 2.73907368280827, \"i335\": 2.522288091959845, \"i818\": 2.6941039634562416, \"f376\": 0.0, \"i281\": 2.383792495328845, \"social\": 12.2, \"i1\": 2.612280183587434, \"i225\": 2.737295401783797, \"topic_9\": 0.055221275398645416, \"i570\": 2.4635319845769943, \"i742\": 2.5563903819234564, \"i127\": 2.884418333050685, \"i337\": 2.646346913529224, \"i419\": 1.958944020721449, \"i769\": 2.9131872814017217, \"i199\": 2.537628568310768, \"i305\": 2.611005740229019, \"f167\": 0.0, \"f466\": 0.0, \"i295\": 2.4903760686074974, \"i192\": 2.7943446026707073, \"i280\": 2.598866700747283, \"feel\": 0.64, \"i209\": 2.621582123732725, \"f474\": 0.0, \"f613\": 0.0, \"f325\": 0.0, \"i672\": 2.702556229454163, \"i959\": 2.82531784823322, \"i549\": 2.7207167546539694, \"i800\": 2.716564621619313, \"i432\": 2.3932417313278833, \"f699\": 0.0, \"f492\": 0.0, \"f238\": 0.0, \"i488\": 2.592256727206247, \"i615\": 2.8183117053412436, \"f95\": 0.0, \"i867\": 2.987893034097107, \"i341\": 2.965672809015741, \"i164\": 2.630758814898482, \"i252\": 2.6784582070324827, \"i76\": 2.772091502383098, \"i534\": 2.562030462655565, \"i472\": 2.735411127803058, \"f491\": 0.0, \"i73\": 2.673751738046963, \"f371\": 0.0, \"i62\": 2.544010854221622, \"f14\": 0.0, \"i619\": 2.983303204019043, \"i446\": 2.53344087525429, \"f324\": 0.0, \"posemo\": 5.45, \"i940\": 3.065530291539925, \"i355\": 2.8921597464081836, \"f128\": 0.0, \"i494\": 2.5521941551403664, \"i186\": 2.824153664694375, \"i576\": 2.737974274156503, \"i166\": 2.7169688114856703, \"i964\": 2.76819696743591, \"f673\": 0.0, \"f459\": 0.0, \"f211\": 0.0, \"Unique\": 17.14, \"i89\": 2.76607678172166, \"f712\": 0.0, \"f122\": 0.0, \"f137\": 0.0, \"i47\": 3.038165544150787, \"i555\": 2.2837085933575096, \"f427\": 0.0, \"i309\": 2.542226160177947, \"i393\": 2.7076782722634065, \"i417\": 2.482118755000204, \"f224\": 0.0, \"f434\": 0.0, \"f429\": 0.0, \"f306\": 0.0, \"f34\": 0.0, \"i673\": 2.790654792333883, \"f545\": 0.0, \"f164\": 0.0, \"f19\": 0.0, \"i365\": 2.367998009453129, \"f120\": 0.0, \"i9\": 2.7896981242563528, \"f392\": 0.0, \"i103\": 2.4886369273589515, \"i201\": 2.7729497017742477, \"f558\": 0.0, \"i976\": 2.9536495559170817, \"i750\": 2.990769642212569, \"i583\": 2.710967243451578, \"i946\": 2.648440433468522, \"i452\": 2.4077681444502383, \"i581\": 3.1671217026138456, \"f261\": 0.0, \"i832\": 2.6152076844392806, \"f123\": 0.0, \"i454\": 2.486673669751499, \"i324\": 2.4996779917871277, \"topic_35\": 0.013100914167693012, \"f719\": 0.0, \"i928\": 2.4191272810583366, \"i338\": 2.7481151746353354, \"i537\": 2.6222204142484666, \"i933\": 2.884519176929363, \"f452\": 0.0, \"cause\": 1.92, \"f665\": 0.0, \"i228\": 2.679072296035281, \"i551\": 2.688311590483731, \"topic_41\": 0.007916792819700312, \"f515\": 0.0, \"f121\": 0.0, \"i311\": 2.6022972927761794, \"i253\": 2.486172673833369, \"f265\": 0.0, \"f543\": 0.0, \"i854\": 2.9057142096354234, \"i664\": 2.7766983659830657, \"f461\": 0.0, \"f59\": 0.0, \"f358\": 0.0, \"i422\": 2.275634195005595, \"f377\": 0.0, \"i156\": 2.7777130735809457, \"i212\": 2.5622724014395293, \"i897\": 2.571558682281317, \"f411\": 0.0, \"f592\": 0.0, \"inhib\": 0.75, \"f578\": 0.0, \"i104\": 2.597211556477764, \"i20\": 2.4434508958512793, \"i943\": 2.620228671299106, \"i613\": 2.9162154522342383, \"i565\": 2.6965475358431794, \"i529\": 2.7219741560076516, \"i175\": 2.590526874656149, \"f520\": 0.0, \"f33\": 0.0, \"f245\": 0.0, \"i448\": 2.613267890338593, \"f629\": 0.0, \"f599\": 0.0, \"i980\": 2.525033398596832, \"we\": 0.38, \"f133\": 0.0, \"i675\": 2.330968235603332, \"f74\": 0.0, \"i115\": 2.45746780477738, \"i996\": 2.870811305969625, \"f335\": 0.0, \"i960\": 2.532171394351209, \"f562\": 0.0, \"f568\": 0.0, \"ppron\": 15.62, \"i213\": 2.926922407693072, \"topic_2\": 6.965458116981143e-06, \"i878\": 2.5983845960907463, \"f538\": 0.0, \"f142\": 0.0, \"f397\": 0.0, \"i584\": 2.6358068365363483, \"i138\": 2.634073412714975, \"numberOfRejectedTweets\": 0.0, \"i899\": 3.187911559324602, \"f593\": 0.0, \"i659\": 2.629781100920631, \"assent\": 1.03, \"i623\": 2.738100931285755, \"i352\": 2.5183409210547842, \"f37\": 0.0, \"i913\": 2.551728057583348, \"i497\": 2.870430948613122, \"i174\": 2.7019584868640667, \"see\": 0.6, \"i7\": 2.405771422079883, \"f619\": 0.0, \"f187\": 0.0, \"i486\": 2.941722799246915, \"i763\": 2.285456259849838, \"f89\": 0.0, \"topic_28\": 1.5928459289622072e-05, \"i803\": 2.6534912968543147, \"i122\": 2.673686250602196, \"f314\": 0.0, \"i950\": 2.7684417564506334}'"
      ]
     },
     "execution_count": 107,
     "metadata": {},
     "output_type": "execute_result"
    }
   ],
   "source": [
    "row20 = wholeDatasetGender.iloc[20]\n",
    "request = json.dumps(row20.to_dict())\n",
    "request"
   ]
  },
  {
   "cell_type": "code",
   "execution_count": 118,
   "metadata": {
    "collapsed": false
   },
   "outputs": [
    {
     "name": "stdout",
     "output_type": "stream",
     "text": [
      "b'female'\n"
     ]
    }
   ],
   "source": [
    "conn = HTTPConnection('dmitrytomp.cloudapp.net')\n",
    "conn.request('POST', '/gender', body=request, headers={'Content-Type': 'application/json'})\n",
    "print(conn.getresponse().read())\n",
    "conn.close()"
   ]
  },
  {
   "cell_type": "code",
   "execution_count": 115,
   "metadata": {
    "collapsed": false
   },
   "outputs": [
    {
     "name": "stderr",
     "output_type": "stream",
     "text": [
      "/nix/store/n12nlyxbcqlz49ajdz87g5489xqzvr3g-python3.5-scikit-learn-0.17.1/lib/python3.5/site-packages/sklearn/utils/validation.py:386: DeprecationWarning: Passing 1d arrays as data is deprecated in 0.17 and willraise ValueError in 0.19. Reshape your data either using X.reshape(-1, 1) if your data has a single feature or X.reshape(1, -1) if it contains a single sample.\n",
      "  DeprecationWarning)\n"
     ]
    },
    {
     "data": {
      "text/plain": [
       "array([1])"
      ]
     },
     "execution_count": 115,
     "metadata": {},
     "output_type": "execute_result"
    }
   ],
   "source": [
    "genderWholeClf.predict(wholeDatasetGender.iloc[20])"
   ]
  },
  {
   "cell_type": "code",
   "execution_count": 131,
   "metadata": {
    "collapsed": false
   },
   "outputs": [
    {
     "data": {
      "text/plain": [
       "'{\"topic_18\": 7.77011415248817e-06, \"topic_0\": 4.017593234599746e-05, \"topic_23\": 5.5517370567170035e-06, \"topic_21\": 0.9801603446959468, \"topic_3\": 1.875844893349741e-06, \"topic_41\": 7.360477495865779e-05, \"topic_25\": 1.1019001860758473e-05, \"topic_47\": 1.2846673883007625e-05, \"topic_6\": 3.2092832394533235e-05, \"topic_27\": 0.0002242587142664439, \"topic_34\": 1.917157335225105e-05, \"topic_12\": 3.710298996978781e-05, \"topic_39\": 3.326717155484388e-06, \"topic_4\": 0.0018388223124091835, \"topic_13\": 1.2783181352793733e-05, \"topic_29\": 1.191229502015012e-05, \"topic_19\": 0.00014840313250651533, \"topic_49\": 0.0005460734637457872, \"topic_45\": 3.831362617573646e-05, \"topic_38\": 7.500944232015382e-06, \"topic_37\": 0.00013084105020125957, \"topic_40\": 3.177987073415129e-05, \"topic_10\": 2.2809038874771716e-05, \"topic_46\": 6.2561950541505e-05, \"topic_44\": 1.0171679646839977e-05, \"topic_43\": 4.0553856921446036e-05, \"topic_24\": 1.347896572011143e-05, \"topic_1\": 0.004899390829405058, \"topic_14\": 1.5968268148695638e-05, \"topic_2\": 1.6449376285166435e-05, \"topic_31\": 3.120614803305112e-05, \"topic_48\": 0.00011298512481522482, \"topic_35\": 7.865662467180563e-05, \"topic_26\": 1.889401431312881e-05, \"topic_42\": 6.170914494658402e-05, \"topic_11\": 2.2275858610653265e-06, \"topic_7\": 3.1423818088491262e-06, \"topic_22\": 1.4380327283194794e-05, \"topic_8\": 5.612467667857691e-05, \"topic_32\": 5.187231024872187e-06, \"topic_5\": 5.761484904076294e-05, \"topic_17\": 0.0006417313059505492, \"topic_36\": 4.225568616662818e-05, \"topic_33\": 0.010131913223851223, \"topic_15\": 5.072842603801355e-05, \"topic_9\": 5.171897851986995e-05, \"topic_20\": 1.5499559019466224e-06, \"topic_28\": 3.761607866956867e-05, \"topic_30\": 4.510957722309695e-07, \"topic_16\": 0.00012295169649563685}'"
      ]
     },
     "execution_count": 131,
     "metadata": {},
     "output_type": "execute_result"
    }
   ],
   "source": [
    "row21 = twitterLDA50AgeGroup.iloc[2]\n",
    "request = json.dumps(row21.to_dict())\n",
    "request"
   ]
  },
  {
   "cell_type": "code",
   "execution_count": 136,
   "metadata": {
    "collapsed": false
   },
   "outputs": [
    {
     "name": "stdout",
     "output_type": "stream",
     "text": [
      "b'AGE20_30'\n"
     ]
    }
   ],
   "source": [
    "conn = HTTPConnection('dmitrytomp.cloudapp.net')\n",
    "conn.request('POST', '/age', body=request, headers={'Content-Type': 'application/json'})\n",
    "print(conn.getresponse().read())\n",
    "conn.close()"
   ]
  },
  {
   "cell_type": "code",
   "execution_count": 133,
   "metadata": {
    "collapsed": false
   },
   "outputs": [
    {
     "name": "stderr",
     "output_type": "stream",
     "text": [
      "/nix/store/n12nlyxbcqlz49ajdz87g5489xqzvr3g-python3.5-scikit-learn-0.17.1/lib/python3.5/site-packages/sklearn/utils/validation.py:386: DeprecationWarning: Passing 1d arrays as data is deprecated in 0.17 and willraise ValueError in 0.19. Reshape your data either using X.reshape(-1, 1) if your data has a single feature or X.reshape(1, -1) if it contains a single sample.\n",
      "  DeprecationWarning)\n"
     ]
    },
    {
     "data": {
      "text/plain": [
       "array([1])"
      ]
     },
     "execution_count": 133,
     "metadata": {},
     "output_type": "execute_result"
    }
   ],
   "source": [
    "singleTrainTestAge[2].predict(row21)"
   ]
  },
  {
   "cell_type": "code",
   "execution_count": 130,
   "metadata": {
    "collapsed": false
   },
   "outputs": [
    {
     "data": {
      "text/plain": [
       "topic_0     4.017593e-05\n",
       "topic_1     4.899391e-03\n",
       "topic_2     1.644938e-05\n",
       "topic_3     1.875845e-06\n",
       "topic_4     1.838822e-03\n",
       "topic_5     5.761485e-05\n",
       "topic_6     3.209283e-05\n",
       "topic_7     3.142382e-06\n",
       "topic_8     5.612468e-05\n",
       "topic_9     5.171898e-05\n",
       "topic_10    2.280904e-05\n",
       "topic_11    2.227586e-06\n",
       "topic_12    3.710299e-05\n",
       "topic_13    1.278318e-05\n",
       "topic_14    1.596827e-05\n",
       "topic_15    5.072843e-05\n",
       "topic_16    1.229517e-04\n",
       "topic_17    6.417313e-04\n",
       "topic_18    7.770114e-06\n",
       "topic_19    1.484031e-04\n",
       "topic_20    1.549956e-06\n",
       "topic_21    9.801603e-01\n",
       "topic_22    1.438033e-05\n",
       "topic_23    5.551737e-06\n",
       "topic_24    1.347897e-05\n",
       "topic_25    1.101900e-05\n",
       "topic_26    1.889401e-05\n",
       "topic_27    2.242587e-04\n",
       "topic_28    3.761608e-05\n",
       "topic_29    1.191230e-05\n",
       "topic_30    4.510958e-07\n",
       "topic_31    3.120615e-05\n",
       "topic_32    5.187231e-06\n",
       "topic_33    1.013191e-02\n",
       "topic_34    1.917157e-05\n",
       "topic_35    7.865662e-05\n",
       "topic_36    4.225569e-05\n",
       "topic_37    1.308411e-04\n",
       "topic_38    7.500944e-06\n",
       "topic_39    3.326717e-06\n",
       "topic_40    3.177987e-05\n",
       "topic_41    7.360477e-05\n",
       "topic_42    6.170914e-05\n",
       "topic_43    4.055386e-05\n",
       "topic_44    1.017168e-05\n",
       "topic_45    3.831363e-05\n",
       "topic_46    6.256195e-05\n",
       "topic_47    1.284667e-05\n",
       "topic_48    1.129851e-04\n",
       "topic_49    5.460735e-04\n",
       "Name: 1c1405656095a093c00d32d99d4fdbba, dtype: float64"
      ]
     },
     "execution_count": 130,
     "metadata": {},
     "output_type": "execute_result"
    }
   ],
   "source": [
    "twitterLDA50AgeGroup.iloc[2]"
   ]
  }
 ],
 "metadata": {
  "kernelspec": {
   "display_name": "Python 3",
   "language": "python",
   "name": "python3"
  },
  "language_info": {
   "codemirror_mode": {
    "name": "ipython",
    "version": 3
   },
   "file_extension": ".py",
   "mimetype": "text/x-python",
   "name": "python",
   "nbconvert_exporter": "python",
   "pygments_lexer": "ipython3",
   "version": "3.5.2"
  }
 },
 "nbformat": 4,
 "nbformat_minor": 0
}
