{
 "cells": [
  {
   "cell_type": "code",
   "execution_count": 1,
   "metadata": {
    "collapsed": false
   },
   "outputs": [],
   "source": [
    "%matplotlib inline\n",
    "\n",
    "from matplotlib import pyplot as plt\n",
    "import pandas as pd\n",
    "import numpy as np\n",
    "\n",
    "oldNpRules = np.seterr(all='warn')"
   ]
  },
  {
   "cell_type": "code",
   "execution_count": 2,
   "metadata": {
    "collapsed": false
   },
   "outputs": [
    {
     "data": {
      "text/html": [
       "<div>\n",
       "<table border=\"1\" class=\"dataframe\">\n",
       "  <thead>\n",
       "    <tr style=\"text-align: right;\">\n",
       "      <th></th>\n",
       "      <th>ftopic_0</th>\n",
       "      <th>ftopic_1</th>\n",
       "      <th>ftopic_2</th>\n",
       "      <th>ftopic_3</th>\n",
       "      <th>ftopic_4</th>\n",
       "      <th>ftopic_5</th>\n",
       "    </tr>\n",
       "    <tr>\n",
       "      <th>_id</th>\n",
       "      <th></th>\n",
       "      <th></th>\n",
       "      <th></th>\n",
       "      <th></th>\n",
       "      <th></th>\n",
       "      <th></th>\n",
       "    </tr>\n",
       "  </thead>\n",
       "  <tbody>\n",
       "    <tr>\n",
       "      <th>15715d4a6ce45df597dfa36d7a29dd3e</th>\n",
       "      <td>0.002083</td>\n",
       "      <td>0.139462</td>\n",
       "      <td>0.078715</td>\n",
       "      <td>0.627223</td>\n",
       "      <td>0.115240</td>\n",
       "      <td>0.037278</td>\n",
       "    </tr>\n",
       "    <tr>\n",
       "      <th>70467a1614f271f06f2637c1b10e163e</th>\n",
       "      <td>0.000024</td>\n",
       "      <td>0.191960</td>\n",
       "      <td>0.000900</td>\n",
       "      <td>0.007175</td>\n",
       "      <td>0.742739</td>\n",
       "      <td>0.057202</td>\n",
       "    </tr>\n",
       "    <tr>\n",
       "      <th>3a50eac12596fd1e6b54abeccbab98ad</th>\n",
       "      <td>0.000333</td>\n",
       "      <td>0.629062</td>\n",
       "      <td>0.012583</td>\n",
       "      <td>0.006919</td>\n",
       "      <td>0.205120</td>\n",
       "      <td>0.145982</td>\n",
       "    </tr>\n",
       "    <tr>\n",
       "      <th>9a5e6a840aba8249f1a0f2a38bbe200e</th>\n",
       "      <td>0.002083</td>\n",
       "      <td>0.139462</td>\n",
       "      <td>0.078715</td>\n",
       "      <td>0.627223</td>\n",
       "      <td>0.115240</td>\n",
       "      <td>0.037278</td>\n",
       "    </tr>\n",
       "    <tr>\n",
       "      <th>3a68e91b400be1a634e75ccdcfc656a6</th>\n",
       "      <td>0.000531</td>\n",
       "      <td>0.556994</td>\n",
       "      <td>0.169057</td>\n",
       "      <td>0.011043</td>\n",
       "      <td>0.252864</td>\n",
       "      <td>0.009510</td>\n",
       "    </tr>\n",
       "  </tbody>\n",
       "</table>\n",
       "</div>"
      ],
      "text/plain": [
       "                                  ftopic_0  ftopic_1  ftopic_2  ftopic_3  \\\n",
       "_id                                                                        \n",
       "15715d4a6ce45df597dfa36d7a29dd3e  0.002083  0.139462  0.078715  0.627223   \n",
       "70467a1614f271f06f2637c1b10e163e  0.000024  0.191960  0.000900  0.007175   \n",
       "3a50eac12596fd1e6b54abeccbab98ad  0.000333  0.629062  0.012583  0.006919   \n",
       "9a5e6a840aba8249f1a0f2a38bbe200e  0.002083  0.139462  0.078715  0.627223   \n",
       "3a68e91b400be1a634e75ccdcfc656a6  0.000531  0.556994  0.169057  0.011043   \n",
       "\n",
       "                                  ftopic_4  ftopic_5  \n",
       "_id                                                   \n",
       "15715d4a6ce45df597dfa36d7a29dd3e  0.115240  0.037278  \n",
       "70467a1614f271f06f2637c1b10e163e  0.742739  0.057202  \n",
       "3a50eac12596fd1e6b54abeccbab98ad  0.205120  0.145982  \n",
       "9a5e6a840aba8249f1a0f2a38bbe200e  0.115240  0.037278  \n",
       "3a68e91b400be1a634e75ccdcfc656a6  0.252864  0.009510  "
      ]
     },
     "execution_count": 2,
     "metadata": {},
     "output_type": "execute_result"
    }
   ],
   "source": [
    "foursquareLDA6 = pd.read_csv('featuresSingapore/Foursquare/venueCategoriesLDA6Features.csv', index_col=\"_id\")\n",
    "foursquareLDA6.head()"
   ]
  },
  {
   "cell_type": "code",
   "execution_count": 3,
   "metadata": {
    "collapsed": false
   },
   "outputs": [
    {
     "name": "stderr",
     "output_type": "stream",
     "text": [
      "/nix/store/n16wpgk37iwnl7f9c8g6c5c8szr4mk4k-python3.5-pandas-0.17.1/lib/python3.5/site-packages/pandas/core/format.py:2087: RuntimeWarning: invalid value encountered in greater\n",
      "  has_large_values = (abs_vals > 1e8).any()\n",
      "/nix/store/n16wpgk37iwnl7f9c8g6c5c8szr4mk4k-python3.5-pandas-0.17.1/lib/python3.5/site-packages/pandas/core/format.py:2088: RuntimeWarning: invalid value encountered in less\n",
      "  has_small_values = ((abs_vals < 10 ** (-self.digits)) &\n",
      "/nix/store/n16wpgk37iwnl7f9c8g6c5c8szr4mk4k-python3.5-pandas-0.17.1/lib/python3.5/site-packages/pandas/core/format.py:2089: RuntimeWarning: invalid value encountered in greater\n",
      "  (abs_vals > 0)).any()\n"
     ]
    },
    {
     "data": {
      "text/html": [
       "<div>\n",
       "<table border=\"1\" class=\"dataframe\">\n",
       "  <thead>\n",
       "    <tr style=\"text-align: right;\">\n",
       "      <th></th>\n",
       "      <th>realAge</th>\n",
       "      <th>gender</th>\n",
       "      <th>ageGroup</th>\n",
       "      <th>education</th>\n",
       "      <th>work</th>\n",
       "      <th>relationship</th>\n",
       "      <th>education_level</th>\n",
       "      <th>occupation</th>\n",
       "    </tr>\n",
       "    <tr>\n",
       "      <th>row ID</th>\n",
       "      <th></th>\n",
       "      <th></th>\n",
       "      <th></th>\n",
       "      <th></th>\n",
       "      <th></th>\n",
       "      <th></th>\n",
       "      <th></th>\n",
       "      <th></th>\n",
       "    </tr>\n",
       "  </thead>\n",
       "  <tbody>\n",
       "    <tr>\n",
       "      <th>d0cc2d6caf6eb55ccf606770f24df2b5</th>\n",
       "      <td>NaN</td>\n",
       "      <td>female</td>\n",
       "      <td>NaN</td>\n",
       "      <td>NaN</td>\n",
       "      <td>NaN</td>\n",
       "      <td>NaN</td>\n",
       "      <td>NaN</td>\n",
       "      <td>NaN</td>\n",
       "    </tr>\n",
       "    <tr>\n",
       "      <th>eb4e2aa0bf687227821b17cfcd5365e3</th>\n",
       "      <td>NaN</td>\n",
       "      <td>female</td>\n",
       "      <td>NaN</td>\n",
       "      <td>Bukit Batok Secondary School ITE College West ...</td>\n",
       "      <td>NaN</td>\n",
       "      <td>NaN</td>\n",
       "      <td>college student</td>\n",
       "      <td>NaN</td>\n",
       "    </tr>\n",
       "    <tr>\n",
       "      <th>acfb8e93139fe820996b27ee3c6bc9db</th>\n",
       "      <td>NaN</td>\n",
       "      <td>male</td>\n",
       "      <td>AGE10_20</td>\n",
       "      <td>St Patrick&amp;#039;s School, Singapore Class of 2...</td>\n",
       "      <td>NaN</td>\n",
       "      <td>single</td>\n",
       "      <td>college student</td>\n",
       "      <td>NaN</td>\n",
       "    </tr>\n",
       "    <tr>\n",
       "      <th>ea251951bd3c7667daf214e8efa92f4e</th>\n",
       "      <td>NaN</td>\n",
       "      <td>female</td>\n",
       "      <td>NaN</td>\n",
       "      <td>NaN</td>\n",
       "      <td>NaN</td>\n",
       "      <td>NaN</td>\n",
       "      <td>NaN</td>\n",
       "      <td>NaN</td>\n",
       "    </tr>\n",
       "    <tr>\n",
       "      <th>f8f7b497ad8167535345bfc3d59d6aaa</th>\n",
       "      <td>NaN</td>\n",
       "      <td>female</td>\n",
       "      <td>NaN</td>\n",
       "      <td>NaN</td>\n",
       "      <td>PT. Duta Marga Lestarindo September 2013 to pr...</td>\n",
       "      <td>NaN</td>\n",
       "      <td>NaN</td>\n",
       "      <td>archetecture and engineering</td>\n",
       "    </tr>\n",
       "  </tbody>\n",
       "</table>\n",
       "</div>"
      ],
      "text/plain": [
       "                                  realAge  gender  ageGroup  \\\n",
       "row ID                                                        \n",
       "d0cc2d6caf6eb55ccf606770f24df2b5      NaN  female       NaN   \n",
       "eb4e2aa0bf687227821b17cfcd5365e3      NaN  female       NaN   \n",
       "acfb8e93139fe820996b27ee3c6bc9db      NaN    male  AGE10_20   \n",
       "ea251951bd3c7667daf214e8efa92f4e      NaN  female       NaN   \n",
       "f8f7b497ad8167535345bfc3d59d6aaa      NaN  female       NaN   \n",
       "\n",
       "                                                                          education  \\\n",
       "row ID                                                                                \n",
       "d0cc2d6caf6eb55ccf606770f24df2b5                                                NaN   \n",
       "eb4e2aa0bf687227821b17cfcd5365e3  Bukit Batok Secondary School ITE College West ...   \n",
       "acfb8e93139fe820996b27ee3c6bc9db  St Patrick&#039;s School, Singapore Class of 2...   \n",
       "ea251951bd3c7667daf214e8efa92f4e                                                NaN   \n",
       "f8f7b497ad8167535345bfc3d59d6aaa                                                NaN   \n",
       "\n",
       "                                                                               work  \\\n",
       "row ID                                                                                \n",
       "d0cc2d6caf6eb55ccf606770f24df2b5                                                NaN   \n",
       "eb4e2aa0bf687227821b17cfcd5365e3                                                NaN   \n",
       "acfb8e93139fe820996b27ee3c6bc9db                                                NaN   \n",
       "ea251951bd3c7667daf214e8efa92f4e                                                NaN   \n",
       "f8f7b497ad8167535345bfc3d59d6aaa  PT. Duta Marga Lestarindo September 2013 to pr...   \n",
       "\n",
       "                                 relationship  education_level  \\\n",
       "row ID                                                           \n",
       "d0cc2d6caf6eb55ccf606770f24df2b5          NaN              NaN   \n",
       "eb4e2aa0bf687227821b17cfcd5365e3          NaN  college student   \n",
       "acfb8e93139fe820996b27ee3c6bc9db       single  college student   \n",
       "ea251951bd3c7667daf214e8efa92f4e          NaN              NaN   \n",
       "f8f7b497ad8167535345bfc3d59d6aaa          NaN              NaN   \n",
       "\n",
       "                                                    occupation  \n",
       "row ID                                                          \n",
       "d0cc2d6caf6eb55ccf606770f24df2b5                           NaN  \n",
       "eb4e2aa0bf687227821b17cfcd5365e3                           NaN  \n",
       "acfb8e93139fe820996b27ee3c6bc9db                           NaN  \n",
       "ea251951bd3c7667daf214e8efa92f4e                           NaN  \n",
       "f8f7b497ad8167535345bfc3d59d6aaa  archetecture and engineering  "
      ]
     },
     "execution_count": 3,
     "metadata": {},
     "output_type": "execute_result"
    }
   ],
   "source": [
    "facebookAnswers = pd.read_csv('SingaporeGroundTruth.csv', encoding='latin1', index_col=\"row ID\")\n",
    "facebookAnswers.head()"
   ]
  },
  {
   "cell_type": "code",
   "execution_count": 4,
   "metadata": {
    "collapsed": false
   },
   "outputs": [
    {
     "name": "stdout",
     "output_type": "stream",
     "text": [
      "\n",
      "|-------------2 months (train)-------------|-----1 month (test)------|\n",
      "|-------------------------3 months (train)---------------------------|-------------2 months (test)--------------|\n",
      "|---------------------------------------------------5 months----------------------------------------------------|\n",
      "\n"
     ]
    }
   ],
   "source": [
    "with open('featuresSingapore/Foursquare/descriptions/venueCategoriesFeaturesDescription', 'r') as f: print(f.read())"
   ]
  },
  {
   "cell_type": "code",
   "execution_count": 5,
   "metadata": {
    "collapsed": false
   },
   "outputs": [],
   "source": [
    "from sklearn.ensemble import RandomForestRegressor, RandomForestClassifier\n",
    "from sklearn.cross_validation import train_test_split, cross_val_score, KFold\n",
    "from sklearn.metrics import accuracy_score, average_precision_score\n",
    "from sklearn.linear_model import LogisticRegression\n",
    "from sklearn.svm import LinearSVC"
   ]
  },
  {
   "cell_type": "code",
   "execution_count": 6,
   "metadata": {
    "collapsed": false
   },
   "outputs": [],
   "source": [
    "foursquare5Months = pd.read_csv('featuresSingapore/Foursquare/venueCategoriesFeatures5Months.csv', index_col=\"_id\")\n",
    "instagramWhole = pd.read_csv('featuresSingapore/Instagram/imageConceptsFeatures.csv', index_col='_id')\n",
    "twitterLDA50 = pd.read_csv('featuresSingapore/Twitter/LDA50Features.csv', index_col='_id')\n",
    "twitterLIWC = pd.read_csv('featuresSingapore/Twitter/LIWCFeatures.csv', index_col='_id')\n",
    "twitterManual = pd.read_csv('featuresSingapore/Twitter/manuallyDefinedTextFeatures.csv', index_col='_id')"
   ]
  },
  {
   "cell_type": "code",
   "execution_count": 7,
   "metadata": {
    "collapsed": false
   },
   "outputs": [
    {
     "data": {
      "text/plain": [
       "row ID\n",
       "d0cc2d6caf6eb55ccf606770f24df2b5    female\n",
       "eb4e2aa0bf687227821b17cfcd5365e3    female\n",
       "acfb8e93139fe820996b27ee3c6bc9db      male\n",
       "ea251951bd3c7667daf214e8efa92f4e    female\n",
       "f8f7b497ad8167535345bfc3d59d6aaa    female\n",
       "b6c4d3acf3f90ada2439e2f5668cdc07      male\n",
       "1c1405656095a093c00d32d99d4fdbba      male\n",
       "ebf87b9e2429bcf060e7db769c1367e6    female\n",
       "9fc4094591ce99cab44bafbc9644dfe9    female\n",
       "ec7980ca47e2864432025a78a71ba3cc    female\n",
       "65b308410a4cbcd64426050b7b579345    female\n",
       "6c209653fb1c78f2ceb117136e62e218      male\n",
       "7e78bfe271ed998a4f3250a9a98043ce    female\n",
       "40d8760be9ed3b6e806cc4966b567037      male\n",
       "1070f07beea368659caf60ed3c668376      male\n",
       "32ca67d052deeef4cfdcf6cb43093184    female\n",
       "804a816175cf32491238ee72f99461da    female\n",
       "188969e15d5201a0fe44834c25ea41bd      male\n",
       "d17099a61d71e845dc0f4c025266f452    female\n",
       "3d1997a734cb3c166032a312a63e06aa      male\n",
       "8dd3595e30eed2ed2bce504a9f101d11      male\n",
       "007e7e8169021679d9f95b2e5a9d17c4      male\n",
       "972ee180226f610d2c2a7056e3b1ed19      male\n",
       "f47685d051e8db6b43523eaad3cabc89      male\n",
       "6c70c0f28f77ddeaaf595e494f37741d    female\n",
       "2171ab486e0cb6701c9bb50d34b3db22      male\n",
       "de208b2f7eb77ec74f6bc67363e52f85      male\n",
       "6e2828ef1db3c71e1f1e385a5a02df52      male\n",
       "1dbfa1d013348121219ffafafce23416    female\n",
       "e718bc85784f3cd79b854095abeaa73d      male\n",
       "                                     ...  \n",
       "a69565227c6cd96d94d6b4bca4473d73      male\n",
       "9380513116124d59693d9da5098ed948    female\n",
       "47f8428f63f280e27b7079c3bae4f1ca    female\n",
       "586c550a54ee772801fb0c451255891c      male\n",
       "13147be5eb896edb3ede96395e3d22f4      male\n",
       "5215556228096e1febcf31c204daf72c      male\n",
       "7a14575f0862da79d5605ec8f977d25b      male\n",
       "c9f5228dfe8ac341574b23cfd4728cf3      male\n",
       "5c811c968a17b9d2f471f6572fc84e97    female\n",
       "1a867bea4830bc703950c6d95f9eaf25      male\n",
       "db12e21d6ea8d3f20ee92430de1579c1    female\n",
       "5224da4862f44beb500d8da9d0de7cc5      male\n",
       "61e553c081f5e6b163b167d6837d1fa0      male\n",
       "3b6cdd70fff291e6cc3205d7ccea43a1      male\n",
       "69a865087bef24e026686a67b064ff30    female\n",
       "4f8162c5b18d09217fee5e7b1aa1d43d      male\n",
       "db55c44487f6182c00564b3e4668bbf6      male\n",
       "cbe87307a05a9b2cb40bbfcf139b49ff    female\n",
       "334b2fd75fa5f5c2a5d4a030b80d31f1    female\n",
       "dc018fb5ee1d86cbd177a113a135caa5      male\n",
       "9b155bb5fad7a07ca3a9d66333673fd7    female\n",
       "fa0d411fc801d15aed20640103c5bee8      male\n",
       "5eb5c1620f9c35ac0700bfae24babeaa      male\n",
       "ea6cf076a868afeeab6b2e18ea3883de      male\n",
       "d704a8699a8d5e09f763e5b1213a82cb    female\n",
       "f9467ea0a3864f348435157042bb05eb    female\n",
       "c80f4b41acde216536b79f79dd92c8b2    female\n",
       "c3d472f6a330e0df9d5eab803be63b9b    female\n",
       "06b733946f6242dd76add1d032a2d61b    female\n",
       "ceefd2f3c96696ad321fea97bd94a930      male\n",
       "Name: gender, dtype: object"
      ]
     },
     "execution_count": 7,
     "metadata": {},
     "output_type": "execute_result"
    }
   ],
   "source": [
    "facebookAnswers.gender"
   ]
  },
  {
   "cell_type": "code",
   "execution_count": 8,
   "metadata": {
    "collapsed": false
   },
   "outputs": [
    {
     "data": {
      "text/plain": [
       "row ID\n",
       "d0cc2d6caf6eb55ccf606770f24df2b5    1\n",
       "eb4e2aa0bf687227821b17cfcd5365e3    1\n",
       "acfb8e93139fe820996b27ee3c6bc9db    0\n",
       "ea251951bd3c7667daf214e8efa92f4e    1\n",
       "f8f7b497ad8167535345bfc3d59d6aaa    1\n",
       "Name: gender, dtype: int64"
      ]
     },
     "execution_count": 8,
     "metadata": {},
     "output_type": "execute_result"
    }
   ],
   "source": [
    "def binarize(arr): return np.where(arr == 'female', 1, 0)\n",
    "facebookGender = facebookAnswers.gender.dropna().apply(binarize)\n",
    "facebookGender.head()"
   ]
  },
  {
   "cell_type": "code",
   "execution_count": 9,
   "metadata": {
    "collapsed": false
   },
   "outputs": [
    {
     "data": {
      "text/plain": [
       "cfb7d89ba18299ffa6e462085db09b8b    0\n",
       "e393c39e8095ff5aae0be885cda082a4    0\n",
       "e975307e3661721e7405ec3719945e9e    1\n",
       "8d09468583b985ff14d61f63cb637e9f    1\n",
       "895bd593d8e0425c4f9cf52a82388f31    1\n",
       "Name: gender, dtype: int64"
      ]
     },
     "execution_count": 9,
     "metadata": {},
     "output_type": "execute_result"
    }
   ],
   "source": [
    "facebookReliableGender = facebookAnswers[[\"realAge\", \"gender\"]].dropna(how=\"any\").gender\n",
    "facebookReliableGenderIndex = facebookReliableGender.index\n",
    "for dataset in [foursquare5Months, instagramWhole, twitterLDA50, twitterLIWC, twitterManual]:\n",
    "    facebookReliableGenderIndex = facebookReliableGenderIndex.intersection(dataset.index)\n",
    "facebookReliableGender = facebookReliableGender.loc[facebookReliableGenderIndex].apply(binarize)\n",
    "facebookReliableGender.head()"
   ]
  },
  {
   "cell_type": "code",
   "execution_count": 10,
   "metadata": {
    "collapsed": false
   },
   "outputs": [
    {
     "data": {
      "text/plain": [
       "0001fdb89ad0ffac6ab432b288b93e91    0\n",
       "001e73b8bf12f18d96deb22dca3d5a17    0\n",
       "003de0c9141ab503f3aa011c3c51cf45    1\n",
       "005846808079907cec0694ce9685441b    1\n",
       "006517a0c936d67827fae17d12bbeebf    1\n",
       "Name: gender, dtype: int64"
      ]
     },
     "execution_count": 10,
     "metadata": {},
     "output_type": "execute_result"
    }
   ],
   "source": [
    "facebookGenderOther = facebookGender.loc[facebookGender.index.difference(facebookReliableGender.index)]\n",
    "facebookGenderOther.head()"
   ]
  },
  {
   "cell_type": "code",
   "execution_count": 11,
   "metadata": {
    "collapsed": true
   },
   "outputs": [],
   "source": [
    "foursquare5MonthsGender = foursquare5Months.loc[facebookGender.index]\n",
    "instagramGender = instagramWhole.loc[facebookGender.index]\n",
    "twitterLDA50Gender = twitterLDA50.loc[facebookGender.index]\n",
    "twitterLIWCGender = twitterLIWC.loc[facebookGender.index]\n",
    "twitterManualGender = twitterManual.loc[facebookGender.index]\n",
    "lateFusionGender = [\n",
    "    (foursquare5MonthsGender, 140, foursquare5MonthsGender.categoryMentions.fillna(value=0)), \n",
    "    (instagramGender, 130, instagramGender.numberOfImages.fillna(value=0)), \n",
    "    (twitterLDA50Gender, 70, twitterManualGender.numberOfTweets.fillna(value=0)), \n",
    "    (twitterLIWCGender, 120, twitterManualGender.numberOfTweets.fillna(value=0)), \n",
    "    (twitterManualGender, 75, twitterManualGender.numberOfTweets.fillna(value=0))\n",
    "]"
   ]
  },
  {
   "cell_type": "code",
   "execution_count": 12,
   "metadata": {
    "collapsed": false
   },
   "outputs": [
    {
     "data": {
      "text/plain": [
       "(4913, 5)"
      ]
     },
     "execution_count": 12,
     "metadata": {},
     "output_type": "execute_result"
    }
   ],
   "source": [
    "genderCls = []\n",
    "genderProbas = []\n",
    "for dataset, nEstimators, count in lateFusionGender:\n",
    "    dataOtherUsers = dataset.loc[facebookGenderOther.index].dropna()\n",
    "    facebookLocal = facebookGenderOther.loc[dataOtherUsers.index]\n",
    "    clf = RandomForestClassifier(n_estimators=nEstimators).fit(dataOtherUsers, facebookLocal)\n",
    "    probas = clf.predict(dataset.fillna(value=0))\n",
    "    genderCls.append(clf)\n",
    "    genderProbas.append(probas)\n",
    "genderProbas = np.array(genderProbas).T\n",
    "genderProbas.shape"
   ]
  },
  {
   "cell_type": "code",
   "execution_count": 13,
   "metadata": {
    "collapsed": false
   },
   "outputs": [
    {
     "data": {
      "text/plain": [
       "(4913, 5)"
      ]
     },
     "execution_count": 13,
     "metadata": {},
     "output_type": "execute_result"
    }
   ],
   "source": [
    "strengthsGender = []\n",
    "for _, _, count in lateFusionGender:\n",
    "    strengthsGender.append(count / count.mean())\n",
    "strengthsGender = np.array(strengthsGender).T\n",
    "strengthsGender.shape"
   ]
  },
  {
   "cell_type": "code",
   "execution_count": 15,
   "metadata": {
    "collapsed": true
   },
   "outputs": [],
   "source": [
    "def macro_accuracy(y, y_pred):\n",
    "    res = [np.count_nonzero((y == cls) & (cls == y_pred)) / np.count_nonzero(y == cls) for cls in set(y)]\n",
    "    return sum(res) / len(res)"
   ]
  },
  {
   "cell_type": "code",
   "execution_count": 17,
   "metadata": {
    "collapsed": false
   },
   "outputs": [
    {
     "data": {
      "text/plain": [
       "array([ 0.66444537,  0.71442823,  0.75926138,  0.7045844 ,  0.67328651])"
      ]
     },
     "execution_count": 17,
     "metadata": {},
     "output_type": "execute_result"
    }
   ],
   "source": [
    "accuraciesGender = []\n",
    "def scoringCV(est, X, y): return macro_accuracy(y, est.predict(X))\n",
    "for dataset, nEstimators, _ in lateFusionGender:\n",
    "    dataOtherUsers = dataset.loc[facebookGenderOther.index].dropna()\n",
    "    facebookLocal = facebookGenderOther.loc[dataOtherUsers.index]\n",
    "    clf = RandomForestClassifier(n_estimators=nEstimators)\n",
    "    cvs = cross_val_score(clf, dataOtherUsers, facebookLocal, cv=10, n_jobs=4, scoring=scoringCV)\n",
    "    accuraciesGender.append(cvs.mean())\n",
    "accuraciesGender = np.array(accuraciesGender)\n",
    "accuraciesGender"
   ]
  },
  {
   "cell_type": "code",
   "execution_count": 18,
   "metadata": {
    "collapsed": false
   },
   "outputs": [],
   "source": [
    "estimates = genderProbas * strengthsGender * accuraciesGender\n",
    "for num, data in enumerate(lateFusionGender):\n",
    "    data[0]['estimate'] = estimates[:,num]"
   ]
  },
  {
   "cell_type": "code",
   "execution_count": 19,
   "metadata": {
    "collapsed": false
   },
   "outputs": [
    {
     "data": {
      "text/plain": [
       "((4602, 5), (311, 5))"
      ]
     },
     "execution_count": 19,
     "metadata": {},
     "output_type": "execute_result"
    }
   ],
   "source": [
    "estimatesTrain = np.array([data[0].estimate.loc[facebookGenderOther.index] for data in lateFusionGender]).T\n",
    "estimatesTest = np.array([data[0].estimate.loc[facebookReliableGender.index] for data in lateFusionGender]).T\n",
    "for dataset, _, _ in lateFusionGender:\n",
    "    del dataset['estimate']\n",
    "estimatesTrain.shape, estimatesTest.shape"
   ]
  },
  {
   "cell_type": "code",
   "execution_count": 20,
   "metadata": {
    "collapsed": false
   },
   "outputs": [
    {
     "data": {
      "text/plain": [
       "0.6737429237429238"
      ]
     },
     "execution_count": 20,
     "metadata": {},
     "output_type": "execute_result"
    }
   ],
   "source": [
    "logreg = LogisticRegression().fit(estimatesTrain, facebookGenderOther)\n",
    "probas = logreg.predict(estimatesTest)\n",
    "macro_accuracy(facebookReliableGender, probas)"
   ]
  },
  {
   "cell_type": "code",
   "execution_count": 21,
   "metadata": {
    "collapsed": false
   },
   "outputs": [
    {
     "data": {
      "text/plain": [
       "{'AGE10_20': 0, 'AGE20_30': 1, 'AGE30_40': 2, 'AGE40_50': 3, 'AGE50_INF': 4}"
      ]
     },
     "execution_count": 21,
     "metadata": {},
     "output_type": "execute_result"
    }
   ],
   "source": [
    "ageGroupClasses = sorted(set(facebookAnswers.ageGroup.dropna()))\n",
    "ageGroupClasses = {name: num for num, name in enumerate(ageGroupClasses)}\n",
    "ageGroupClasses"
   ]
  },
  {
   "cell_type": "code",
   "execution_count": 22,
   "metadata": {
    "collapsed": false
   },
   "outputs": [
    {
     "data": {
      "text/plain": [
       "row ID\n",
       "acfb8e93139fe820996b27ee3c6bc9db    0\n",
       "b6c4d3acf3f90ada2439e2f5668cdc07    1\n",
       "1c1405656095a093c00d32d99d4fdbba    2\n",
       "7e78bfe271ed998a4f3250a9a98043ce    0\n",
       "1070f07beea368659caf60ed3c668376    1\n",
       "Name: ageGroup, dtype: int64"
      ]
     },
     "execution_count": 22,
     "metadata": {},
     "output_type": "execute_result"
    }
   ],
   "source": [
    "facebookAgeGroup = facebookAnswers.ageGroup.dropna().map(ageGroupClasses)\n",
    "facebookAgeGroup.head()"
   ]
  },
  {
   "cell_type": "code",
   "execution_count": 23,
   "metadata": {
    "collapsed": false
   },
   "outputs": [
    {
     "data": {
      "text/plain": [
       "cfb7d89ba18299ffa6e462085db09b8b    0\n",
       "e393c39e8095ff5aae0be885cda082a4    1\n",
       "e975307e3661721e7405ec3719945e9e    1\n",
       "8d09468583b985ff14d61f63cb637e9f    2\n",
       "895bd593d8e0425c4f9cf52a82388f31    1\n",
       "3e8cf61f8898a7c2432092f1345b84c4    0\n",
       "85ee10e6bc63a3a6faac5abd4e2ae24d    1\n",
       "3e87440810b221ec9d52056ea5fbc0cf    1\n",
       "1069c60f75b4b758b519db2efd753b92    4\n",
       "e916eb98ccc1dc8ae3499459d32ffb0c    0\n",
       "200ebcc8836fe8db0ca505a42da6aeed    0\n",
       "ea6c9638d021dbec6de3aaab20ef3087    0\n",
       "28d236054ca8e17c21296a77d8af3e10    1\n",
       "2e074716bba64c57d1fd003c64f560e6    1\n",
       "cb516ddd8b9943d391b71c357d714061    1\n",
       "d8efa1eaad69eac0048b32b85f311737    0\n",
       "1070f07beea368659caf60ed3c668376    1\n",
       "4361f6808bb41985b543444c550ddfcd    1\n",
       "ce779c2bbb6f11d122ea2828fe17e9c5    1\n",
       "b999b0cdf2cd2b455f2a4d2ea90335b3    1\n",
       "Name: ageGroup, dtype: int64"
      ]
     },
     "execution_count": 23,
     "metadata": {},
     "output_type": "execute_result"
    }
   ],
   "source": [
    "facebookAgeGroupReliable = facebookAnswers[['realAge', 'ageGroup']].dropna(how='any').ageGroup.map(ageGroupClasses)\n",
    "facebookAgeGroupReliableIndex = facebookAgeGroupReliable.index\n",
    "for dataset in [foursquare5Months, instagramWhole, twitterLDA50, twitterLIWC, twitterManual]:\n",
    "    facebookAgeGroupReliableIndex = facebookAgeGroupReliableIndex.intersection(dataset.index)\n",
    "facebookAgeGroupReliable = facebookAgeGroupReliable.loc[facebookAgeGroupReliableIndex]\n",
    "facebookAgeGroupReliable.head(20)"
   ]
  },
  {
   "cell_type": "code",
   "execution_count": 24,
   "metadata": {
    "collapsed": false
   },
   "outputs": [
    {
     "data": {
      "text/plain": [
       "0001fdb89ad0ffac6ab432b288b93e91    0\n",
       "00726a917f3718d8708ea4acfead78ef    1\n",
       "00858fa3e354f0c7b8b9d985b77c0980    0\n",
       "0178af0adcb347a487fd38cc2993d3cc    1\n",
       "0195953cbbe7eb68e58f0f8ad44c1139    1\n",
       "01d243ee6d3dc4f65e4acaad0a5c5b0f    1\n",
       "022748be87d354c2cc61341e034888b0    1\n",
       "026591200b0faea85a8e154c3b91c9c3    0\n",
       "0299e560adb729152412b2d58987f81a    1\n",
       "02a942f7fcd783f227080f909021edbc    0\n",
       "047bc95b152871a0d1eab6edfc1973d2    0\n",
       "051138e8d07e68f9ec6ba8bbe6794767    0\n",
       "05266544e92a7c66d0d3ba5d7f0ccab5    1\n",
       "05348ee36a60a9853a66a66ca9742db2    0\n",
       "055b74ea4fceb8581717b0a59c172711    2\n",
       "05bfc9953b5a655f921e1bd34a103956    1\n",
       "05dd9b807f9c169bf34045e5a83dd715    0\n",
       "06548d2bd2c62775d6b6bdc37e93d155    1\n",
       "06a73064049462fd9f5ce3140dae53eb    1\n",
       "06fc091ad3df6266fd59a4f907d47772    1\n",
       "Name: ageGroup, dtype: int64"
      ]
     },
     "execution_count": 24,
     "metadata": {},
     "output_type": "execute_result"
    }
   ],
   "source": [
    "facebookAgeGroupOther = facebookAgeGroup.loc[facebookAgeGroup.index.difference(facebookAgeGroupReliable.index)]\n",
    "facebookAgeGroupOther.head(20)"
   ]
  },
  {
   "cell_type": "code",
   "execution_count": 25,
   "metadata": {
    "collapsed": false
   },
   "outputs": [],
   "source": [
    "foursquare5MonthsAgeGroup = foursquare5Months.loc[facebookAgeGroup.index]\n",
    "instagramAgeGroup = instagramWhole.loc[facebookAgeGroup.index]\n",
    "twitterLDA50AgeGroup = twitterLDA50.loc[facebookAgeGroup.index]\n",
    "twitterLIWCAgeGroup = twitterLIWC.loc[facebookAgeGroup.index]\n",
    "twitterManualAgeGroup = twitterManual.loc[facebookAgeGroup.index]\n",
    "lateFusionAgeGroup = [\n",
    "    (foursquare5MonthsAgeGroup, 140, foursquare5MonthsAgeGroup.categoryMentions.fillna(value=0)), \n",
    "    (instagramAgeGroup, 130, instagramAgeGroup.numberOfImages.fillna(value=0)), \n",
    "    (twitterLDA50AgeGroup, 70, twitterManualAgeGroup.numberOfTweets.fillna(value=0)), \n",
    "    (twitterLIWCAgeGroup, 120, twitterManualAgeGroup.numberOfTweets.fillna(value=0)), \n",
    "    (twitterManualAgeGroup, 75, twitterManualAgeGroup.numberOfTweets.fillna(value=0))\n",
    "]"
   ]
  },
  {
   "cell_type": "code",
   "execution_count": 26,
   "metadata": {
    "collapsed": false
   },
   "outputs": [
    {
     "data": {
      "text/plain": [
       "(1284, 5, 5)"
      ]
     },
     "execution_count": 26,
     "metadata": {},
     "output_type": "execute_result"
    }
   ],
   "source": [
    "singleTrainTestAge = []\n",
    "singleProbasAge = []\n",
    "for dataset, nEstimators, count in lateFusionAgeGroup:\n",
    "    dataOtherUsers = dataset.loc[facebookAgeGroupOther.index].dropna()\n",
    "    facebookLocal = facebookAgeGroupOther.loc[dataOtherUsers.index]\n",
    "    clf = RandomForestClassifier(n_estimators=nEstimators).fit(dataOtherUsers, facebookLocal)\n",
    "    probas = clf.predict_proba(dataset.fillna(value=0))\n",
    "    singleTrainTestAge.append(clf)\n",
    "    singleProbasAge.append(probas)\n",
    "singleProbasAge = np.array(singleProbasAge).swapaxes(0, 1)\n",
    "singleProbasAge.shape"
   ]
  },
  {
   "cell_type": "code",
   "execution_count": 27,
   "metadata": {
    "collapsed": false
   },
   "outputs": [
    {
     "name": "stderr",
     "output_type": "stream",
     "text": [
      "/nix/store/n12nlyxbcqlz49ajdz87g5489xqzvr3g-python3.5-scikit-learn-0.17.1/lib/python3.5/site-packages/sklearn/cross_validation.py:516: Warning: The least populated class in y has only 3 members, which is too few. The minimum number of labels for any class cannot be less than n_folds=10.\n",
      "  % (min_labels, self.n_folds)), Warning)\n"
     ]
    },
    {
     "name": "stdout",
     "output_type": "stream",
     "text": [
      "[ 0.26634146  0.24894309  0.25264929  0.33662742  0.32338099  0.32085786\n",
      "  0.30004205  0.33452481  0.30109336  0.2487069 ]\n"
     ]
    },
    {
     "name": "stderr",
     "output_type": "stream",
     "text": [
      "/nix/store/n12nlyxbcqlz49ajdz87g5489xqzvr3g-python3.5-scikit-learn-0.17.1/lib/python3.5/site-packages/sklearn/cross_validation.py:516: Warning: The least populated class in y has only 1 members, which is too few. The minimum number of labels for any class cannot be less than n_folds=10.\n",
      "  % (min_labels, self.n_folds)), Warning)\n"
     ]
    },
    {
     "name": "stdout",
     "output_type": "stream",
     "text": [
      "[ 0.20871143  0.2699637   0.27726002  0.27236719  0.29077353  0.28098788\n",
      "  0.24464119  0.28933398  0.26061776  0.26906371]\n"
     ]
    },
    {
     "name": "stderr",
     "output_type": "stream",
     "text": [
      "/nix/store/n12nlyxbcqlz49ajdz87g5489xqzvr3g-python3.5-scikit-learn-0.17.1/lib/python3.5/site-packages/sklearn/cross_validation.py:516: Warning: The least populated class in y has only 3 members, which is too few. The minimum number of labels for any class cannot be less than n_folds=10.\n",
      "  % (min_labels, self.n_folds)), Warning)\n"
     ]
    },
    {
     "name": "stdout",
     "output_type": "stream",
     "text": [
      "[ 0.34097561  0.34178862  0.26846089  0.33662742  0.36648444  0.37338099\n",
      "  0.35639193  0.33809924  0.37973087  0.30344828]\n"
     ]
    },
    {
     "name": "stderr",
     "output_type": "stream",
     "text": [
      "/nix/store/n12nlyxbcqlz49ajdz87g5489xqzvr3g-python3.5-scikit-learn-0.17.1/lib/python3.5/site-packages/sklearn/cross_validation.py:516: Warning: The least populated class in y has only 3 members, which is too few. The minimum number of labels for any class cannot be less than n_folds=10.\n",
      "  % (min_labels, self.n_folds)), Warning)\n"
     ]
    },
    {
     "name": "stdout",
     "output_type": "stream",
     "text": [
      "[ 0.28634146  0.28406504  0.29063078  0.40239697  0.3244323   0.3647603\n",
      "  0.32695542  0.34924306  0.33405172  0.31443966]\n"
     ]
    },
    {
     "name": "stderr",
     "output_type": "stream",
     "text": [
      "/nix/store/n12nlyxbcqlz49ajdz87g5489xqzvr3g-python3.5-scikit-learn-0.17.1/lib/python3.5/site-packages/sklearn/cross_validation.py:516: Warning: The least populated class in y has only 3 members, which is too few. The minimum number of labels for any class cannot be less than n_folds=10.\n",
      "  % (min_labels, self.n_folds)), Warning)\n"
     ]
    },
    {
     "name": "stdout",
     "output_type": "stream",
     "text": [
      "[ 0.31737595  0.30442389  0.29688814  0.42468461  0.37947855  0.32780172\n",
      "  0.29181034  0.33017241  0.32931034  0.27758621]\n"
     ]
    },
    {
     "data": {
      "text/plain": [
       "array([ 0.29331672,  0.26637204,  0.34053883,  0.32773167,  0.32795322])"
      ]
     },
     "execution_count": 27,
     "metadata": {},
     "output_type": "execute_result"
    }
   ],
   "source": [
    "accuraciesAge = []\n",
    "def scoringCV(est, X, y): return macro_accuracy(y.values, est.predict(X))\n",
    "for dataset, nEstimators, _ in lateFusionAgeGroup:\n",
    "    dataOtherUsers = dataset.loc[facebookAgeGroupOther.index].dropna()\n",
    "    facebookLocal = facebookAgeGroupOther.loc[dataOtherUsers.index]\n",
    "    clf = RandomForestClassifier(n_estimators=nEstimators)\n",
    "    cvs = cross_val_score(clf, dataOtherUsers, facebookLocal, cv=10, n_jobs=4, scoring=scoringCV)\n",
    "    print(cvs)\n",
    "    accuraciesAge.append(cvs.mean())\n",
    "accuraciesAge = np.array(accuraciesAge)\n",
    "accuraciesAge"
   ]
  },
  {
   "cell_type": "code",
   "execution_count": 28,
   "metadata": {
    "collapsed": false
   },
   "outputs": [
    {
     "data": {
      "text/plain": [
       "(1284, 5, 5)"
      ]
     },
     "execution_count": 28,
     "metadata": {},
     "output_type": "execute_result"
    }
   ],
   "source": [
    "strengthsAge = []\n",
    "for _, _, count in lateFusionAgeGroup:\n",
    "    strengthsAge.append(count / count.mean())\n",
    "strengthsAge = np.expand_dims(np.array(strengthsAge).T, axis=2)\n",
    "for i in range(1, 5):\n",
    "    strengthsAge = np.append(strengthsAge, np.expand_dims(strengthsAge[:,:,0], axis=2), axis=2)\n",
    "strengthsAge.shape"
   ]
  },
  {
   "cell_type": "code",
   "execution_count": 29,
   "metadata": {
    "collapsed": false
   },
   "outputs": [
    {
     "name": "stderr",
     "output_type": "stream",
     "text": [
      "/nix/store/n16wpgk37iwnl7f9c8g6c5c8szr4mk4k-python3.5-pandas-0.17.1/lib/python3.5/site-packages/pandas/core/format.py:2087: RuntimeWarning: invalid value encountered in greater\n",
      "  has_large_values = (abs_vals > 1e8).any()\n",
      "/nix/store/n16wpgk37iwnl7f9c8g6c5c8szr4mk4k-python3.5-pandas-0.17.1/lib/python3.5/site-packages/pandas/core/format.py:2088: RuntimeWarning: invalid value encountered in less\n",
      "  has_small_values = ((abs_vals < 10 ** (-self.digits)) &\n",
      "/nix/store/n16wpgk37iwnl7f9c8g6c5c8szr4mk4k-python3.5-pandas-0.17.1/lib/python3.5/site-packages/pandas/core/format.py:2089: RuntimeWarning: invalid value encountered in greater\n",
      "  (abs_vals > 0)).any()\n"
     ]
    },
    {
     "data": {
      "text/html": [
       "<div>\n",
       "<table border=\"1\" class=\"dataframe\">\n",
       "  <thead>\n",
       "    <tr style=\"text-align: right;\">\n",
       "      <th></th>\n",
       "      <th>categoryMentions</th>\n",
       "      <th>f1</th>\n",
       "      <th>f2</th>\n",
       "      <th>f3</th>\n",
       "      <th>f4</th>\n",
       "      <th>f5</th>\n",
       "      <th>f6</th>\n",
       "      <th>f7</th>\n",
       "      <th>f8</th>\n",
       "      <th>f9</th>\n",
       "      <th>...</th>\n",
       "      <th>f760</th>\n",
       "      <th>f761</th>\n",
       "      <th>f762</th>\n",
       "      <th>f763</th>\n",
       "      <th>f764</th>\n",
       "      <th>estimate0</th>\n",
       "      <th>estimate1</th>\n",
       "      <th>estimate2</th>\n",
       "      <th>estimate3</th>\n",
       "      <th>estimate4</th>\n",
       "    </tr>\n",
       "    <tr>\n",
       "      <th>row ID</th>\n",
       "      <th></th>\n",
       "      <th></th>\n",
       "      <th></th>\n",
       "      <th></th>\n",
       "      <th></th>\n",
       "      <th></th>\n",
       "      <th></th>\n",
       "      <th></th>\n",
       "      <th></th>\n",
       "      <th></th>\n",
       "      <th></th>\n",
       "      <th></th>\n",
       "      <th></th>\n",
       "      <th></th>\n",
       "      <th></th>\n",
       "      <th></th>\n",
       "      <th></th>\n",
       "      <th></th>\n",
       "      <th></th>\n",
       "      <th></th>\n",
       "      <th></th>\n",
       "    </tr>\n",
       "  </thead>\n",
       "  <tbody>\n",
       "    <tr>\n",
       "      <th>acfb8e93139fe820996b27ee3c6bc9db</th>\n",
       "      <td>53</td>\n",
       "      <td>0</td>\n",
       "      <td>0</td>\n",
       "      <td>0</td>\n",
       "      <td>0</td>\n",
       "      <td>0</td>\n",
       "      <td>0</td>\n",
       "      <td>0</td>\n",
       "      <td>0</td>\n",
       "      <td>0</td>\n",
       "      <td>...</td>\n",
       "      <td>0</td>\n",
       "      <td>0</td>\n",
       "      <td>0</td>\n",
       "      <td>0</td>\n",
       "      <td>0</td>\n",
       "      <td>0.306253</td>\n",
       "      <td>0.064474</td>\n",
       "      <td>0.005373</td>\n",
       "      <td>0.000000</td>\n",
       "      <td>0.000000</td>\n",
       "    </tr>\n",
       "    <tr>\n",
       "      <th>b6c4d3acf3f90ada2439e2f5668cdc07</th>\n",
       "      <td>NaN</td>\n",
       "      <td>NaN</td>\n",
       "      <td>NaN</td>\n",
       "      <td>NaN</td>\n",
       "      <td>NaN</td>\n",
       "      <td>NaN</td>\n",
       "      <td>NaN</td>\n",
       "      <td>NaN</td>\n",
       "      <td>NaN</td>\n",
       "      <td>NaN</td>\n",
       "      <td>...</td>\n",
       "      <td>NaN</td>\n",
       "      <td>NaN</td>\n",
       "      <td>NaN</td>\n",
       "      <td>NaN</td>\n",
       "      <td>NaN</td>\n",
       "      <td>0.000000</td>\n",
       "      <td>0.000000</td>\n",
       "      <td>0.000000</td>\n",
       "      <td>0.000000</td>\n",
       "      <td>0.000000</td>\n",
       "    </tr>\n",
       "    <tr>\n",
       "      <th>1c1405656095a093c00d32d99d4fdbba</th>\n",
       "      <td>609</td>\n",
       "      <td>0</td>\n",
       "      <td>0</td>\n",
       "      <td>0</td>\n",
       "      <td>0</td>\n",
       "      <td>0</td>\n",
       "      <td>0</td>\n",
       "      <td>0</td>\n",
       "      <td>0</td>\n",
       "      <td>0</td>\n",
       "      <td>...</td>\n",
       "      <td>0</td>\n",
       "      <td>0</td>\n",
       "      <td>0</td>\n",
       "      <td>0</td>\n",
       "      <td>0</td>\n",
       "      <td>2.870783</td>\n",
       "      <td>1.049534</td>\n",
       "      <td>0.339555</td>\n",
       "      <td>0.030869</td>\n",
       "      <td>0.030869</td>\n",
       "    </tr>\n",
       "    <tr>\n",
       "      <th>7e78bfe271ed998a4f3250a9a98043ce</th>\n",
       "      <td>NaN</td>\n",
       "      <td>NaN</td>\n",
       "      <td>NaN</td>\n",
       "      <td>NaN</td>\n",
       "      <td>NaN</td>\n",
       "      <td>NaN</td>\n",
       "      <td>NaN</td>\n",
       "      <td>NaN</td>\n",
       "      <td>NaN</td>\n",
       "      <td>NaN</td>\n",
       "      <td>...</td>\n",
       "      <td>NaN</td>\n",
       "      <td>NaN</td>\n",
       "      <td>NaN</td>\n",
       "      <td>NaN</td>\n",
       "      <td>NaN</td>\n",
       "      <td>0.000000</td>\n",
       "      <td>0.000000</td>\n",
       "      <td>0.000000</td>\n",
       "      <td>0.000000</td>\n",
       "      <td>0.000000</td>\n",
       "    </tr>\n",
       "    <tr>\n",
       "      <th>1070f07beea368659caf60ed3c668376</th>\n",
       "      <td>163</td>\n",
       "      <td>0</td>\n",
       "      <td>0</td>\n",
       "      <td>0</td>\n",
       "      <td>0</td>\n",
       "      <td>0</td>\n",
       "      <td>0</td>\n",
       "      <td>27</td>\n",
       "      <td>0</td>\n",
       "      <td>1</td>\n",
       "      <td>...</td>\n",
       "      <td>0</td>\n",
       "      <td>0</td>\n",
       "      <td>0</td>\n",
       "      <td>0</td>\n",
       "      <td>0</td>\n",
       "      <td>0.586605</td>\n",
       "      <td>0.528771</td>\n",
       "      <td>0.033048</td>\n",
       "      <td>0.000000</td>\n",
       "      <td>0.008262</td>\n",
       "    </tr>\n",
       "  </tbody>\n",
       "</table>\n",
       "<p>5 rows × 770 columns</p>\n",
       "</div>"
      ],
      "text/plain": [
       "                                  categoryMentions  f1  f2  f3  f4  f5  f6  \\\n",
       "row ID                                                                       \n",
       "acfb8e93139fe820996b27ee3c6bc9db                53   0   0   0   0   0   0   \n",
       "b6c4d3acf3f90ada2439e2f5668cdc07               NaN NaN NaN NaN NaN NaN NaN   \n",
       "1c1405656095a093c00d32d99d4fdbba               609   0   0   0   0   0   0   \n",
       "7e78bfe271ed998a4f3250a9a98043ce               NaN NaN NaN NaN NaN NaN NaN   \n",
       "1070f07beea368659caf60ed3c668376               163   0   0   0   0   0   0   \n",
       "\n",
       "                                  f7  f8  f9    ...      f760  f761  f762  \\\n",
       "row ID                                          ...                         \n",
       "acfb8e93139fe820996b27ee3c6bc9db   0   0   0    ...         0     0     0   \n",
       "b6c4d3acf3f90ada2439e2f5668cdc07 NaN NaN NaN    ...       NaN   NaN   NaN   \n",
       "1c1405656095a093c00d32d99d4fdbba   0   0   0    ...         0     0     0   \n",
       "7e78bfe271ed998a4f3250a9a98043ce NaN NaN NaN    ...       NaN   NaN   NaN   \n",
       "1070f07beea368659caf60ed3c668376  27   0   1    ...         0     0     0   \n",
       "\n",
       "                                  f763  f764  estimate0  estimate1  estimate2  \\\n",
       "row ID                                                                          \n",
       "acfb8e93139fe820996b27ee3c6bc9db     0     0   0.306253   0.064474   0.005373   \n",
       "b6c4d3acf3f90ada2439e2f5668cdc07   NaN   NaN   0.000000   0.000000   0.000000   \n",
       "1c1405656095a093c00d32d99d4fdbba     0     0   2.870783   1.049534   0.339555   \n",
       "7e78bfe271ed998a4f3250a9a98043ce   NaN   NaN   0.000000   0.000000   0.000000   \n",
       "1070f07beea368659caf60ed3c668376     0     0   0.586605   0.528771   0.033048   \n",
       "\n",
       "                                  estimate3  estimate4  \n",
       "row ID                                                  \n",
       "acfb8e93139fe820996b27ee3c6bc9db   0.000000   0.000000  \n",
       "b6c4d3acf3f90ada2439e2f5668cdc07   0.000000   0.000000  \n",
       "1c1405656095a093c00d32d99d4fdbba   0.030869   0.030869  \n",
       "7e78bfe271ed998a4f3250a9a98043ce   0.000000   0.000000  \n",
       "1070f07beea368659caf60ed3c668376   0.000000   0.008262  \n",
       "\n",
       "[5 rows x 770 columns]"
      ]
     },
     "execution_count": 29,
     "metadata": {},
     "output_type": "execute_result"
    }
   ],
   "source": [
    "estimatesAge = singleProbasAge * strengthsAge\n",
    "for i in range(5):\n",
    "    estimatesAge[:,:,i] *= accuraciesAge\n",
    "for num, data in enumerate(lateFusionAgeGroup):\n",
    "    for i in range(5):\n",
    "        data[0]['estimate' + str(i)] = estimatesAge[:,num,i]\n",
    "lateFusionAgeGroup[0][0].head()"
   ]
  },
  {
   "cell_type": "code",
   "execution_count": 30,
   "metadata": {
    "collapsed": false
   },
   "outputs": [
    {
     "data": {
      "text/plain": [
       "((973, 5, 5), (311, 5, 5))"
      ]
     },
     "execution_count": 30,
     "metadata": {},
     "output_type": "execute_result"
    }
   ],
   "source": [
    "estimatesTrainAge = np.array([[data[0]['estimate{}'.format(i)].loc[facebookAgeGroupOther.index] for i in range(5)] for data in lateFusionAgeGroup])\n",
    "estimatesTrainAge = estimatesTrainAge.swapaxes(1, 2).swapaxes(0, 1)\n",
    "estimatesTestAge = np.array([[data[0]['estimate{}'.format(i)].loc[facebookAgeGroupReliable.index] for i in range(5)] for data in lateFusionAgeGroup])\n",
    "estimatesTestAge = estimatesTestAge.swapaxes(1, 2).swapaxes(0, 1)\n",
    "for dataset, _, _ in lateFusionAgeGroup:\n",
    "    for i in range(5):\n",
    "        del dataset['estimate' + str(i)]\n",
    "estimatesTrainAge.shape, estimatesTestAge.shape"
   ]
  },
  {
   "cell_type": "code",
   "execution_count": 31,
   "metadata": {
    "collapsed": false
   },
   "outputs": [
    {
     "name": "stdout",
     "output_type": "stream",
     "text": [
      "[[ 3.33719146  4.3143088   1.51875225  2.27003552  2.24965473]]\n",
      "[[ 2.7906531   3.06922009  1.96127342 -0.07163897  0.85635865]]\n",
      "[[ 3.4640693   4.07118054  0.95820555  1.04019794  1.32688085]]\n",
      "[[ 1.86612436  1.71076615  1.12501652  1.06510072  1.13983763]]\n",
      "[[ 1.71805569  0.33196543  0.45047569  0.45373726  0.41827644]]\n"
     ]
    }
   ],
   "source": [
    "logregs = []\n",
    "for i in range(5):\n",
    "    clsEstimate = estimatesTrainAge[:,:,i]\n",
    "    trainAnswer = facebookAgeGroupOther.apply(lambda r: np.where(r == i, 1, 0))\n",
    "    logreg = LogisticRegression().fit(clsEstimate, trainAnswer)\n",
    "    print(logreg.coef_)\n",
    "    logregs.append(logreg)"
   ]
  },
  {
   "cell_type": "code",
   "execution_count": 32,
   "metadata": {
    "collapsed": false
   },
   "outputs": [
    {
     "data": {
      "text/plain": [
       "0.32947154471544715"
      ]
     },
     "execution_count": 32,
     "metadata": {},
     "output_type": "execute_result"
    }
   ],
   "source": [
    "testProbas = np.array([logreg.predict_proba(estimatesTestAge[:,:,i])[:,1] for i in range(5)]).T.argmax(axis=1)\n",
    "macro_accuracy(facebookAgeGroupReliable, testProbas)"
   ]
  },
  {
   "cell_type": "code",
   "execution_count": 33,
   "metadata": {
    "collapsed": false
   },
   "outputs": [
    {
     "data": {
      "text/html": [
       "<div>\n",
       "<table border=\"1\" class=\"dataframe\">\n",
       "  <thead>\n",
       "    <tr style=\"text-align: right;\">\n",
       "      <th></th>\n",
       "      <th>Dic</th>\n",
       "      <th>Qmarks</th>\n",
       "      <th>Sixltr</th>\n",
       "      <th>Unique</th>\n",
       "      <th>WC</th>\n",
       "      <th>WPS</th>\n",
       "      <th>achieve</th>\n",
       "      <th>adverb</th>\n",
       "      <th>affect</th>\n",
       "      <th>anger</th>\n",
       "      <th>...</th>\n",
       "      <th>topic_49</th>\n",
       "      <th>topic_5</th>\n",
       "      <th>topic_6</th>\n",
       "      <th>topic_7</th>\n",
       "      <th>topic_8</th>\n",
       "      <th>topic_9</th>\n",
       "      <th>verb</th>\n",
       "      <th>we</th>\n",
       "      <th>work</th>\n",
       "      <th>you</th>\n",
       "    </tr>\n",
       "    <tr>\n",
       "      <th>_id</th>\n",
       "      <th></th>\n",
       "      <th></th>\n",
       "      <th></th>\n",
       "      <th></th>\n",
       "      <th></th>\n",
       "      <th></th>\n",
       "      <th></th>\n",
       "      <th></th>\n",
       "      <th></th>\n",
       "      <th></th>\n",
       "      <th></th>\n",
       "      <th></th>\n",
       "      <th></th>\n",
       "      <th></th>\n",
       "      <th></th>\n",
       "      <th></th>\n",
       "      <th></th>\n",
       "      <th></th>\n",
       "      <th></th>\n",
       "      <th></th>\n",
       "      <th></th>\n",
       "    </tr>\n",
       "  </thead>\n",
       "  <tbody>\n",
       "    <tr>\n",
       "      <th>0001fdb89ad0ffac6ab432b288b93e91</th>\n",
       "      <td>60.10</td>\n",
       "      <td>0.52</td>\n",
       "      <td>19.17</td>\n",
       "      <td>65.28</td>\n",
       "      <td>193</td>\n",
       "      <td>10.72</td>\n",
       "      <td>1.55</td>\n",
       "      <td>3.63</td>\n",
       "      <td>5.18</td>\n",
       "      <td>3.11</td>\n",
       "      <td>...</td>\n",
       "      <td>0.000250</td>\n",
       "      <td>0.001027</td>\n",
       "      <td>0.000572</td>\n",
       "      <td>5.600408e-05</td>\n",
       "      <td>0.001000</td>\n",
       "      <td>0.010404</td>\n",
       "      <td>7.77</td>\n",
       "      <td>0.00</td>\n",
       "      <td>2.07</td>\n",
       "      <td>1.04</td>\n",
       "    </tr>\n",
       "    <tr>\n",
       "      <th>0002c57d0324030950fb043fbdbd9131</th>\n",
       "      <td>29.52</td>\n",
       "      <td>0.12</td>\n",
       "      <td>18.16</td>\n",
       "      <td>57.20</td>\n",
       "      <td>1619</td>\n",
       "      <td>23.13</td>\n",
       "      <td>0.68</td>\n",
       "      <td>0.62</td>\n",
       "      <td>2.96</td>\n",
       "      <td>0.74</td>\n",
       "      <td>...</td>\n",
       "      <td>0.000019</td>\n",
       "      <td>0.076920</td>\n",
       "      <td>0.096644</td>\n",
       "      <td>4.322106e-06</td>\n",
       "      <td>0.005200</td>\n",
       "      <td>0.013244</td>\n",
       "      <td>3.95</td>\n",
       "      <td>0.19</td>\n",
       "      <td>1.24</td>\n",
       "      <td>0.25</td>\n",
       "    </tr>\n",
       "    <tr>\n",
       "      <th>0008f3e295599e6a9959658ba6175146</th>\n",
       "      <td>29.52</td>\n",
       "      <td>0.12</td>\n",
       "      <td>18.16</td>\n",
       "      <td>57.20</td>\n",
       "      <td>1619</td>\n",
       "      <td>23.13</td>\n",
       "      <td>0.68</td>\n",
       "      <td>0.62</td>\n",
       "      <td>2.96</td>\n",
       "      <td>0.74</td>\n",
       "      <td>...</td>\n",
       "      <td>0.000019</td>\n",
       "      <td>0.076920</td>\n",
       "      <td>0.096644</td>\n",
       "      <td>4.322106e-06</td>\n",
       "      <td>0.005200</td>\n",
       "      <td>0.013244</td>\n",
       "      <td>3.95</td>\n",
       "      <td>0.19</td>\n",
       "      <td>1.24</td>\n",
       "      <td>0.25</td>\n",
       "    </tr>\n",
       "    <tr>\n",
       "      <th>000ed674f6b42bc225cb97494b97717f</th>\n",
       "      <td>85.22</td>\n",
       "      <td>0.29</td>\n",
       "      <td>12.24</td>\n",
       "      <td>9.46</td>\n",
       "      <td>33444</td>\n",
       "      <td>45.26</td>\n",
       "      <td>1.27</td>\n",
       "      <td>7.19</td>\n",
       "      <td>8.64</td>\n",
       "      <td>1.14</td>\n",
       "      <td>...</td>\n",
       "      <td>0.000002</td>\n",
       "      <td>0.000007</td>\n",
       "      <td>0.000004</td>\n",
       "      <td>3.688820e-07</td>\n",
       "      <td>0.000069</td>\n",
       "      <td>0.000006</td>\n",
       "      <td>13.96</td>\n",
       "      <td>0.69</td>\n",
       "      <td>1.35</td>\n",
       "      <td>3.30</td>\n",
       "    </tr>\n",
       "    <tr>\n",
       "      <th>001159bbcef08a6072036c4ea8ad9106</th>\n",
       "      <td>85.22</td>\n",
       "      <td>0.29</td>\n",
       "      <td>12.24</td>\n",
       "      <td>9.46</td>\n",
       "      <td>33444</td>\n",
       "      <td>45.26</td>\n",
       "      <td>1.27</td>\n",
       "      <td>7.19</td>\n",
       "      <td>8.64</td>\n",
       "      <td>1.14</td>\n",
       "      <td>...</td>\n",
       "      <td>0.000002</td>\n",
       "      <td>0.000007</td>\n",
       "      <td>0.000004</td>\n",
       "      <td>3.688820e-07</td>\n",
       "      <td>0.000069</td>\n",
       "      <td>0.000006</td>\n",
       "      <td>13.96</td>\n",
       "      <td>0.69</td>\n",
       "      <td>1.35</td>\n",
       "      <td>3.30</td>\n",
       "    </tr>\n",
       "  </tbody>\n",
       "</table>\n",
       "<p>5 rows × 1900 columns</p>\n",
       "</div>"
      ],
      "text/plain": [
       "                                    Dic  Qmarks  Sixltr  Unique     WC    WPS  \\\n",
       "_id                                                                             \n",
       "0001fdb89ad0ffac6ab432b288b93e91  60.10    0.52   19.17   65.28    193  10.72   \n",
       "0002c57d0324030950fb043fbdbd9131  29.52    0.12   18.16   57.20   1619  23.13   \n",
       "0008f3e295599e6a9959658ba6175146  29.52    0.12   18.16   57.20   1619  23.13   \n",
       "000ed674f6b42bc225cb97494b97717f  85.22    0.29   12.24    9.46  33444  45.26   \n",
       "001159bbcef08a6072036c4ea8ad9106  85.22    0.29   12.24    9.46  33444  45.26   \n",
       "\n",
       "                                  achieve  adverb  affect  anger  ...   \\\n",
       "_id                                                               ...    \n",
       "0001fdb89ad0ffac6ab432b288b93e91     1.55    3.63    5.18   3.11  ...    \n",
       "0002c57d0324030950fb043fbdbd9131     0.68    0.62    2.96   0.74  ...    \n",
       "0008f3e295599e6a9959658ba6175146     0.68    0.62    2.96   0.74  ...    \n",
       "000ed674f6b42bc225cb97494b97717f     1.27    7.19    8.64   1.14  ...    \n",
       "001159bbcef08a6072036c4ea8ad9106     1.27    7.19    8.64   1.14  ...    \n",
       "\n",
       "                                  topic_49   topic_5   topic_6       topic_7  \\\n",
       "_id                                                                            \n",
       "0001fdb89ad0ffac6ab432b288b93e91  0.000250  0.001027  0.000572  5.600408e-05   \n",
       "0002c57d0324030950fb043fbdbd9131  0.000019  0.076920  0.096644  4.322106e-06   \n",
       "0008f3e295599e6a9959658ba6175146  0.000019  0.076920  0.096644  4.322106e-06   \n",
       "000ed674f6b42bc225cb97494b97717f  0.000002  0.000007  0.000004  3.688820e-07   \n",
       "001159bbcef08a6072036c4ea8ad9106  0.000002  0.000007  0.000004  3.688820e-07   \n",
       "\n",
       "                                   topic_8   topic_9   verb    we  work   you  \n",
       "_id                                                                            \n",
       "0001fdb89ad0ffac6ab432b288b93e91  0.001000  0.010404   7.77  0.00  2.07  1.04  \n",
       "0002c57d0324030950fb043fbdbd9131  0.005200  0.013244   3.95  0.19  1.24  0.25  \n",
       "0008f3e295599e6a9959658ba6175146  0.005200  0.013244   3.95  0.19  1.24  0.25  \n",
       "000ed674f6b42bc225cb97494b97717f  0.000069  0.000006  13.96  0.69  1.35  3.30  \n",
       "001159bbcef08a6072036c4ea8ad9106  0.000069  0.000006  13.96  0.69  1.35  3.30  \n",
       "\n",
       "[5 rows x 1900 columns]"
      ]
     },
     "execution_count": 33,
     "metadata": {},
     "output_type": "execute_result"
    }
   ],
   "source": [
    "wholeDataset = foursquare5Months\n",
    "for i in [instagramWhole, twitterLDA50, twitterLIWC, twitterManual]:\n",
    "    wholeDataset = wholeDataset.add(i, fill_value=0)\n",
    "wholeDataset.fillna(method='ffill', inplace=True)\n",
    "wholeDataset.head()"
   ]
  },
  {
   "cell_type": "code",
   "execution_count": 34,
   "metadata": {
    "collapsed": false
   },
   "outputs": [
    {
     "data": {
      "text/plain": [
       "0.7853604728604728"
      ]
     },
     "execution_count": 34,
     "metadata": {},
     "output_type": "execute_result"
    }
   ],
   "source": [
    "genderWholeClf = RandomForestClassifier(n_estimators=sum(data[1] for data in lateFusionGender), n_jobs=4)\n",
    "wholeDatasetGender = wholeDataset.loc[facebookGenderOther.index].dropna()\n",
    "genderWholeClf.fit(wholeDatasetGender, facebookGenderOther.loc[wholeDatasetGender.index])\n",
    "macro_accuracy(facebookReliableGender, genderWholeClf.predict(wholeDataset.loc[facebookReliableGender.index]))"
   ]
  },
  {
   "cell_type": "code",
   "execution_count": 35,
   "metadata": {
    "collapsed": false
   },
   "outputs": [
    {
     "data": {
      "text/plain": [
       "0.3069918699186992"
      ]
     },
     "execution_count": 35,
     "metadata": {},
     "output_type": "execute_result"
    }
   ],
   "source": [
    "ageWholeClf = RandomForestClassifier(n_estimators=sum(data[1] for data in lateFusionGender), n_jobs=4)\n",
    "wholeDatasetAge = wholeDataset.loc[facebookAgeGroupOther.index].dropna()\n",
    "ageWholeClf.fit(wholeDatasetAge, facebookAgeGroupOther.loc[wholeDatasetAge.index])\n",
    "macro_accuracy(facebookAgeGroupReliable, ageWholeClf.predict(wholeDataset.loc[facebookAgeGroupReliable.index]))"
   ]
  },
  {
   "cell_type": "code",
   "execution_count": 36,
   "metadata": {
    "collapsed": true
   },
   "outputs": [],
   "source": [
    "import pickle"
   ]
  },
  {
   "cell_type": "code",
   "execution_count": 37,
   "metadata": {
    "collapsed": true
   },
   "outputs": [],
   "source": [
    "with open('genderWholeClf.dat', 'wb') as f: pickle.dump(genderWholeClf, f)\n",
    "with open('ageTwitterLDAClf.dat', 'wb') as f: pickle.dump(singleTrainTestAge[2], f)"
   ]
  },
  {
   "cell_type": "code",
   "execution_count": 39,
   "metadata": {
    "collapsed": true
   },
   "outputs": [],
   "source": [
    "from random import choice, randint"
   ]
  },
  {
   "cell_type": "code",
   "execution_count": 66,
   "metadata": {
    "collapsed": false
   },
   "outputs": [
    {
     "name": "stdout",
     "output_type": "stream",
     "text": [
      "[ 0.609  1.     1.     1.     1.   ] 0.9246804370603202 0.9250621164496332\n"
     ]
    },
    {
     "data": {
      "text/plain": [
       "0.32658536585365855"
      ]
     },
     "execution_count": 66,
     "metadata": {},
     "output_type": "execute_result"
    }
   ],
   "source": [
    "def increase_dim(w):\n",
    "    w = np.expand_dims(w, axis=1)\n",
    "    res = w.copy()\n",
    "    for i in range(1, 5):\n",
    "        res = np.append(res, w, axis=1)\n",
    "    return res\n",
    "\n",
    "wAge = np.array([1.] * 5)\n",
    "wValues = (estimatesTrainAge * increase_dim(wAge)).mean(axis=1).argmax(axis=1)\n",
    "wError = macro_accuracy(facebookAgeGroupOther, wValues)\n",
    "dirs = set(range(5))\n",
    "stepstep = 0.001\n",
    "step = stepstep\n",
    "for i in range(10000):\n",
    "    crd = choice(list(dirs))\n",
    "    dw = np.array([0 if i != crd else step * (randint(0,1) * 2 - 1) for i in range(5)])\n",
    "    #dw = np.array([step * (randint(0,2) * 2 - 1) for i in range(5)])\n",
    "    #dw = np.array([np.random.normal(0, step) for i in range(5)])\n",
    "    #dw = np.array([0 if i != crd else np.random.normal(0, step) for i in range(5)])\n",
    "    wdwValue = (estimatesTrainAge * increase_dim(wAge + dw)).mean(axis=1).argmax(axis=1)\n",
    "    wdwError = macro_accuracy(facebookAgeGroupOther, wdwValue)\n",
    "    if wdwError > wError:\n",
    "        wAge = wAge + dw\n",
    "        print(wAge, wError, wdwError)\n",
    "        wError = wdwError\n",
    "        dirs = set(range(5))\n",
    "        step = stepstep\n",
    "    else:\n",
    "        dirs.remove(crd)\n",
    "    if not dirs:\n",
    "        step += stepstep\n",
    "        dirs = set(range(5))\n",
    "wValues = (estimatesTestAge * increase_dim(wAge)).mean(axis=1).argmax(axis=1)\n",
    "wError = macro_accuracy(facebookAgeGroupReliable, wValues)\n",
    "wError"
   ]
  }
 ],
 "metadata": {
  "kernelspec": {
   "display_name": "Python 3",
   "language": "python",
   "name": "python3"
  },
  "language_info": {
   "codemirror_mode": {
    "name": "ipython",
    "version": 3
   },
   "file_extension": ".py",
   "mimetype": "text/x-python",
   "name": "python",
   "nbconvert_exporter": "python",
   "pygments_lexer": "ipython3",
   "version": "3.5.2"
  }
 },
 "nbformat": 4,
 "nbformat_minor": 0
}
